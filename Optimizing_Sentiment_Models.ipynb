{
  "cells": [
    {
      "cell_type": "markdown",
      "metadata": {
        "id": "view-in-github",
        "colab_type": "text"
      },
      "source": [
        "<a href=\"https://colab.research.google.com/github/PhanChenh/Optimizing_Sentiment_Models_NLPproject/blob/main/Optimizing_Sentiment_Models.ipynb\" target=\"_parent\"><img src=\"https://colab.research.google.com/assets/colab-badge.svg\" alt=\"Open In Colab\"/></a>"
      ]
    },
    {
      "cell_type": "markdown",
      "source": [
        "# Project Title: Optimizing Sentiment Analysis Models for Accurate Predictions"
      ],
      "metadata": {
        "id": "If6i4Bk424Dy"
      }
    },
    {
      "cell_type": "markdown",
      "source": [
        "## Project Objectives:\n",
        "Evaluate and compare the performance of various word embeddings and seq2seq models for sentiment analysis. The aim is to identify the best-performing models and configurations for analyzing customer sentiment."
      ],
      "metadata": {
        "id": "R_xVI5_HC1Sb"
      }
    },
    {
      "cell_type": "markdown",
      "source": [
        "## Project structure:\n",
        "Outline the models and embeddings being tested: GloVe, Word2Vec (CBOW and Skipgram), FastText (CBOW and Skipgram), and Seq2Seq models (LSTM with different configurations), as well as the RNN and GRU models in the ablation study\n",
        "\n",
        "Text Preprocessing & Data Preparation:\n",
        "- Clean the review data by removing noise such as special characters, stop words, and any irrelevant information to prepare the text for analysis.\n",
        "\n",
        "Word Embeddings:\n",
        "- GloVe: Description of the GloVe word embeddings and how they are utilized in the model.\n",
        "- Word2Vec (CBOW and Skipgram): Explanation of the Continuous Bag of Words (CBOW) and Skipgram models, highlighting their differences and how they represent word relationships.\n",
        "- FastText (CBOW and Skipgram): Introduction to FastText, its ability to represent out-of-vocabulary words, and how it improves upon Word2Vec.\n",
        "\n",
        "Seq2Seq Models:\n",
        "- LSTM with Different Location Aspect: Description of the LSTM architecture, focusing on the addition of location-based aspects.\n",
        "- LSTM with Attention: Explanation of the attention mechanism in LSTM to focus on relevant parts of the sequence while making predictions.\n",
        "- LSTM with Double Attention: Introduce the concept of double attention, where attention mechanisms are applied at both the word and sentence levels to improve sentiment understanding.\n",
        "\n",
        "Ablation Study:\n",
        "- RNN Model: A basic Recurrent Neural Network model to establish a baseline for comparison.\n",
        "- GRU Model: Description of the GRU model and how it differs from LSTM, focusing on its simpler architecture and potential efficiency in training."
      ],
      "metadata": {
        "id": "Rc99JWrS57H6"
      }
    },
    {
      "cell_type": "markdown",
      "metadata": {
        "id": "KMV_ttWtciUr"
      },
      "source": [
        "If you run into the error indicates that torch (PyTorch) is not available for your Python version or platform through pip. Please run the code in google colab"
      ]
    },
    {
      "cell_type": "code",
      "execution_count": null,
      "metadata": {
        "colab": {
          "base_uri": "https://localhost:8080/"
        },
        "id": "xydz_vx5dnjw",
        "outputId": "866ecd6f-37e7-4a46-e251-c7c86206e00b"
      },
      "outputs": [
        {
          "output_type": "stream",
          "name": "stdout",
          "text": [
            "Mounted at /content/drive\n"
          ]
        }
      ],
      "source": [
        "from google.colab import drive\n",
        "drive.mount('/content/drive')"
      ]
    },
    {
      "cell_type": "markdown",
      "metadata": {
        "id": "8e1M5QzwF7vT"
      },
      "source": [
        "# Import necessary libraries"
      ]
    },
    {
      "cell_type": "code",
      "execution_count": null,
      "metadata": {
        "colab": {
          "base_uri": "https://localhost:8080/"
        },
        "id": "KBUtAqhjmesC",
        "outputId": "a9d25303-81d6-4759-ccdb-e0be6b0a20bd"
      },
      "outputs": [
        {
          "name": "stderr",
          "output_type": "stream",
          "text": [
            "[nltk_data] Downloading package punkt to /root/nltk_data...\n",
            "[nltk_data]   Unzipping tokenizers/punkt.zip.\n",
            "[nltk_data] Downloading package stopwords to /root/nltk_data...\n",
            "[nltk_data]   Unzipping corpora/stopwords.zip.\n"
          ]
        }
      ],
      "source": [
        "import pandas as pd\n",
        "from collections import Counter\n",
        "import numpy as np\n",
        "import gensim.downloader as api\n",
        "from gensim.models import Word2Vec\n",
        "from gensim.models import FastText\n",
        "from nltk.corpus import stopwords\n",
        "import json\n",
        "import re\n",
        "import nltk\n",
        "from sklearn.metrics import confusion_matrix\n",
        "from sklearn.metrics import accuracy_score, precision_score, recall_score, f1_score, fbeta_score\n",
        "from sklearn.metrics import classification_report\n",
        "import torch\n",
        "import torch.nn as nn\n",
        "import torch.nn.functional as F\n",
        "import torch.optim as optim\n",
        "import torchtext\n",
        "from nltk.stem.snowball import SnowballStemmer\n",
        "nltk.download('punkt')\n",
        "nltk.download('stopwords')\n",
        "from nltk.tokenize import word_tokenize\n",
        "import matplotlib.pyplot as plt\n",
        "import seaborn as sns\n",
        "\n"
      ]
    },
    {
      "cell_type": "markdown",
      "metadata": {
        "id": "Jx_mxCzXlDBu"
      },
      "source": [
        "## Preprocessing"
      ]
    },
    {
      "cell_type": "markdown",
      "metadata": {
        "id": "yO9x93Ki_hpF"
      },
      "source": [
        "In this section, preprocessing will be done. Given test, validation and test dataset, the test and validation dataset will be combined into one big train dataset which will be used to predict the test dataset."
      ]
    },
    {
      "cell_type": "code",
      "execution_count": null,
      "metadata": {
        "id": "Z_7REql7mSjQ"
      },
      "outputs": [],
      "source": [
        "## read dataset - connect to google drive account\n",
        "\n",
        "train = open(\"drive/MyDrive/nlp_data/train.json\")\n",
        "val = open(\"drive/MyDrive/nlp_data/val.json\")\n",
        "test = open(\"drive/MyDrive/nlp_data/test.json\")\n"
      ]
    },
    {
      "cell_type": "code",
      "execution_count": null,
      "metadata": {
        "id": "KGFKYLCRnOfi"
      },
      "outputs": [],
      "source": [
        "train_data = json.load(train)\n",
        "val_data = json.load(val)\n",
        "test_data = json.load(test)"
      ]
    },
    {
      "cell_type": "code",
      "execution_count": null,
      "metadata": {
        "colab": {
          "base_uri": "https://localhost:8080/"
        },
        "id": "E-i8PkgunOi1",
        "outputId": "ca5f11e6-fdcc-4f0b-9aaa-8f15d9106753"
      },
      "outputs": [
        {
          "data": {
            "text/plain": [
              "8879"
            ]
          },
          "execution_count": 5,
          "metadata": {},
          "output_type": "execute_result"
        }
      ],
      "source": [
        "len(val_data[\"data\"]) + len(train_data[\"data\"])+len(test_data[\"data\"])"
      ]
    },
    {
      "cell_type": "code",
      "execution_count": null,
      "metadata": {
        "id": "gAr-5REcnOmE"
      },
      "outputs": [],
      "source": [
        "## we will only use train and test dataset. Therefore, validation dataset will be combined with training dataset\n",
        "\n",
        "\n",
        "### Training\n",
        "train_reviews = []\n",
        "train_aspects = []\n",
        "train_label = []\n",
        "for i in train_data[\"data\"]:\n",
        "  train_reviews.append(i[0])\n",
        "  train_aspects.append(i[1])\n",
        "  train_label.append(i[2])\n",
        "\n",
        "for i in val_data[\"data\"]:\n",
        "  train_reviews.append(i[0])\n",
        "  train_aspects.append(i[1])\n",
        "  train_label.append(i[2])\n",
        "\n",
        "\n",
        "### Testing\n",
        "test_reviews = []\n",
        "test_aspects = []\n",
        "test_label = []\n",
        "for i in test_data[\"data\"]:\n",
        "  test_reviews.append(i[0])\n",
        "  test_aspects.append(i[1])\n",
        "  test_label.append(i[2])\n"
      ]
    },
    {
      "cell_type": "code",
      "execution_count": null,
      "metadata": {
        "id": "ZWcS3Bx6i3S7"
      },
      "outputs": [],
      "source": [
        "eda_train_aspect = {}\n",
        "for i in train_data[\"data\"]:\n",
        "    aspect = str(i[1])+\"_\"+str(i[2])\n",
        "    if aspect not in eda_train_aspect:\n",
        "        eda_train_aspect[aspect] = 1\n",
        "    else:\n",
        "        eda_train_aspect[aspect] += 1\n",
        "\n",
        "eda_val_aspect = {}\n",
        "for i in val_data[\"data\"]:\n",
        "    aspect = str(i[1])+\"_\"+str(i[2])\n",
        "    if aspect not in eda_val_aspect:\n",
        "        eda_val_aspect[aspect] = 1\n",
        "    else:\n",
        "        eda_val_aspect[aspect] += 1\n",
        "\n",
        "eda_test_aspect = {}\n",
        "for i in test_data[\"data\"]:\n",
        "    aspect = str(i[1])+\"_\"+str(i[2])\n",
        "    if aspect not in eda_test_aspect:\n",
        "        eda_test_aspect[aspect] = 1\n",
        "    else:\n",
        "        eda_test_aspect[aspect] += 1\n"
      ]
    },
    {
      "cell_type": "code",
      "execution_count": null,
      "metadata": {
        "colab": {
          "base_uri": "https://localhost:8080/"
        },
        "id": "Yp4Pn9UJjshd",
        "outputId": "dddb320f-fa2e-406e-b1ac-e14eff99b3e4"
      },
      "outputs": [
        {
          "name": "stdout",
          "output_type": "stream",
          "text": [
            "----------------------\n",
            "Train\n",
            "----------------------\n",
            "food_positive = 754\n",
            "place_neutral = 430\n",
            "staff_positive = 332\n",
            "miscellaneous_neutral = 531\n",
            "staff_negative = 922\n",
            "service_negative = 329\n",
            "miscellaneous_negative = 196\n",
            "food_neutral = 1298\n",
            "price_positive = 72\n",
            "miscellaneous_positive = 227\n",
            "food_negative = 255\n",
            "menu_positive = 64\n",
            "place_positive = 125\n",
            "ambience_neutral = 53\n",
            "service_neutral = 128\n",
            "menu_neutral = 372\n",
            "ambience_negative = 90\n",
            "service_positive = 174\n",
            "price_negative = 114\n",
            "place_negative = 139\n",
            "ambience_positive = 181\n",
            "price_neutral = 136\n",
            "staff_neutral = 129\n",
            "menu_negative = 39\n",
            "----------------------\n",
            "Val\n",
            "----------------------\n",
            "miscellaneous_neutral = 73\n",
            "food_positive = 88\n",
            "staff_negative = 119\n",
            "food_neutral = 180\n",
            "service_negative = 39\n",
            "service_neutral = 20\n",
            "food_negative = 22\n",
            "menu_neutral = 41\n",
            "place_neutral = 42\n",
            "staff_positive = 34\n",
            "price_neutral = 17\n",
            "menu_negative = 3\n",
            "staff_neutral = 12\n",
            "service_positive = 25\n",
            "place_positive = 25\n",
            "ambience_positive = 21\n",
            "price_negative = 20\n",
            "miscellaneous_negative = 23\n",
            "price_positive = 8\n",
            "menu_positive = 7\n",
            "miscellaneous_positive = 33\n",
            "ambience_negative = 12\n",
            "place_negative = 21\n",
            "ambience_neutral = 3\n",
            "----------------------\n",
            "Test\n",
            "----------------------\n",
            "place_neutral = 47\n",
            "food_negative = 37\n",
            "food_positive = 96\n",
            "service_negative = 34\n",
            "staff_negative = 113\n",
            "miscellaneous_neutral = 88\n",
            "food_neutral = 158\n",
            "price_negative = 12\n",
            "menu_neutral = 60\n",
            "place_positive = 12\n",
            "ambience_negative = 19\n",
            "place_negative = 22\n",
            "miscellaneous_positive = 26\n",
            "staff_positive = 46\n",
            "service_neutral = 14\n",
            "ambience_positive = 13\n",
            "price_positive = 10\n",
            "menu_positive = 12\n",
            "staff_neutral = 10\n",
            "miscellaneous_negative = 22\n",
            "service_positive = 30\n",
            "price_neutral = 16\n",
            "menu_negative = 4\n"
          ]
        }
      ],
      "source": [
        "print(\"----------------------\")\n",
        "print(\"Train\")\n",
        "print(\"----------------------\")\n",
        "for i in eda_train_aspect:\n",
        "  print(i + \" = \" + str(eda_train_aspect[i]))\n",
        "\n",
        "print(\"----------------------\")\n",
        "print(\"Val\")\n",
        "print(\"----------------------\")\n",
        "for i in eda_val_aspect:\n",
        "  print(i + \" = \" + str(eda_val_aspect[i]))\n",
        "\n",
        "print(\"----------------------\")\n",
        "print(\"Test\")\n",
        "print(\"----------------------\")\n",
        "for i in eda_test_aspect:\n",
        "  print(i + \" = \" + str(eda_test_aspect[i]))"
      ]
    },
    {
      "cell_type": "markdown",
      "metadata": {
        "id": "YhrdRdW5ABOt"
      },
      "source": [
        "The cleaning process for each dataset will be done in the following chunk of codes. At first, all contradiction words will be replaced and followed by puctuation and digits removal. After that, each sentence input will be tokenized."
      ]
    },
    {
      "cell_type": "code",
      "execution_count": null,
      "metadata": {
        "id": "BOZWJ_SgH8Q6"
      },
      "outputs": [],
      "source": [
        "contraction_dict = {\"ain't\": \"is not\", \"aren't\": \"are not\",\"can't\": \"cannot\", \"'cause\": \"because\", \"could've\": \"could have\",\n",
        "                    \"couldn't\": \"could not\", \"didn't\": \"did not\",  \"doesn't\": \"does not\", \"don't\": \"do not\", \"hadn't\": \"had not\",\n",
        "                    \"hasn't\": \"has not\", \"haven't\": \"have not\", \"he'd\": \"he would\",\"he'll\": \"he will\", \"he's\": \"he is\", \"how'd\": \"how did\",\n",
        "                    \"how'd'y\": \"how do you\", \"how'll\": \"how will\", \"how's\": \"how is\",  \"I'd\": \"I would\", \"I'd've\": \"I would have\",\n",
        "                    \"I'll\": \"I will\", \"I'll've\": \"I will have\",\"I'm\": \"I am\", \"I've\": \"I have\", \"i'd\": \"i would\", \"i'd've\": \"i would have\",\n",
        "                    \"i'll\": \"i will\",  \"i'll've\": \"i will have\",\"i'm\": \"i am\", \"i've\": \"i have\", \"isn't\": \"is not\", \"it'd\": \"it would\",\n",
        "                    \"it'd've\": \"it would have\", \"it'll\": \"it will\", \"it'll've\": \"it will have\",\"it's\": \"it is\", \"let's\": \"let us\",\n",
        "                    \"ma'am\": \"madam\", \"mayn't\": \"may not\", \"might've\": \"might have\",\"mightn't\": \"might not\",\"mightn't've\": \"might not have\",\n",
        "                    \"must've\": \"must have\", \"mustn't\": \"must not\", \"mustn't've\": \"must not have\", \"needn't\": \"need not\", \"needn't've\": \"need not have\",\n",
        "                    \"o'clock\": \"of the clock\", \"oughtn't\": \"ought not\", \"oughtn't've\": \"ought not have\", \"shan't\": \"shall not\", \"sha'n't\": \"shall not\",\n",
        "                    \"shan't've\": \"shall not have\", \"she'd\": \"she would\", \"she'd've\": \"she would have\", \"she'll\": \"she will\", \"she'll've\": \"she will have\",\n",
        "                    \"she's\": \"she is\", \"should've\": \"should have\", \"shouldn't\": \"should not\", \"shouldn't've\": \"should not have\", \"so've\": \"so have\",\n",
        "                    \"so's\": \"so as\", \"this's\": \"this is\",\"that'd\": \"that would\", \"that'd've\": \"that would have\", \"that's\": \"that is\", \"there'd\": \"there would\",\n",
        "                    \"there'd've\": \"there would have\", \"there's\": \"there is\", \"here's\": \"here is\",\"they'd\": \"they would\", \"they'd've\": \"they would have\",\n",
        "                    \"they'll\": \"they will\", \"they'll've\": \"they will have\", \"they're\": \"they are\", \"they've\": \"they have\", \"to've\": \"to have\", \"wasn't\": \"was not\",\n",
        "                    \"we'd\": \"we would\", \"we'd've\": \"we would have\", \"we'll\": \"we will\", \"we'll've\": \"we will have\", \"we're\": \"we are\", \"we've\": \"we have\",\n",
        "                    \"weren't\": \"were not\", \"what'll\": \"what will\", \"what'll've\": \"what will have\", \"what're\": \"what are\",  \"what's\": \"what is\", \"what've\": \"what have\",\n",
        "                    \"when's\": \"when is\", \"when've\": \"when have\", \"where'd\": \"where did\", \"where's\": \"where is\", \"where've\": \"where have\", \"who'll\": \"who will\",\n",
        "                    \"who'll've\": \"who will have\", \"who's\": \"who is\", \"who've\": \"who have\", \"why's\": \"why is\", \"why've\": \"why have\", \"will've\": \"will have\",\n",
        "                    \"won't\": \"will not\", \"won't've\": \"will not have\", \"would've\": \"would have\", \"wouldn't\": \"would not\", \"wouldn't've\": \"would not have\",\n",
        "                    \"y'all\": \"you all\", \"y'all'd\": \"you all would\",\"y'all'd've\": \"you all would have\",\"y'all're\": \"you all are\",\"y'all've\": \"you all have\",\n",
        "                    \"you'd\": \"you would\", \"you'd've\": \"you would have\", \"you'll\": \"you will\", \"you'll've\": \"you will have\", \"you're\": \"you are\", \"you've\": \"you have\"}\n",
        "\n",
        "def cleaning_process(data):\n",
        "  stop_words = set(stopwords.words('english'))\n",
        "  output = []\n",
        "  for sent in data:\n",
        "      token_sent = []\n",
        "      sent = sent.lower() #case-folding\n",
        "      for word, new_word in contraction_dict.items():\n",
        "          sent = sent.replace(word, new_word) #dealing with contractions\n",
        "      sent = re.sub(r'[^\\w\\s]','',sent) #removing punctuation\n",
        "      sent = re.sub(r\"\\d\", '', sent) ##removing digit\n",
        "      for word in sent.split():\n",
        "          if word not in stop_words and word != '':\n",
        "            token_sent.append(word)\n",
        "      output.append(token_sent)\n",
        "\n",
        "  return output\n",
        "\n",
        "\n",
        "train_reviews = cleaning_process(train_reviews)\n",
        "test_reviews = cleaning_process(test_reviews)\n",
        "## no need to clean for aspect as its already in lower case\n",
        "\n",
        "\n",
        "## create list of words\n",
        "words = set([])\n",
        "for s in train_reviews:\n",
        "    for w in s:\n",
        "        words.add(w.lower())\n",
        "\n",
        "\n",
        "for s in test_reviews:\n",
        "    for w in s:\n",
        "        words.add(w.lower())\n",
        "\n",
        "for w in train_aspects:\n",
        "    words.add(w.lower())\n"
      ]
    },
    {
      "cell_type": "markdown",
      "metadata": {
        "id": "KFxrOIUMAcfP"
      },
      "source": [
        "As all the input sentences need to have the same length, maximum padding need to be find out first."
      ]
    },
    {
      "cell_type": "code",
      "execution_count": null,
      "metadata": {
        "colab": {
          "base_uri": "https://localhost:8080/"
        },
        "id": "RhYyodXEmr1q",
        "outputId": "0da4dde3-f37f-4f71-dee7-5b1853710581"
      },
      "outputs": [
        {
          "name": "stdout",
          "output_type": "stream",
          "text": [
            "Maximum number of words in train data: 40\n",
            "Maximum number of words in test data: 28\n"
          ]
        }
      ],
      "source": [
        "## Find out the max embedding\n",
        "\n",
        "def word_counter(sentences):\n",
        "  max_words = 0\n",
        "  for sentence in sentences:\n",
        "      max_words = max(max_words, len(sentence))\n",
        "  return max_words\n",
        "\n",
        "print(\"Maximum number of words in train data:\", word_counter(train_reviews))\n",
        "print(\"Maximum number of words in test data:\", word_counter(test_reviews))\n",
        "### 67 embedding is the result"
      ]
    },
    {
      "cell_type": "code",
      "execution_count": null,
      "metadata": {
        "id": "e6AAF9nBmzZZ"
      },
      "outputs": [],
      "source": [
        "max_length = 40"
      ]
    },
    {
      "cell_type": "markdown",
      "metadata": {
        "id": "2JUo2aqGAura"
      },
      "source": [
        "Now, We also need to encode the label to be one hot."
      ]
    },
    {
      "cell_type": "code",
      "execution_count": null,
      "metadata": {
        "id": "JbLQN7aCJxuL"
      },
      "outputs": [],
      "source": [
        "## Label output\n",
        "sentiment_mapping = {'positive': [1, 0, 0],\n",
        "                     'neutral': [0, 1, 0],\n",
        "                     'negative': [0, 0, 1]}\n",
        "\n",
        "label_train_torch = torch.tensor( [sentiment_mapping[sentiment] for sentiment in train_label], dtype=torch.float32)\n",
        "label_test_torch = torch.tensor([sentiment_mapping[sentiment] for sentiment in test_label], dtype=torch.float32)"
      ]
    },
    {
      "cell_type": "markdown",
      "metadata": {
        "id": "YHfNtQr3A6GS"
      },
      "source": [
        "We will try to create 5 different inputs for the ablation study, which are word embedding from Glove, Word2vec Cbow, Word2Vec Skipgram, FastText Cbow, and FastText skipgram."
      ]
    },
    {
      "cell_type": "markdown",
      "metadata": {
        "id": "LuL-qFRGrOB-"
      },
      "source": [
        "## GLOVE"
      ]
    },
    {
      "cell_type": "markdown",
      "metadata": {
        "id": "WSPSQxFpBUAU"
      },
      "source": [
        "For glove embedding, we will use the pre trained word embedding embedding of wikipedia words that has 50 dimension from glove."
      ]
    },
    {
      "cell_type": "code",
      "execution_count": null,
      "metadata": {
        "colab": {
          "base_uri": "https://localhost:8080/"
        },
        "id": "C-DkVsI7gIXA",
        "outputId": "f0f3c924-02f4-42f3-ed91-181db6344c56"
      },
      "outputs": [
        {
          "name": "stdout",
          "output_type": "stream",
          "text": [
            "[==================================================] 100.0% 66.0/66.0MB downloaded\n"
          ]
        }
      ],
      "source": [
        "embeddings_index = api.load(\"glove-wiki-gigaword-50\")"
      ]
    },
    {
      "cell_type": "code",
      "execution_count": null,
      "metadata": {
        "id": "ddFsP-rgoRxq"
      },
      "outputs": [],
      "source": [
        "stemmer = SnowballStemmer(\"english\") ## initialized stemmer"
      ]
    },
    {
      "cell_type": "code",
      "execution_count": null,
      "metadata": {
        "id": "86ZrimtlB5nx"
      },
      "outputs": [],
      "source": [
        "### Each words will be stemeed to find out the original root of the word first before putting it into glove vectors.\n",
        "### All the unknown words will be represented by the mean of all the vectors in the sentences.\n",
        "def text_embed_glove(words, glove_embedding, max_length):\n",
        "\n",
        "    unknown_indices = []\n",
        "    result = np.zeros(50*max_length).reshape((max_length,50))\n",
        "    mean = np.zeros(50)\n",
        "\n",
        "    for i in range(len(words)):\n",
        "        root = stemmer.stem(words[i])\n",
        "        if root != \"\":\n",
        "\n",
        "          if root in glove_embedding:\n",
        "\n",
        "              result[i] = glove_embedding[root]\n",
        "              mean += result[i]\n",
        "          else:\n",
        "              unknown_indices.append(i)\n",
        "        else:\n",
        "          unknown_indices.append(i)\n",
        "    mean /= len(words)-len(unknown_indices)\n",
        "\n",
        "    # unknown words in the text are represented using the mean of the known words\n",
        "    for i in unknown_indices:\n",
        "        result[i] = mean\n",
        "\n",
        "    return np.array(result)\n"
      ]
    },
    {
      "cell_type": "code",
      "execution_count": null,
      "metadata": {
        "id": "-Y65IkudB5vD"
      },
      "outputs": [],
      "source": [
        "train_review_embed, test_review_embed = [],[]\n",
        "for i in train_reviews:\n",
        "  sentence_embed = text_embed_glove(i, embeddings_index,max_length)\n",
        "  train_review_embed.append(sentence_embed)\n",
        "\n",
        "for i in test_reviews:\n",
        "  sentence_embed = text_embed_glove(i, embeddings_index,max_length)\n",
        "  test_review_embed.append(sentence_embed)\n",
        "\n",
        "\n",
        "train_aspect_embed, test_aspect_embed = [],[]\n",
        "for i in train_aspects:\n",
        "  train_aspect_embed.append([embeddings_index[i]])\n",
        "\n",
        "for i in test_aspects:\n",
        "  test_aspect_embed.append([embeddings_index[i]])\n"
      ]
    },
    {
      "cell_type": "code",
      "execution_count": null,
      "metadata": {
        "id": "Giexndk9B50v"
      },
      "outputs": [],
      "source": [
        "train_rev_torch = torch.tensor(np.array(train_review_embed),  dtype=torch.float32)\n",
        "test_rev_torch = torch.tensor(np.array(test_review_embed),  dtype=torch.float32)\n",
        "train_asp_torch = torch.tensor(np.array(train_aspect_embed), dtype=torch.float32)\n",
        "test_asp_torch = torch.tensor(np.array(test_aspect_embed), dtype=torch.float32)"
      ]
    },
    {
      "cell_type": "code",
      "execution_count": null,
      "metadata": {
        "colab": {
          "base_uri": "https://localhost:8080/"
        },
        "id": "ikJdPqG8B54J",
        "outputId": "b8861948-dd64-4765-9f47-2f0297a3d259"
      },
      "outputs": [
        {
          "data": {
            "text/plain": [
              "torch.Size([7978, 41, 50])"
            ]
          },
          "execution_count": 19,
          "metadata": {},
          "output_type": "execute_result"
        }
      ],
      "source": [
        "# train_rev_torch has size ==  torch.Size([7978, 40, 50])\n",
        "# train_asp_torch has size == torch.Size([7978, 1, 50])\n",
        "\n",
        "# use torch.cat to combine them into [7978, 41, 50]\n",
        "final_train_glove = torch.cat((train_rev_torch, train_asp_torch), dim=1)\n",
        "final_test_glove = torch.cat((test_rev_torch, test_asp_torch), dim=1)\n",
        "\n",
        "final_train_glove.shape"
      ]
    },
    {
      "cell_type": "markdown",
      "metadata": {
        "id": "MW2dLub4rhq1"
      },
      "source": [
        "## Word2Vec Cbow"
      ]
    },
    {
      "cell_type": "markdown",
      "metadata": {
        "id": "M3oTibDyCofI"
      },
      "source": [
        "Firstly, we will need to combine all words in both train and test dataset. Note that we concat reviews and aspect together as there is no \"miscellaneous\" word presents in the reviews."
      ]
    },
    {
      "cell_type": "code",
      "execution_count": null,
      "metadata": {
        "colab": {
          "base_uri": "https://localhost:8080/"
        },
        "id": "OlBd5haNwqqc",
        "outputId": "ecc7e48e-7f4e-4cef-849d-8303e5f5746c"
      },
      "outputs": [
        {
          "data": {
            "text/plain": [
              "8879"
            ]
          },
          "execution_count": 20,
          "metadata": {},
          "output_type": "execute_result"
        }
      ],
      "source": [
        "train_rev_asp = [sublist + [train_aspects[i]] for i, sublist in enumerate(train_reviews)]\n",
        "test_rev_asp = [sublist + [test_aspects[i]] for i, sublist in enumerate(test_reviews)]\n",
        "all_reviews = train_rev_asp+test_rev_asp\n",
        "len(all_reviews)"
      ]
    },
    {
      "cell_type": "code",
      "execution_count": null,
      "metadata": {
        "id": "kKdLTH5uwLbW"
      },
      "outputs": [],
      "source": [
        "wv_cbow_model = Word2Vec(all_reviews, vector_size=50, window=5, min_count=5, workers=2, sg=0)"
      ]
    },
    {
      "cell_type": "code",
      "execution_count": null,
      "metadata": {
        "id": "cwm3-JfNrnTu"
      },
      "outputs": [],
      "source": [
        "def text_embed_w2v(words, w2v, max_length):\n",
        "    unknown_indices = []\n",
        "    result = np.zeros(50*max_length).reshape((max_length,50))\n",
        "    mean = np.zeros(50)\n",
        "\n",
        "    for i in range(len(words)):\n",
        "      if words[i] in w2v.wv:\n",
        "          result[i] = w2v.wv[words[i]]\n",
        "          mean += result[i]\n",
        "      else:\n",
        "          unknown_indices.append(i)\n",
        "\n",
        "    mean /= len(words)-len(unknown_indices)\n",
        "\n",
        "    # unknown words in the text are represented using the mean of the known words\n",
        "    for i in unknown_indices:\n",
        "        result[i] = mean\n",
        "\n",
        "    return np.array(result)"
      ]
    },
    {
      "cell_type": "code",
      "execution_count": null,
      "metadata": {
        "id": "NGAqyRs41cvd"
      },
      "outputs": [],
      "source": [
        "train_review_embed, test_review_embed = [],[]\n",
        "for i in train_reviews:\n",
        "  sentence_embed = text_embed_w2v(i, wv_cbow_model,max_length)\n",
        "  train_review_embed.append(sentence_embed)\n",
        "\n",
        "for i in test_reviews:\n",
        "  sentence_embed = text_embed_w2v(i, wv_cbow_model,max_length)\n",
        "  test_review_embed.append(sentence_embed)\n",
        "\n",
        "\n",
        "train_aspect_embed, test_aspect_embed = [],[]\n",
        "for i in train_aspects:\n",
        "  train_aspect_embed.append([wv_cbow_model.wv[i]])\n",
        "\n",
        "for i in test_aspects:\n",
        "  test_aspect_embed.append([wv_cbow_model.wv[i]])"
      ]
    },
    {
      "cell_type": "code",
      "execution_count": null,
      "metadata": {
        "id": "iRHrX36Q1c6s"
      },
      "outputs": [],
      "source": [
        "train_rev_torch = torch.tensor(np.array(train_review_embed),  dtype=torch.float32)\n",
        "test_rev_torch = torch.tensor(np.array(test_review_embed),  dtype=torch.float32)\n",
        "train_asp_torch = torch.tensor(np.array(train_aspect_embed), dtype=torch.float32)\n",
        "test_asp_torch = torch.tensor(np.array(test_aspect_embed), dtype=torch.float32)"
      ]
    },
    {
      "cell_type": "code",
      "execution_count": null,
      "metadata": {
        "colab": {
          "base_uri": "https://localhost:8080/"
        },
        "id": "2XG56LKh14uN",
        "outputId": "d4eea490-9a15-4939-8915-eff4ef2f5b3b"
      },
      "outputs": [
        {
          "data": {
            "text/plain": [
              "torch.Size([7978, 41, 50])"
            ]
          },
          "execution_count": 25,
          "metadata": {},
          "output_type": "execute_result"
        }
      ],
      "source": [
        "final_train_w2v_cbow = torch.cat((train_rev_torch, train_asp_torch), dim=1)\n",
        "final_test_w2v_cbow = torch.cat((test_rev_torch, test_asp_torch), dim=1)\n",
        "\n",
        "final_train_w2v_cbow.shape"
      ]
    },
    {
      "cell_type": "markdown",
      "metadata": {
        "id": "uXe_U_T95kTV"
      },
      "source": [
        "## Word2Vec SkipGram"
      ]
    },
    {
      "cell_type": "code",
      "execution_count": null,
      "metadata": {
        "id": "7Daw0rpC5qKN"
      },
      "outputs": [],
      "source": [
        "wv_skipgram_model = Word2Vec(all_reviews, vector_size=50, window=5, min_count=5, workers=2, sg=1)"
      ]
    },
    {
      "cell_type": "code",
      "execution_count": null,
      "metadata": {
        "id": "O2JQzMGE5qU7"
      },
      "outputs": [],
      "source": [
        "train_review_embed, test_review_embed = [],[]\n",
        "for i in train_reviews:\n",
        "  sentence_embed = text_embed_w2v(i, wv_skipgram_model,max_length)\n",
        "  train_review_embed.append(sentence_embed)\n",
        "\n",
        "for i in test_reviews:\n",
        "  sentence_embed = text_embed_w2v(i, wv_skipgram_model,max_length)\n",
        "  test_review_embed.append(sentence_embed)\n",
        "\n",
        "\n",
        "train_aspect_embed, test_aspect_embed = [],[]\n",
        "for i in train_aspects:\n",
        "  train_aspect_embed.append([wv_skipgram_model.wv[i]])\n",
        "\n",
        "for i in test_aspects:\n",
        "  test_aspect_embed.append([wv_skipgram_model.wv[i]])"
      ]
    },
    {
      "cell_type": "code",
      "execution_count": null,
      "metadata": {
        "id": "0hJlOSVd70P0"
      },
      "outputs": [],
      "source": [
        "train_rev_torch = torch.tensor(np.array(train_review_embed),  dtype=torch.float32)\n",
        "test_rev_torch = torch.tensor(np.array(test_review_embed),  dtype=torch.float32)\n",
        "train_asp_torch = torch.tensor(np.array(train_aspect_embed), dtype=torch.float32)\n",
        "test_asp_torch = torch.tensor(np.array(test_aspect_embed), dtype=torch.float32)"
      ]
    },
    {
      "cell_type": "code",
      "execution_count": null,
      "metadata": {
        "colab": {
          "base_uri": "https://localhost:8080/"
        },
        "id": "l_MbEhy-5-M3",
        "outputId": "5ba9e9ea-8e39-4cf8-93a4-c66b1e5e2ada"
      },
      "outputs": [
        {
          "data": {
            "text/plain": [
              "torch.Size([7978, 41, 50])"
            ]
          },
          "execution_count": 29,
          "metadata": {},
          "output_type": "execute_result"
        }
      ],
      "source": [
        "final_train_w2v_skipgram = torch.cat((train_rev_torch, train_asp_torch), dim=1)\n",
        "final_test_w2v_skipgram = torch.cat((test_rev_torch, test_asp_torch), dim=1)\n",
        "\n",
        "final_train_w2v_skipgram.shape"
      ]
    },
    {
      "cell_type": "markdown",
      "metadata": {
        "id": "lZxKtqQM6OWR"
      },
      "source": [
        "## FastText Cbow"
      ]
    },
    {
      "cell_type": "code",
      "execution_count": null,
      "metadata": {
        "id": "If8QD7vD6eWz"
      },
      "outputs": [],
      "source": [
        "ft_cb_model = FastText(all_reviews, vector_size=50, window=5, min_count=5, workers=2, sg=0)"
      ]
    },
    {
      "cell_type": "code",
      "execution_count": null,
      "metadata": {
        "id": "_ivTPYpa6r3B"
      },
      "outputs": [],
      "source": [
        "train_review_embed, test_review_embed = [],[]\n",
        "for i in train_reviews:\n",
        "  sentence_embed = text_embed_w2v(i, ft_cb_model,max_length)\n",
        "  train_review_embed.append(sentence_embed)\n",
        "\n",
        "for i in test_reviews:\n",
        "  sentence_embed = text_embed_w2v(i, ft_cb_model,max_length)\n",
        "  test_review_embed.append(sentence_embed)\n",
        "\n",
        "\n",
        "train_aspect_embed, test_aspect_embed = [],[]\n",
        "for i in train_aspects:\n",
        "  train_aspect_embed.append([ft_cb_model.wv[i]])\n",
        "\n",
        "for i in test_aspects:\n",
        "  test_aspect_embed.append([ft_cb_model.wv[i]])"
      ]
    },
    {
      "cell_type": "code",
      "execution_count": null,
      "metadata": {
        "id": "Bv6vu4_572yk"
      },
      "outputs": [],
      "source": [
        "train_rev_torch = torch.tensor(np.array(train_review_embed),  dtype=torch.float32)\n",
        "test_rev_torch = torch.tensor(np.array(test_review_embed),  dtype=torch.float32)\n",
        "train_asp_torch = torch.tensor(np.array(train_aspect_embed), dtype=torch.float32)\n",
        "test_asp_torch = torch.tensor(np.array(test_aspect_embed), dtype=torch.float32)"
      ]
    },
    {
      "cell_type": "code",
      "execution_count": null,
      "metadata": {
        "colab": {
          "base_uri": "https://localhost:8080/"
        },
        "id": "OnwtPdtM6ojs",
        "outputId": "b444b68d-976e-4017-d1cf-23591f5323f4"
      },
      "outputs": [
        {
          "data": {
            "text/plain": [
              "torch.Size([7978, 41, 50])"
            ]
          },
          "execution_count": 33,
          "metadata": {},
          "output_type": "execute_result"
        }
      ],
      "source": [
        "final_train_ft_cbow = torch.cat((train_rev_torch, train_asp_torch), dim=1)\n",
        "final_test_ft_cbow = torch.cat((test_rev_torch, test_asp_torch), dim=1)\n",
        "\n",
        "final_train_ft_cbow.shape"
      ]
    },
    {
      "cell_type": "markdown",
      "metadata": {
        "id": "p_DBoWV87AMR"
      },
      "source": [
        "## FastText Skipgram"
      ]
    },
    {
      "cell_type": "code",
      "execution_count": null,
      "metadata": {
        "id": "y2jXB1vc7bPo"
      },
      "outputs": [],
      "source": [
        "ft_sk_model = FastText(all_reviews, vector_size=50, window=5, min_count=5, workers=2, sg=1)"
      ]
    },
    {
      "cell_type": "code",
      "execution_count": null,
      "metadata": {
        "id": "K5OgzAUQ7bsU"
      },
      "outputs": [],
      "source": [
        "train_review_embed, test_review_embed = [],[]\n",
        "for i in train_reviews:\n",
        "  sentence_embed = text_embed_w2v(i, ft_sk_model,max_length)\n",
        "  train_review_embed.append(sentence_embed)\n",
        "\n",
        "for i in test_reviews:\n",
        "  sentence_embed = text_embed_w2v(i, ft_sk_model,max_length)\n",
        "  test_review_embed.append(sentence_embed)\n",
        "\n",
        "\n",
        "train_aspect_embed, test_aspect_embed = [],[]\n",
        "for i in train_aspects:\n",
        "  train_aspect_embed.append([ft_sk_model.wv[i]])\n",
        "\n",
        "for i in test_aspects:\n",
        "  test_aspect_embed.append([ft_sk_model.wv[i]])"
      ]
    },
    {
      "cell_type": "code",
      "execution_count": null,
      "metadata": {
        "id": "5aeCAFwv76CD"
      },
      "outputs": [],
      "source": [
        "train_rev_torch = torch.tensor(np.array(train_review_embed),  dtype=torch.float32)\n",
        "test_rev_torch = torch.tensor(np.array(test_review_embed),  dtype=torch.float32)\n",
        "train_asp_torch = torch.tensor(np.array(train_aspect_embed), dtype=torch.float32)\n",
        "test_asp_torch = torch.tensor(np.array(test_aspect_embed), dtype=torch.float32)"
      ]
    },
    {
      "cell_type": "code",
      "execution_count": null,
      "metadata": {
        "colab": {
          "base_uri": "https://localhost:8080/"
        },
        "id": "fxHqOnYC7jXu",
        "outputId": "dbdb4055-4493-422f-9d88-b3cdc3b710ff"
      },
      "outputs": [
        {
          "data": {
            "text/plain": [
              "torch.Size([7978, 41, 50])"
            ]
          },
          "execution_count": 37,
          "metadata": {},
          "output_type": "execute_result"
        }
      ],
      "source": [
        "final_train_ft_skipgram = torch.cat((train_rev_torch, train_asp_torch), dim=1)\n",
        "final_test_ft_skipgram = torch.cat((test_rev_torch, test_asp_torch), dim=1)\n",
        "\n",
        "final_train_ft_skipgram.shape"
      ]
    },
    {
      "cell_type": "markdown",
      "metadata": {
        "id": "cJSsvtljibHx"
      },
      "source": [
        "# Model 1 - LSTM with different location aspect"
      ]
    },
    {
      "cell_type": "markdown",
      "metadata": {
        "id": "IIHhOEl4ieev"
      },
      "source": [
        "In the model 1, the base Model will be LSTM. Furthermore, this section will provide how to put the aspect information in different location.\n",
        "\n",
        "Why \"Different Location Aspect\" Matters:\n",
        "\n",
        "The positioning of the aspect information can influence how well the model learns the relationship between the aspect (e.g., food, service) and the sentiment of the review. For instance:\n",
        "- If the aspect is placed first, the LSTM might focus more on understanding the aspect's influence throughout the review.\n",
        "- If the aspect is placed last, the LSTM might focus on how the aspect is influenced by the rest of the review content.\n",
        "\n",
        "Thus, testing \"different locations\" of the aspect in the sequence helps evaluate which configuration best improves the model's ability to correlate aspects with sentiment."
      ]
    },
    {
      "cell_type": "markdown",
      "metadata": {
        "id": "qPnzieYW9_IL"
      },
      "source": [
        "Note that our input is the concatenation between reviews and aspects. As the reviews has maximum length of 40 and aspect only has one length, the concatenation between the two of them will be 41.\n",
        "The Steps are:\n",
        "1.   Use all the reviews information into the LSTM model\n",
        "2.   The result or hidden layer from LSTM model will be concated with the last information in the input, which is the aspect information.\n",
        "3.   Reshape the result of step2 before putting it into linear model\n",
        "4.   Apply softmax layer to make the result into categorization vectors.\n",
        "\n",
        "\n",
        "How the \"Different Location Aspect\" Relates to Your LSTM Model:\n",
        "\n",
        "- Step 2 (Concatenation): Here, you're concatenating the aspect with the review text (which has been processed by the LSTM). Depending on where the aspect information is placed (before, after, or interleaved), the LSTM will process the input sequence in different ways, affecting how it learns the relationship between the review and aspect.\n",
        "\n",
        "- Step 3 (Reshaping): After the LSTM processes the concatenated input, the hidden states are reshaped before passing them to the linear layer. This step is important for aligning the hidden states with the expected input format of the classification layer.\n",
        "\n",
        "- Step 4 (Softmax): The final output of the model will be a softmax layer that converts the model's prediction into probability scores for different sentiment categories (positive, negative, neutral, etc.). How the aspect is positioned in the input sequence might affect the final categorization outcome.\n",
        "\n"
      ]
    },
    {
      "cell_type": "markdown",
      "metadata": {
        "id": "zmoUE3BD_TTk"
      },
      "source": [
        " ***Note: For hyperparameter tunning on ablation study, there will be no additional section. The code can just be re run by uncomment the optimizers**"
      ]
    },
    {
      "cell_type": "code",
      "execution_count": null,
      "metadata": {
        "id": "vEC2oL0LigLM"
      },
      "outputs": [],
      "source": [
        "import torch\n",
        "import torch.nn as nn\n",
        "import torch.nn.functional as F\n",
        "\n",
        "class LSTMClassifier(nn.Module):\n",
        "    def __init__(self, input_size, hidden_size,number_padding, output_size):\n",
        "        ## input_size : ([7978, 41, 50])\n",
        "        ## hidden_size : 50\n",
        "        ## number_padding : 41\n",
        "        ## output_size : 3\n",
        "\n",
        "        super(LSTMClassifier, self).__init__()\n",
        "        self.hidden_size = hidden_size\n",
        "        self.lstm = nn.LSTM(input_size, hidden_size)\n",
        "        self.fc1 = nn.Linear(hidden_size*number_padding, output_size)\n",
        "\n",
        "\n",
        "\n",
        "    def forward(self, input_seq):\n",
        "        lstm_out, _ = self.lstm(input_seq[:, :-1, :]) ## at first only use the review aspect ([7978, 40, 50])\n",
        "\n",
        "        concat_aspect = torch.cat((lstm_out, input_seq[:,-1:,:]), dim=1) ## now concat with the aspect ([7978, 1, 50])\n",
        "        fc1_out = self.fc1(concat_aspect.view(concat_aspect.size(0), -1))\n",
        "        output = F.softmax( fc1_out, dim=1)\n",
        "        return output\n",
        "\n",
        "embedding_size = len(next(iter(embeddings_index)))\n",
        "hidden_size = 50\n",
        "number_padding = final_train_glove.size(1) ## you can use any since all input are same size\n",
        "output_size = label_train_torch.size(-1)\n",
        "\n",
        "# Initialize the model\n",
        "model = LSTMClassifier(embedding_size, hidden_size, number_padding,output_size)\n",
        "\n",
        "\n",
        "# Define loss function and optimizer - adam & sgd\n",
        "criterion = nn.CrossEntropyLoss()\n",
        "#optimizer = torch.optim.SGD(model.parameters(), lr=0.001) ### uncomment to try\n",
        "optimizer = torch.optim.Adam(model.parameters(), lr=0.001)\n"
      ]
    },
    {
      "cell_type": "code",
      "execution_count": null,
      "metadata": {
        "id": "IA-klA9H8lFI"
      },
      "outputs": [],
      "source": [
        "embedding_size = len(next(iter(embeddings_index)))\n",
        "hidden_size = 50\n",
        "number_padding = final_train_glove.size(1) ## you can use any since all input are same size\n",
        "output_size = label_train_torch.size(-1)\n",
        "\n",
        "# Initialize the model\n",
        "model = LSTMClassifier(embedding_size, hidden_size, number_padding,output_size)\n",
        "\n",
        "\n",
        "# Define loss function and optimizer - adam & sgd\n",
        "criterion = nn.CrossEntropyLoss()\n",
        "#optimizer = torch.optim.SGD(model.parameters(), lr=0.001) ### uncomment to try\n",
        "optimizer = torch.optim.Adam(model.parameters(), lr=0.001)"
      ]
    },
    {
      "cell_type": "markdown",
      "metadata": {
        "id": "saBJusxq8bIf"
      },
      "source": [
        "## Glove-Input"
      ]
    },
    {
      "cell_type": "code",
      "execution_count": null,
      "metadata": {
        "colab": {
          "base_uri": "https://localhost:8080/"
        },
        "id": "tx3MW5MSUZTd",
        "outputId": "9d832a7d-a582-4702-dd6c-f0c7a3f66c5e"
      },
      "outputs": [
        {
          "name": "stdout",
          "output_type": "stream",
          "text": [
            "Epoch [1/1000], Loss: 1.0963\n",
            "Epoch [101/1000], Loss: 0.9204\n",
            "Epoch [201/1000], Loss: 0.8139\n",
            "Epoch [301/1000], Loss: 0.7272\n",
            "Epoch [401/1000], Loss: 0.6869\n",
            "Epoch [501/1000], Loss: 0.6684\n",
            "Epoch [601/1000], Loss: 0.6587\n",
            "Epoch [701/1000], Loss: 0.6529\n",
            "Epoch [801/1000], Loss: 0.6497\n",
            "Epoch [901/1000], Loss: 0.6461\n"
          ]
        }
      ],
      "source": [
        "# Training loop - glove\n",
        "for epoch in range(1000):  # Training for 1000 epochs\n",
        "    optimizer.zero_grad()\n",
        "    output = model(final_train_glove)\n",
        "    loss = criterion(output, label_train_torch)\n",
        "    loss.backward()\n",
        "    optimizer.step()\n",
        "    if epoch % 100 == 0:\n",
        "        print('Epoch [{}/{}], Loss: {:.4f}'.format(epoch+1, 1000, loss.item()))"
      ]
    },
    {
      "cell_type": "code",
      "execution_count": null,
      "metadata": {
        "id": "ThSxyR92igRA"
      },
      "outputs": [],
      "source": [
        "output = model(final_test_glove)\n",
        "output = output.detach().numpy()\n",
        "\n",
        "max_indices = np.argmax(output, axis=1)\n",
        "predicted_glove = np.zeros_like(output)\n",
        "predicted_glove[np.arange(len(output)), max_indices] = 1"
      ]
    },
    {
      "cell_type": "code",
      "execution_count": null,
      "metadata": {
        "colab": {
          "base_uri": "https://localhost:8080/"
        },
        "id": "es2Wju0W0cI9",
        "outputId": "a5179797-a4a6-46bb-fcec-6045b9c2bafb"
      },
      "outputs": [
        {
          "name": "stdout",
          "output_type": "stream",
          "text": [
            "Number of correct answers: 479\n"
          ]
        }
      ],
      "source": [
        "num_correct = np.sum(np.all(predicted_glove == label_test_torch.numpy(), axis=1))\n",
        "\n",
        "print(\"Number of correct answers:\", num_correct)"
      ]
    },
    {
      "cell_type": "code",
      "execution_count": null,
      "metadata": {
        "colab": {
          "base_uri": "https://localhost:8080/"
        },
        "id": "NnHreAat02kD",
        "outputId": "62b516f1-1dd5-48fc-ee8e-b08cc7fb428e"
      },
      "outputs": [
        {
          "name": "stdout",
          "output_type": "stream",
          "text": [
            "Confusion matrix:\n",
            "               Predicted Positive  Predicted Neutral  Predicted Negative\n",
            "True Positive                  86                 94                  65\n",
            "True Neutral                   60                273                  60\n",
            "True Negative                  56                 87                 120\n"
          ]
        }
      ],
      "source": [
        "# Compute confusion matrix\n",
        "conf_matrix = np.zeros((predicted_glove.shape[1], label_test_torch.numpy().shape[1]), dtype=int)\n",
        "for pred, true in zip(predicted_glove, label_test_torch.numpy()):\n",
        "    pred_idx = np.where(pred == 1)[0]\n",
        "    true_idx = np.where(true == 1)[0]\n",
        "    conf_matrix[true_idx[:, None], pred_idx] += 1\n",
        "\n",
        "\n",
        "# Convert confusion matrix to DataFrame\n",
        "conf_matrix_df = pd.DataFrame(conf_matrix, index=['True Positive', 'True Neutral', 'True Negative'],\n",
        "                              columns=['Predicted Positive', 'Predicted Neutral', 'Predicted Negative'])\n",
        "\n",
        "print(\"Confusion matrix:\")\n",
        "print(conf_matrix_df)"
      ]
    },
    {
      "cell_type": "code",
      "execution_count": null,
      "metadata": {
        "colab": {
          "base_uri": "https://localhost:8080/"
        },
        "id": "p0xUaXXkTNG1",
        "outputId": "118e6b0f-acb6-46ac-ab18-4c220037f168"
      },
      "outputs": [
        {
          "data": {
            "text/plain": [
              "53.163152053274146"
            ]
          },
          "execution_count": 60,
          "metadata": {},
          "output_type": "execute_result"
        }
      ],
      "source": [
        "accuracy_glove = num_correct/label_test_torch.numpy().shape[0]\n",
        "accuracy_glove*100"
      ]
    },
    {
      "cell_type": "code",
      "execution_count": null,
      "metadata": {
        "colab": {
          "base_uri": "https://localhost:8080/"
        },
        "id": "zS-TP0ZyPaLa",
        "outputId": "04de7cc7-bf7e-40f4-a3d3-fb43df313249"
      },
      "outputs": [
        {
          "name": "stdout",
          "output_type": "stream",
          "text": [
            "              precision    recall  f1-score   support\n",
            "\n",
            "    Positive       0.43      0.35      0.38       245\n",
            "     Neutral       0.60      0.69      0.64       393\n",
            "    Negative       0.49      0.46      0.47       263\n",
            "\n",
            "   micro avg       0.53      0.53      0.53       901\n",
            "   macro avg       0.51      0.50      0.50       901\n",
            "weighted avg       0.52      0.53      0.52       901\n",
            " samples avg       0.53      0.53      0.53       901\n",
            "\n"
          ]
        }
      ],
      "source": [
        "cr = classification_report(label_test_torch.numpy(), predicted_glove, target_names=[\"Positive\", \"Neutral\", \"Negative\"])\n",
        "print(cr)\n"
      ]
    },
    {
      "cell_type": "markdown",
      "metadata": {
        "id": "GynUIWsrSOBv"
      },
      "source": [
        "## Word2Vec Cbow-Input"
      ]
    },
    {
      "cell_type": "code",
      "execution_count": null,
      "metadata": {
        "colab": {
          "base_uri": "https://localhost:8080/"
        },
        "id": "ubmQ3tuDSfqJ",
        "outputId": "dcf470c5-b65a-4161-dca2-4ddfe3569e14"
      },
      "outputs": [
        {
          "name": "stdout",
          "output_type": "stream",
          "text": [
            "Epoch [1/1000], Loss: 1.1802\n",
            "Epoch [101/1000], Loss: 1.1171\n",
            "Epoch [201/1000], Loss: 1.1171\n",
            "Epoch [301/1000], Loss: 1.1171\n",
            "Epoch [401/1000], Loss: 1.1171\n",
            "Epoch [501/1000], Loss: 1.1171\n",
            "Epoch [601/1000], Loss: 1.1171\n",
            "Epoch [701/1000], Loss: 1.1171\n",
            "Epoch [801/1000], Loss: 1.1171\n",
            "Epoch [901/1000], Loss: 1.1171\n"
          ]
        }
      ],
      "source": [
        "# Training loop - glove\n",
        "for epoch in range(1000):  # Training for 1000 epochs\n",
        "    optimizer.zero_grad()\n",
        "    output = model(final_train_w2v_cbow)\n",
        "    loss = criterion(output, label_train_torch)\n",
        "    loss.backward()\n",
        "    optimizer.step()\n",
        "    if epoch % 100 == 0:\n",
        "        print('Epoch [{}/{}], Loss: {:.4f}'.format(epoch+1, 1000, loss.item()))\n"
      ]
    },
    {
      "cell_type": "code",
      "execution_count": null,
      "metadata": {
        "id": "0Tlk0s70Tnd9"
      },
      "outputs": [],
      "source": [
        "output = model(final_test_w2v_cbow)\n",
        "output = output.detach().numpy()\n",
        "\n",
        "max_indices = np.argmax(output, axis=1)\n",
        "predicted_w2v_cb = np.zeros_like(output)\n",
        "predicted_w2v_cb[np.arange(len(output)), max_indices] = 1"
      ]
    },
    {
      "cell_type": "code",
      "execution_count": null,
      "metadata": {
        "colab": {
          "base_uri": "https://localhost:8080/"
        },
        "id": "j7SW4RUDTnh3",
        "outputId": "9c0a4c92-0ba2-4af5-99a3-85369c1644c9"
      },
      "outputs": [
        {
          "name": "stdout",
          "output_type": "stream",
          "text": [
            "Number of correct answers: 393\n"
          ]
        }
      ],
      "source": [
        "num_correct = np.sum(np.all(predicted_w2v_cb == label_test_torch.numpy(), axis=1))\n",
        "\n",
        "print(\"Number of correct answers:\", num_correct)"
      ]
    },
    {
      "cell_type": "code",
      "execution_count": null,
      "metadata": {
        "colab": {
          "base_uri": "https://localhost:8080/"
        },
        "id": "45KWZCUWTnk-",
        "outputId": "62a6f6c1-e7e0-4c4f-f3cf-154920253fa9"
      },
      "outputs": [
        {
          "name": "stdout",
          "output_type": "stream",
          "text": [
            "Confusion matrix:\n",
            "               Predicted Positive  Predicted Neutral  Predicted Negative\n",
            "True Positive                  99                 94                  52\n",
            "True Neutral                   66                274                  53\n",
            "True Negative                  51                103                 109\n"
          ]
        }
      ],
      "source": [
        "# Compute confusion matrix\n",
        "conf_matrix = np.zeros((predicted_w2v_cb.shape[1], label_test_torch.numpy().shape[1]), dtype=int)\n",
        "for pred, true in zip(predicted_w2v_cb, label_test_torch.numpy()):\n",
        "    pred_idx = np.where(pred == 1)[0]\n",
        "    true_idx = np.where(true == 1)[0]\n",
        "    conf_matrix[true_idx[:, None], pred_idx] += 1\n",
        "\n",
        "\n",
        "# Convert confusion matrix to DataFrame\n",
        "conf_matrix_df = pd.DataFrame(conf_matrix, index=['True Positive', 'True Neutral', 'True Negative'],\n",
        "                              columns=['Predicted Positive', 'Predicted Neutral', 'Predicted Negative'])\n",
        "\n",
        "print(\"Confusion matrix:\")\n",
        "print(conf_matrix_df)"
      ]
    },
    {
      "cell_type": "code",
      "execution_count": null,
      "metadata": {
        "colab": {
          "base_uri": "https://localhost:8080/"
        },
        "id": "JvoQCSjTTnpg",
        "outputId": "2302caa0-2f8d-4bfe-ee56-d45bf250e470"
      },
      "outputs": [
        {
          "data": {
            "text/plain": [
              "43.61820199778024"
            ]
          },
          "execution_count": 66,
          "metadata": {},
          "output_type": "execute_result"
        }
      ],
      "source": [
        "accuracy_w2v_cb = num_correct/label_test_torch.numpy().shape[0]\n",
        "accuracy_w2v_cb*100"
      ]
    },
    {
      "cell_type": "code",
      "execution_count": null,
      "metadata": {
        "colab": {
          "base_uri": "https://localhost:8080/"
        },
        "id": "uwOKxhmFUDiv",
        "outputId": "95ed16b6-abf4-4f05-9317-b8887542079a"
      },
      "outputs": [
        {
          "name": "stdout",
          "output_type": "stream",
          "text": [
            "              precision    recall  f1-score   support\n",
            "\n",
            "    Positive       0.00      0.00      0.00       245\n",
            "     Neutral       0.44      1.00      0.61       393\n",
            "    Negative       0.00      0.00      0.00       263\n",
            "\n",
            "   micro avg       0.44      0.44      0.44       901\n",
            "   macro avg       0.15      0.33      0.20       901\n",
            "weighted avg       0.19      0.44      0.26       901\n",
            " samples avg       0.44      0.44      0.44       901\n",
            "\n"
          ]
        },
        {
          "name": "stderr",
          "output_type": "stream",
          "text": [
            "/usr/local/lib/python3.10/dist-packages/sklearn/metrics/_classification.py:1344: UndefinedMetricWarning: Precision and F-score are ill-defined and being set to 0.0 in labels with no predicted samples. Use `zero_division` parameter to control this behavior.\n",
            "  _warn_prf(average, modifier, msg_start, len(result))\n"
          ]
        }
      ],
      "source": [
        "cr = classification_report(label_test_torch.numpy(), predicted_w2v_cb, target_names=[\"Positive\", \"Neutral\", \"Negative\"])\n",
        "print(cr)"
      ]
    },
    {
      "cell_type": "markdown",
      "metadata": {
        "id": "G58bYv0tUH87"
      },
      "source": [
        "## Word2Vec Skipgram-Input"
      ]
    },
    {
      "cell_type": "code",
      "execution_count": null,
      "metadata": {
        "colab": {
          "base_uri": "https://localhost:8080/"
        },
        "id": "xZsPO8LEUDmc",
        "outputId": "b8902329-2f68-492d-f16c-4346af48b634"
      },
      "outputs": [
        {
          "name": "stdout",
          "output_type": "stream",
          "text": [
            "Epoch [1/1000], Loss: 1.0901\n",
            "Epoch [101/1000], Loss: 0.8826\n",
            "Epoch [201/1000], Loss: 0.8357\n",
            "Epoch [301/1000], Loss: 0.8097\n",
            "Epoch [401/1000], Loss: 0.8071\n",
            "Epoch [501/1000], Loss: 0.8013\n",
            "Epoch [601/1000], Loss: 0.7685\n",
            "Epoch [701/1000], Loss: 0.8749\n",
            "Epoch [801/1000], Loss: 0.8248\n",
            "Epoch [901/1000], Loss: 0.7995\n"
          ]
        }
      ],
      "source": [
        "# Training loop - glove\n",
        "for epoch in range(1000):  # Training for 1000 epochs\n",
        "    optimizer.zero_grad()\n",
        "    output = model(final_train_w2v_skipgram)\n",
        "    loss = criterion(output, label_train_torch)\n",
        "    loss.backward()\n",
        "    optimizer.step()\n",
        "    if epoch % 100 == 0:\n",
        "        print('Epoch [{}/{}], Loss: {:.4f}'.format(epoch+1, 1000, loss.item()))\n"
      ]
    },
    {
      "cell_type": "code",
      "execution_count": null,
      "metadata": {
        "id": "GsdQM146UDqI"
      },
      "outputs": [],
      "source": [
        "output = model(final_test_w2v_skipgram)\n",
        "output = output.detach().numpy()\n",
        "\n",
        "max_indices = np.argmax(output, axis=1)\n",
        "predicted_w2v_sk = np.zeros_like(output)\n",
        "predicted_w2v_sk[np.arange(len(output)), max_indices] = 1"
      ]
    },
    {
      "cell_type": "code",
      "execution_count": null,
      "metadata": {
        "colab": {
          "base_uri": "https://localhost:8080/"
        },
        "id": "0mVUVD6Ft4jN",
        "outputId": "ec6ad7c1-68e8-4c79-8906-a8b5fbe32865"
      },
      "outputs": [
        {
          "name": "stdout",
          "output_type": "stream",
          "text": [
            "Number of correct answers: 520\n"
          ]
        }
      ],
      "source": [
        "num_correct = np.sum(np.all(predicted_w2v_sk == label_test_torch.numpy(), axis=1))\n",
        "\n",
        "print(\"Number of correct answers:\", num_correct)"
      ]
    },
    {
      "cell_type": "code",
      "execution_count": null,
      "metadata": {
        "colab": {
          "base_uri": "https://localhost:8080/"
        },
        "id": "nig19d89t4mO",
        "outputId": "40caa6b5-2d79-4fb0-dc00-55e044edfaa4"
      },
      "outputs": [
        {
          "name": "stdout",
          "output_type": "stream",
          "text": [
            "Confusion matrix:\n",
            "               Predicted Positive  Predicted Neutral  True Negative\n",
            "True Positive                 103                 85             57\n",
            "True Neutral                   53                298             42\n",
            "True Negative                  54                 90            119\n"
          ]
        }
      ],
      "source": [
        "# Compute confusion matrix\n",
        "conf_matrix = np.zeros((predicted_w2v_sk.shape[1], label_test_torch.numpy().shape[1]), dtype=int)\n",
        "for pred, true in zip(predicted_w2v_sk, label_test_torch.numpy()):\n",
        "    pred_idx = np.where(pred == 1)[0]\n",
        "    true_idx = np.where(true == 1)[0]\n",
        "    conf_matrix[true_idx[:, None], pred_idx] += 1\n",
        "\n",
        "\n",
        "# Convert confusion matrix to DataFrame\n",
        "conf_matrix_df = pd.DataFrame(conf_matrix, index=['True Positive', 'True Neutral', 'True Negative'],\n",
        "                              columns=['Predicted Positive', 'Predicted Neutral', 'Predicted Negative'])\n",
        "\n",
        "print(\"Confusion matrix:\")\n",
        "print(conf_matrix_df)"
      ]
    },
    {
      "cell_type": "code",
      "execution_count": null,
      "metadata": {
        "colab": {
          "base_uri": "https://localhost:8080/"
        },
        "id": "Y_DYx1o1t4rg",
        "outputId": "36756245-57d4-4164-e3a4-c397cc11e5e5"
      },
      "outputs": [
        {
          "data": {
            "text/plain": [
              "57.71365149833518"
            ]
          },
          "execution_count": 69,
          "metadata": {},
          "output_type": "execute_result"
        }
      ],
      "source": [
        "accuracy_w2v_sk= num_correct/label_test_torch.numpy().shape[0]\n",
        "accuracy_w2v_sk*100"
      ]
    },
    {
      "cell_type": "code",
      "execution_count": null,
      "metadata": {
        "colab": {
          "base_uri": "https://localhost:8080/"
        },
        "id": "nEz8ZaD4uA-O",
        "outputId": "e6581293-b877-409a-8c05-921b672be807"
      },
      "outputs": [
        {
          "name": "stdout",
          "output_type": "stream",
          "text": [
            "              precision    recall  f1-score   support\n",
            "\n",
            "    Positive       0.49      0.42      0.45       245\n",
            "     Neutral       0.63      0.76      0.69       393\n",
            "    Negative       0.55      0.45      0.49       263\n",
            "\n",
            "   micro avg       0.58      0.58      0.58       901\n",
            "   macro avg       0.56      0.54      0.55       901\n",
            "weighted avg       0.57      0.58      0.57       901\n",
            " samples avg       0.58      0.58      0.58       901\n",
            "\n"
          ]
        }
      ],
      "source": [
        "cr = classification_report(label_test_torch.numpy(), predicted_w2v_sk, target_names=[\"Positive\", \"Neutral\", \"Negative\"])\n",
        "print(cr)"
      ]
    },
    {
      "cell_type": "markdown",
      "metadata": {
        "id": "7moU8sAOuHPG"
      },
      "source": [
        "## FastText Cbow-Input"
      ]
    },
    {
      "cell_type": "code",
      "execution_count": null,
      "metadata": {
        "colab": {
          "base_uri": "https://localhost:8080/"
        },
        "id": "ynJf8LIruGVI",
        "outputId": "d7bb684b-b3c3-4de2-9844-c2fd15304190"
      },
      "outputs": [
        {
          "name": "stdout",
          "output_type": "stream",
          "text": [
            "Epoch [1/1000], Loss: 1.1005\n",
            "Epoch [101/1000], Loss: 0.9985\n",
            "Epoch [201/1000], Loss: 0.9534\n",
            "Epoch [301/1000], Loss: 0.9061\n",
            "Epoch [401/1000], Loss: 0.8716\n",
            "Epoch [501/1000], Loss: 0.8484\n",
            "Epoch [601/1000], Loss: 0.8253\n",
            "Epoch [701/1000], Loss: 0.8102\n",
            "Epoch [801/1000], Loss: 0.8890\n",
            "Epoch [901/1000], Loss: 0.8296\n"
          ]
        }
      ],
      "source": [
        "# Training loop - glove\n",
        "for epoch in range(1000):  # Training for 1000 epochs\n",
        "    optimizer.zero_grad()\n",
        "    output = model(final_train_ft_cbow)\n",
        "    loss = criterion(output, label_train_torch)\n",
        "    loss.backward()\n",
        "    optimizer.step()\n",
        "    if epoch % 100 == 0:\n",
        "        print('Epoch [{}/{}], Loss: {:.4f}'.format(epoch+1, 1000, loss.item()))"
      ]
    },
    {
      "cell_type": "code",
      "execution_count": null,
      "metadata": {
        "id": "kcyG5ZEk02FV"
      },
      "outputs": [],
      "source": [
        "output = model(final_test_ft_cbow)\n",
        "output = output.detach().numpy()\n",
        "\n",
        "max_indices = np.argmax(output, axis=1)\n",
        "predicted_ft_cb = np.zeros_like(output)\n",
        "predicted_ft_cb[np.arange(len(output)), max_indices] = 1"
      ]
    },
    {
      "cell_type": "code",
      "execution_count": null,
      "metadata": {
        "colab": {
          "base_uri": "https://localhost:8080/"
        },
        "id": "kVaPvVIZ02L9",
        "outputId": "b1072d76-2005-435f-c3ce-d183193eb72b"
      },
      "outputs": [
        {
          "name": "stdout",
          "output_type": "stream",
          "text": [
            "Number of correct answers: 474\n"
          ]
        }
      ],
      "source": [
        "num_correct = np.sum(np.all(predicted_ft_cb == label_test_torch.numpy(), axis=1))\n",
        "\n",
        "print(\"Number of correct answers:\", num_correct)"
      ]
    },
    {
      "cell_type": "code",
      "execution_count": null,
      "metadata": {
        "colab": {
          "base_uri": "https://localhost:8080/"
        },
        "id": "PvwHT4oO02RB",
        "outputId": "60b1f715-8335-4c08-aa9b-a1228090a28e"
      },
      "outputs": [
        {
          "name": "stdout",
          "output_type": "stream",
          "text": [
            "Confusion matrix:\n",
            "               Predicted Positive  Predicted Neutral  True Negative\n",
            "True Positive                  83                112             50\n",
            "True Neutral                   51                276             66\n",
            "True Negative                  47                101            115\n"
          ]
        }
      ],
      "source": [
        "# Compute confusion matrix\n",
        "conf_matrix = np.zeros((predicted_ft_cb.shape[1], label_test_torch.numpy().shape[1]), dtype=int)\n",
        "for pred, true in zip(predicted_ft_cb, label_test_torch.numpy()):\n",
        "    pred_idx = np.where(pred == 1)[0]\n",
        "    true_idx = np.where(true == 1)[0]\n",
        "    conf_matrix[true_idx[:, None], pred_idx] += 1\n",
        "\n",
        "\n",
        "# Convert confusion matrix to DataFrame\n",
        "conf_matrix_df = pd.DataFrame(conf_matrix, index=['True Positive', 'True Neutral', 'True Negative'],\n",
        "                              columns=['Predicted Positive', 'Predicted Neutral', 'Predicted Negative'])\n",
        "\n",
        "print(\"Confusion matrix:\")\n",
        "print(conf_matrix_df)"
      ]
    },
    {
      "cell_type": "code",
      "execution_count": null,
      "metadata": {
        "colab": {
          "base_uri": "https://localhost:8080/"
        },
        "id": "umAZDbun02hI",
        "outputId": "5f35b35f-fa95-40c0-a474-f21b1e247240"
      },
      "outputs": [
        {
          "data": {
            "text/plain": [
              "52.608213096559375"
            ]
          },
          "execution_count": 42,
          "metadata": {},
          "output_type": "execute_result"
        }
      ],
      "source": [
        "accuracy_ft_cb = num_correct/label_test_torch.numpy().shape[0]\n",
        "accuracy_ft_cb*100"
      ]
    },
    {
      "cell_type": "code",
      "execution_count": null,
      "metadata": {
        "colab": {
          "base_uri": "https://localhost:8080/"
        },
        "id": "OSzUjjKj1BMz",
        "outputId": "789729b3-7971-43f5-8d70-e41479543f6f"
      },
      "outputs": [
        {
          "name": "stdout",
          "output_type": "stream",
          "text": [
            "              precision    recall  f1-score   support\n",
            "\n",
            "    Positive       0.46      0.34      0.39       245\n",
            "     Neutral       0.56      0.70      0.63       393\n",
            "    Negative       0.50      0.44      0.47       263\n",
            "\n",
            "   micro avg       0.53      0.53      0.53       901\n",
            "   macro avg       0.51      0.49      0.49       901\n",
            "weighted avg       0.52      0.53      0.51       901\n",
            " samples avg       0.53      0.53      0.53       901\n",
            "\n"
          ]
        }
      ],
      "source": [
        "cr = classification_report(label_test_torch.numpy(), predicted_ft_cb, target_names=[\"Positive\", \"Neutral\", \"Negative\"])\n",
        "print(cr)"
      ]
    },
    {
      "cell_type": "markdown",
      "metadata": {
        "id": "RsdDnVe11J2X"
      },
      "source": [
        "## FastText Skipgram-Input"
      ]
    },
    {
      "cell_type": "code",
      "execution_count": null,
      "metadata": {
        "colab": {
          "base_uri": "https://localhost:8080/"
        },
        "id": "vebvYp_f1O0u",
        "outputId": "cc60d997-21d3-4502-fed9-70b41329b955"
      },
      "outputs": [
        {
          "name": "stdout",
          "output_type": "stream",
          "text": [
            "Epoch [1/1000], Loss: 1.0398\n",
            "Epoch [101/1000], Loss: 0.9253\n",
            "Epoch [201/1000], Loss: 0.9012\n",
            "Epoch [301/1000], Loss: 0.8836\n",
            "Epoch [401/1000], Loss: 0.8672\n",
            "Epoch [501/1000], Loss: 0.8509\n",
            "Epoch [601/1000], Loss: 0.8347\n",
            "Epoch [701/1000], Loss: 0.8196\n",
            "Epoch [801/1000], Loss: 0.8038\n",
            "Epoch [901/1000], Loss: 0.7905\n"
          ]
        }
      ],
      "source": [
        "# Training loop - glove\n",
        "for epoch in range(1000):  # Training for 1000 epochs\n",
        "    optimizer.zero_grad()\n",
        "    output = model(final_train_ft_skipgram)\n",
        "    loss = criterion(output, label_train_torch)\n",
        "    loss.backward()\n",
        "    optimizer.step()\n",
        "    if epoch % 100 == 0:\n",
        "        print('Epoch [{}/{}], Loss: {:.4f}'.format(epoch+1, 1000, loss.item()))"
      ]
    },
    {
      "cell_type": "code",
      "execution_count": null,
      "metadata": {
        "id": "IA9Mz0P11cqW"
      },
      "outputs": [],
      "source": [
        "output = model(final_test_ft_skipgram)\n",
        "output = output.detach().numpy()\n",
        "\n",
        "max_indices = np.argmax(output, axis=1)\n",
        "predicted_ft_sk = np.zeros_like(output)\n",
        "predicted_ft_sk[np.arange(len(output)), max_indices] = 1"
      ]
    },
    {
      "cell_type": "code",
      "execution_count": null,
      "metadata": {
        "colab": {
          "base_uri": "https://localhost:8080/"
        },
        "id": "SEV1jF-W1cur",
        "outputId": "fa371289-c8cd-4eb9-99e7-2c22d3341cf8"
      },
      "outputs": [
        {
          "name": "stdout",
          "output_type": "stream",
          "text": [
            "Number of correct answers: 500\n"
          ]
        }
      ],
      "source": [
        "num_correct = np.sum(np.all(predicted_ft_sk == label_test_torch.numpy(), axis=1))\n",
        "\n",
        "print(\"Number of correct answers:\", num_correct)"
      ]
    },
    {
      "cell_type": "code",
      "execution_count": null,
      "metadata": {
        "colab": {
          "base_uri": "https://localhost:8080/"
        },
        "id": "HJfo0pqK1cyp",
        "outputId": "447fd149-95b1-4b02-b044-d0e1fde5aeb1"
      },
      "outputs": [
        {
          "name": "stdout",
          "output_type": "stream",
          "text": [
            "Confusion matrix:\n",
            "               Predicted Positive  Predicted Neutral  True Negative\n",
            "True Positive                  83                112             50\n",
            "True Neutral                   51                276             66\n",
            "True Negative                  47                101            115\n"
          ]
        }
      ],
      "source": [
        "# Compute confusion matrix\n",
        "conf_matrix = np.zeros((predicted_ft_sk.shape[1], label_test_torch.numpy().shape[1]), dtype=int)\n",
        "for pred, true in zip(predicted_ft_cb, label_test_torch.numpy()):\n",
        "    pred_idx = np.where(pred == 1)[0]\n",
        "    true_idx = np.where(true == 1)[0]\n",
        "    conf_matrix[true_idx[:, None], pred_idx] += 1\n",
        "\n",
        "\n",
        "# Convert confusion matrix to DataFrame\n",
        "conf_matrix_df = pd.DataFrame(conf_matrix, index=['True Positive', 'True Neutral', 'True Negative'],\n",
        "                              columns=['Predicted Positive', 'Predicted Neutral', 'Predicted Negative'])\n",
        "\n",
        "print(\"Confusion matrix:\")\n",
        "print(conf_matrix_df)"
      ]
    },
    {
      "cell_type": "code",
      "execution_count": null,
      "metadata": {
        "colab": {
          "base_uri": "https://localhost:8080/"
        },
        "id": "0H9g21871iuf",
        "outputId": "b644aed5-00ce-4001-d150-bb151eabfeac"
      },
      "outputs": [
        {
          "data": {
            "text/plain": [
              "55.49389567147613"
            ]
          },
          "execution_count": 51,
          "metadata": {},
          "output_type": "execute_result"
        }
      ],
      "source": [
        "accuracy_ft_sk = num_correct/label_test_torch.numpy().shape[0]\n",
        "accuracy_ft_sk*100"
      ]
    },
    {
      "cell_type": "code",
      "execution_count": null,
      "metadata": {
        "colab": {
          "base_uri": "https://localhost:8080/"
        },
        "id": "jUec5FMyqiiZ",
        "outputId": "8385462b-1e10-409a-eb17-ed76733b984c"
      },
      "outputs": [
        {
          "name": "stdout",
          "output_type": "stream",
          "text": [
            "              precision    recall  f1-score   support\n",
            "\n",
            "    Positive       0.43      0.35      0.38       245\n",
            "     Neutral       0.60      0.69      0.64       393\n",
            "    Negative       0.49      0.46      0.47       263\n",
            "\n",
            "   micro avg       0.53      0.53      0.53       901\n",
            "   macro avg       0.51      0.50      0.50       901\n",
            "weighted avg       0.52      0.53      0.52       901\n",
            " samples avg       0.53      0.53      0.53       901\n",
            "\n"
          ]
        }
      ],
      "source": [
        "cr = classification_report(label_test_torch.numpy(), predicted_ft_sk, target_names=[\"Positive\", \"Neutral\", \"Negative\"])\n",
        "print(cr)"
      ]
    },
    {
      "cell_type": "markdown",
      "metadata": {
        "id": "lhnDZoPMpsLI"
      },
      "source": [
        "## RNN  abalation study"
      ]
    },
    {
      "cell_type": "code",
      "execution_count": null,
      "metadata": {
        "id": "7fJh0suPpqw2"
      },
      "outputs": [],
      "source": [
        "import torch\n",
        "import torch.nn as nn\n",
        "import torch.nn.functional as F\n",
        "\n",
        "class RNNClassifier(nn.Module):\n",
        "    def __init__(self, input_size, hidden_size,number_padding, output_size):\n",
        "        ## input_size : ([7978, 41, 50])\n",
        "        ## hidden_size : 50\n",
        "        ## number_padding : 41\n",
        "        ## output_size : 3\n",
        "\n",
        "        super(RNNClassifier, self).__init__()\n",
        "        self.hidden_size = hidden_size\n",
        "        self.rnn = nn.RNN(input_size, hidden_size)\n",
        "        self.fc1 = nn.Linear(hidden_size*number_padding, output_size)\n",
        "\n",
        "\n",
        "\n",
        "    def forward(self, input_seq):\n",
        "        rnn_out, _ = self.rnn(input_seq[:, :-1, :]) ## at first only use the review aspect ([7978, 40, 50])\n",
        "\n",
        "        concat_aspect = torch.cat((rnn_out, input_seq[:,-1:,:]), dim=1) ## now concat with the aspect ([7978, 1, 50])\n",
        "        fc1_out = self.fc1(concat_aspect.view(concat_aspect.size(0), -1))\n",
        "        output = F.softmax( fc1_out, dim=1)\n",
        "        return output\n",
        "\n",
        "embedding_size = len(next(iter(embeddings_index)))\n",
        "hidden_size = 50\n",
        "number_padding = final_train_glove.size(1) ## you can use any since all input are same size\n",
        "output_size = label_train_torch.size(-1)\n",
        "\n",
        "# Initialize the model\n",
        "model = RNNClassifier(embedding_size, hidden_size, number_padding,output_size)\n",
        "\n",
        "\n",
        "# Define loss function and optimizer - adam & sgd\n",
        "criterion = nn.CrossEntropyLoss()\n",
        "#optimizer = torch.optim.SGD(model.parameters(), lr=0.001) ### uncomment to try\n",
        "optimizer = torch.optim.Adam(model.parameters(), lr=0.001)\n"
      ]
    },
    {
      "cell_type": "code",
      "execution_count": null,
      "metadata": {
        "id": "X7hK5dIsqiiE"
      },
      "outputs": [],
      "source": [
        "embedding_size = len(next(iter(embeddings_index)))\n",
        "hidden_size = 50\n",
        "number_padding = final_train_glove.size(1) ## you can use any since all input are same size\n",
        "output_size = label_train_torch.size(-1)\n",
        "\n",
        "# Initialize the model\n",
        "model = RNNClassifier(embedding_size, hidden_size, number_padding,output_size)\n",
        "\n",
        "\n",
        "# Define loss function and optimizer - adam & sgd\n",
        "criterion = nn.CrossEntropyLoss()\n",
        "#optimizer = torch.optim.SGD(model.parameters(), lr=0.001) ### uncomment to try\n",
        "optimizer = torch.optim.Adam(model.parameters(), lr=0.001)"
      ]
    },
    {
      "cell_type": "code",
      "execution_count": null,
      "metadata": {
        "colab": {
          "base_uri": "https://localhost:8080/"
        },
        "id": "q0yZxtQdqjN-",
        "outputId": "40cedd3f-448d-46c6-9452-2a44b41396ab"
      },
      "outputs": [
        {
          "name": "stdout",
          "output_type": "stream",
          "text": [
            "Epoch [1/1000], Loss: 1.1005\n",
            "Epoch [101/1000], Loss: 0.9805\n",
            "Epoch [201/1000], Loss: 0.9371\n",
            "Epoch [301/1000], Loss: 0.9156\n",
            "Epoch [401/1000], Loss: 0.9021\n",
            "Epoch [501/1000], Loss: 0.8942\n",
            "Epoch [601/1000], Loss: 0.8898\n",
            "Epoch [701/1000], Loss: 0.8836\n",
            "Epoch [801/1000], Loss: 0.8749\n"
          ]
        }
      ],
      "source": [
        "# Training loop\n",
        "for epoch in range(1000):  # Training for 1000 epochs\n",
        "    optimizer.zero_grad()\n",
        "    output = model(final_train_w2v_skipgram)\n",
        "    loss = criterion(output, label_train_torch)\n",
        "    loss.backward()\n",
        "    optimizer.step()\n",
        "    if epoch % 100 == 0:\n",
        "        print('Epoch [{}/{}], Loss: {:.4f}'.format(epoch+1, 1000, loss.item()))\n"
      ]
    },
    {
      "cell_type": "code",
      "execution_count": null,
      "metadata": {
        "colab": {
          "base_uri": "https://localhost:8080/"
        },
        "id": "PkxpaEP-rcuT",
        "outputId": "d51ae555-0653-4fef-a607-c525ec28eb51"
      },
      "outputs": [
        {
          "name": "stdout",
          "output_type": "stream",
          "text": [
            "Number of correct answers: 464\n",
            "Confusion matrix:\n",
            "               Predicted Positive  Predicted Neutral  Predicted Negative\n",
            "True Positive                 103                 86                  56\n",
            "True Neutral                   83                253                  57\n",
            "True Negative                  60                 95                 108\n",
            "Accuracy: 51.50%\n",
            "Classification Report:\n",
            "              precision    recall  f1-score   support\n",
            "\n",
            "    positive       0.42      0.42      0.42       245\n",
            "     neutral       0.58      0.64      0.61       393\n",
            "    negative       0.49      0.41      0.45       263\n",
            "\n",
            "   micro avg       0.51      0.51      0.51       901\n",
            "   macro avg       0.50      0.49      0.49       901\n",
            "weighted avg       0.51      0.51      0.51       901\n",
            " samples avg       0.51      0.51      0.51       901\n",
            "\n"
          ]
        }
      ],
      "source": [
        "# Testing loop\n",
        "output_test = model(final_test_w2v_skipgram)\n",
        "output_test = output_test.detach().numpy()\n",
        "\n",
        "max_indices = np.argmax(output_test, axis=1)\n",
        "predicted_w2v_skipgram = np.zeros_like(output_test)\n",
        "predicted_w2v_skipgram[np.arange(len(output_test)), max_indices] = 1\n",
        "\n",
        "num_correct = np.sum(np.all(predicted_w2v_skipgram == label_test_torch.numpy(), axis=1))\n",
        "\n",
        "print(\"Number of correct answers:\", num_correct)\n",
        "\n",
        "# Compute confusion matrix\n",
        "conf_matrix = np.zeros((predicted_w2v_skipgram.shape[1], label_test_torch.numpy().shape[1]), dtype=int)\n",
        "for pred, true in zip(predicted_w2v_skipgram, label_test_torch.numpy()):\n",
        "    pred_idx = np.where(pred == 1)[0]\n",
        "    true_idx = np.where(true == 1)[0]\n",
        "    conf_matrix[true_idx[:, None], pred_idx] += 1\n",
        "\n",
        "# Convert confusion matrix to DataFrame\n",
        "conf_matrix_df = pd.DataFrame(conf_matrix, index=['True Positive', 'True Neutral', 'True Negative'],\n",
        "                              columns=['Predicted Positive', 'Predicted Neutral', 'Predicted Negative'])\n",
        "\n",
        "print(\"Confusion matrix:\")\n",
        "print(conf_matrix_df)\n",
        "\n",
        "accuracy_w2v_skipgram = num_correct / label_test_torch.numpy().shape[0]\n",
        "accuracy_w2v_skipgram_percentage = accuracy_w2v_skipgram * 100\n",
        "\n",
        "print(f\"Accuracy: {accuracy_w2v_skipgram_percentage:.2f}%\")\n",
        "\n",
        "# Classification report\n",
        "class_names = [\"positive\", \"neutral\", \"negative\"]\n",
        "cr = classification_report(label_test_torch.numpy(), predicted_w2v_skipgram, target_names=class_names)\n",
        "print(\"Classification Report:\")\n",
        "print(cr)\n"
      ]
    },
    {
      "cell_type": "markdown",
      "metadata": {
        "id": "RICRI2g18_Pa"
      },
      "source": [
        "## GRU ablation study"
      ]
    },
    {
      "cell_type": "code",
      "execution_count": null,
      "metadata": {
        "id": "s0GiFDc48-Y0"
      },
      "outputs": [],
      "source": [
        "import torch\n",
        "import torch.nn as nn\n",
        "import torch.nn.functional as F\n",
        "\n",
        "class GRUClassifier(nn.Module):\n",
        "    def __init__(self, input_size, hidden_size,number_padding, output_size):\n",
        "        ## input_size : ([7978, 41, 50])\n",
        "        ## hidden_size : 50\n",
        "        ## number_padding : 41\n",
        "        ## output_size : 3\n",
        "\n",
        "        super(GRUClassifier, self).__init__()\n",
        "        self.hidden_size = hidden_size\n",
        "        self.gru = nn.GRU(input_size, hidden_size)\n",
        "        self.fc1 = nn.Linear(hidden_size*number_padding, output_size)\n",
        "\n",
        "\n",
        "\n",
        "    def forward(self, input_seq):\n",
        "        gru_out, _ = self.gru(input_seq[:, :-1, :]) ## at first only use the review aspect ([7978, 40, 50])\n",
        "\n",
        "        concat_aspect = torch.cat((gru_out, input_seq[:,-1:,:]), dim=1) ## now concat with the aspect ([7978, 1, 50])\n",
        "        fc1_out = self.fc1(concat_aspect.view(concat_aspect.size(0), -1))\n",
        "        output = F.softmax( fc1_out, dim=1)\n",
        "        return output\n",
        "\n",
        "embedding_size = len(next(iter(embeddings_index)))\n",
        "hidden_size = 50\n",
        "number_padding = final_train_glove.size(1) ## you can use any since all input are same size\n",
        "output_size = label_train_torch.size(-1)\n",
        "\n",
        "# Initialize the model\n",
        "model = GRUClassifier(embedding_size, hidden_size, number_padding,output_size)\n",
        "\n",
        "\n",
        "# Define loss function and optimizer - adam & sgd\n",
        "criterion = nn.CrossEntropyLoss()\n",
        "#optimizer = torch.optim.SGD(model.parameters(), lr=0.001) ### uncomment to try\n",
        "optimizer = torch.optim.Adam(model.parameters(), lr=0.001)\n"
      ]
    },
    {
      "cell_type": "code",
      "execution_count": null,
      "metadata": {
        "colab": {
          "base_uri": "https://localhost:8080/"
        },
        "id": "hZr-caYp9LKF",
        "outputId": "e240f576-8c6a-42c8-8178-f87cdb0a79d4"
      },
      "outputs": [
        {
          "name": "stdout",
          "output_type": "stream",
          "text": [
            "Epoch [1/1000], Loss: 1.0951\n",
            "Epoch [101/1000], Loss: 0.9853\n",
            "Epoch [201/1000], Loss: 0.9287\n",
            "Epoch [301/1000], Loss: 0.8490\n",
            "Epoch [401/1000], Loss: 0.7951\n",
            "Epoch [501/1000], Loss: 0.7647\n",
            "Epoch [601/1000], Loss: 0.7449\n",
            "Epoch [701/1000], Loss: 0.7340\n",
            "Epoch [801/1000], Loss: 0.7222\n",
            "Epoch [901/1000], Loss: 0.7282\n"
          ]
        }
      ],
      "source": [
        "\n",
        "# Training loop\n",
        "for epoch in range(1000):  # Training for 1000 epochs\n",
        "    optimizer.zero_grad()\n",
        "    output = model(final_train_w2v_skipgram)\n",
        "    loss = criterion(output, label_train_torch)\n",
        "    loss.backward()\n",
        "    optimizer.step()\n",
        "    if epoch % 100 == 0:\n",
        "        print('Epoch [{}/{}], Loss: {:.4f}'.format(epoch+1, 1000, loss.item()))\n"
      ]
    },
    {
      "cell_type": "code",
      "execution_count": null,
      "metadata": {
        "colab": {
          "base_uri": "https://localhost:8080/"
        },
        "id": "xdr6qSoK9LYO",
        "outputId": "721c49e1-1ebc-4138-dad8-c9d3ed95d363"
      },
      "outputs": [
        {
          "name": "stdout",
          "output_type": "stream",
          "text": [
            "Number of correct answers: 482\n",
            "Confusion matrix:\n",
            "               Predicted Positive  Predicted Neutral  Predicted Negative\n",
            "True Positive                  99                 94                  52\n",
            "True Neutral                   66                274                  53\n",
            "True Negative                  51                103                 109\n",
            "Accuracy: 53.50%\n",
            "Classification Report:\n",
            "              precision    recall  f1-score   support\n",
            "\n",
            "    positive       0.46      0.40      0.43       245\n",
            "     neutral       0.58      0.70      0.63       393\n",
            "    negative       0.51      0.41      0.46       263\n",
            "\n",
            "   micro avg       0.53      0.53      0.53       901\n",
            "   macro avg       0.52      0.51      0.51       901\n",
            "weighted avg       0.53      0.53      0.53       901\n",
            " samples avg       0.53      0.53      0.53       901\n",
            "\n"
          ]
        }
      ],
      "source": [
        "# Testing loop\n",
        "output_test = model(final_test_w2v_skipgram)\n",
        "output_test = output_test.detach().numpy()\n",
        "\n",
        "max_indices = np.argmax(output_test, axis=1)\n",
        "predicted_w2v_skipgram = np.zeros_like(output_test)\n",
        "predicted_w2v_skipgram[np.arange(len(output_test)), max_indices] = 1\n",
        "\n",
        "num_correct = np.sum(np.all(predicted_w2v_skipgram == label_test_torch.numpy(), axis=1))\n",
        "\n",
        "print(\"Number of correct answers:\", num_correct)\n",
        "\n",
        "# Compute confusion matrix\n",
        "conf_matrix = np.zeros((predicted_w2v_skipgram.shape[1], label_test_torch.numpy().shape[1]), dtype=int)\n",
        "for pred, true in zip(predicted_w2v_skipgram, label_test_torch.numpy()):\n",
        "    pred_idx = np.where(pred == 1)[0]\n",
        "    true_idx = np.where(true == 1)[0]\n",
        "    conf_matrix[true_idx[:, None], pred_idx] += 1\n",
        "\n",
        "# Convert confusion matrix to DataFrame\n",
        "conf_matrix_df = pd.DataFrame(conf_matrix, index=['True Positive', 'True Neutral', 'True Negative'],\n",
        "                              columns=['Predicted Positive', 'Predicted Neutral', 'Predicted Negative'])\n",
        "\n",
        "print(\"Confusion matrix:\")\n",
        "print(conf_matrix_df)\n",
        "\n",
        "accuracy_w2v_skipgram = num_correct / label_test_torch.numpy().shape[0]\n",
        "accuracy_w2v_skipgram_percentage = accuracy_w2v_skipgram * 100\n",
        "\n",
        "print(f\"Accuracy: {accuracy_w2v_skipgram_percentage:.2f}%\")\n",
        "\n",
        "# Classification report\n",
        "class_names = [\"positive\", \"neutral\", \"negative\"]\n",
        "cr = classification_report(label_test_torch.numpy(), predicted_w2v_skipgram, target_names=class_names)\n",
        "print(\"Classification Report:\")\n",
        "print(cr)\n"
      ]
    },
    {
      "cell_type": "code",
      "execution_count": null,
      "metadata": {
        "id": "dwp2tb0I9Ln2"
      },
      "outputs": [],
      "source": []
    },
    {
      "cell_type": "markdown",
      "metadata": {
        "id": "p7BwVcyfgjhc"
      },
      "source": [
        "# Model 2 - LSTM with attention"
      ]
    },
    {
      "cell_type": "markdown",
      "metadata": {
        "id": "66B78rAwQksL"
      },
      "source": [
        "In the model 3, the main goal is to use the aspect information effectively in conjunction with the review information in the LSTM-based model with attention."
      ]
    },
    {
      "cell_type": "markdown",
      "metadata": {
        "id": "2Ua9QPM1Qkij"
      },
      "source": [
        "Note that our input is the concatenation between reviews and aspects. As the reviews has maximum length of 40 and aspect only has one length, the concatenation between the two of them will be 41. The Steps are:\n",
        "\n",
        "1. Use the entire review and aspect information as input to the LSTM.\n",
        "2. Apply the attention mechanism to compute the attention weights and context vector.\n",
        "3. Combine the context vector with the aspect information before passing it through the fully connected layer.\n",
        "4. Apply softmax layer to convert the result into categorization vectors."
      ]
    },
    {
      "cell_type": "markdown",
      "metadata": {
        "id": "Qeh5OtrnXgeD"
      },
      "source": [
        "AT-LSTM model with Word2Vec Skipgram-input is the best model"
      ]
    },
    {
      "cell_type": "code",
      "execution_count": null,
      "metadata": {
        "id": "_dz1ruae3Y1_"
      },
      "outputs": [],
      "source": [
        "class LSTMWithAttention(nn.Module):\n",
        "    def __init__(self, input_size, hidden_size, output_size):\n",
        "        ## input_size : ([7978, 41, 50])\n",
        "        ## hidden_size : 50\n",
        "        ## output_size : 3\n",
        "\n",
        "        super(LSTMWithAttention, self).__init__()\n",
        "        self.hidden_size = hidden_size\n",
        "        self.lstm = nn.LSTM(input_size, hidden_size)\n",
        "        self.fc1 = nn.Linear(hidden_size, output_size)\n",
        "        self.softmax = nn.Softmax(dim=1)\n",
        "\n",
        "    def forward(self, input_seq):\n",
        "        ## use all inputs information (both reviews + aspects)\n",
        "        ## input_seq = ([7978, 41, 50])\n",
        "        input_seq = input_seq.permute(1, 0, 2)  ## permute it first to ([41, 7978, 50]) since we want to take all 7978 hidden layers\n",
        "        lstm_out,(hidden, cell) = self.lstm(input_seq)  # lstm_out shape: [batch_size, seq_length, hidden_size]\n",
        "        ## now the hidden will have Size([1, 7978, 50])\n",
        "        lstm_out = lstm_out.permute(1, 0, 2) ## change it back to how it supposed to be ([7978, 41, 50])\n",
        "\n",
        "        hidden = hidden.squeeze(0) ## now the size is ([7978, 50])\n",
        "\n",
        "        ## do weighted sum lsmt_out([7978, 41, 50]) * hidden ([7978, 50, 1])\n",
        "        ## the result will be ([7978, 41]) >> 7978 inputs where each input has 41 words\n",
        "        attention_weights = torch.bmm(lstm_out, hidden.unsqueeze(2)).squeeze(2) ## calculate the attention of for all inputs\n",
        "\n",
        "        ## use softmax to make all the 41 words weight bcm probability\n",
        "        attention_weights = F.softmax(attention_weights, dim=1)\n",
        "\n",
        "        ## calculate the lstm_output itself with the attention probability\n",
        "        result_self_attention = torch.bmm(lstm_out.transpose(1, 2),\n",
        "                                     attention_weights.unsqueeze(2)).squeeze(2)\n",
        "\n",
        "        ## add another layer of neural network\n",
        "        fc1_out = self.fc1(result_self_attention.squeeze(0))\n",
        "\n",
        "        # Apply softmax for class probability\n",
        "        output = self.softmax(fc1_out)\n",
        "\n",
        "        return output, attention_weights\n"
      ]
    },
    {
      "cell_type": "code",
      "execution_count": null,
      "metadata": {
        "id": "E6QTgnrlf2zz"
      },
      "outputs": [],
      "source": [
        "# Initialize the model\n",
        "embedding_size = len(next(iter(embeddings_index)))\n",
        "hidden_size = 50\n",
        "#number_padding = final_test_w2v_cbow.size(1) ## you can use any since all input are same size\n",
        "output_size = label_train_torch.size(-1)\n",
        "\n",
        "# Initialize the model\n",
        "model = LSTMWithAttention(embedding_size, hidden_size, output_size)\n",
        "\n",
        "\n",
        "# Define loss function and optimizer - adam\n",
        "criterion = nn.CrossEntropyLoss()\n",
        "optimizer = torch.optim.Adam(model.parameters(), lr=0.001)"
      ]
    },
    {
      "cell_type": "markdown",
      "metadata": {
        "id": "76tzx92wNIN2"
      },
      "source": [
        "## Embedding inputs for ablation study"
      ]
    },
    {
      "cell_type": "markdown",
      "metadata": {
        "id": "6_h4LG-Zgya1"
      },
      "source": [
        "### Glove-Input"
      ]
    },
    {
      "cell_type": "code",
      "execution_count": null,
      "metadata": {
        "colab": {
          "base_uri": "https://localhost:8080/"
        },
        "id": "-R2JZhC7gyLI",
        "outputId": "454a3292-79ca-4374-b64e-fa6bd396eaa1"
      },
      "outputs": [
        {
          "name": "stdout",
          "output_type": "stream",
          "text": [
            "Epoch [1/1000], Loss: 1.0947\n",
            "Epoch [101/1000], Loss: 0.9339\n",
            "Epoch [201/1000], Loss: 0.8852\n",
            "Epoch [301/1000], Loss: 0.8650\n",
            "Epoch [401/1000], Loss: 0.8378\n",
            "Epoch [501/1000], Loss: 0.8191\n",
            "Epoch [601/1000], Loss: 0.8078\n",
            "Epoch [701/1000], Loss: 0.7967\n",
            "Epoch [801/1000], Loss: 0.7923\n",
            "Epoch [901/1000], Loss: 0.7940\n"
          ]
        }
      ],
      "source": [
        "# Training loop - final_train_glove\n",
        "for epoch in range(1000):  # Training for 100 epochs\n",
        "    model.train()  # Set the model to training mode\n",
        "\n",
        "    optimizer.zero_grad()\n",
        "    output,weight = model(final_train_glove)  # Forward pass\n",
        "\n",
        "    # Calculate loss with attention\n",
        "    loss = criterion(output, label_train_torch)\n",
        "\n",
        "\n",
        "    # Backpropagation\n",
        "    loss.backward()\n",
        "    optimizer.step()\n",
        "\n",
        "    # Print loss\n",
        "    if epoch % 100 == 0:\n",
        "        print('Epoch [{}/{}], Loss: {:.4f}'.format(epoch+1, 1000, loss.item()))"
      ]
    },
    {
      "cell_type": "code",
      "execution_count": null,
      "metadata": {
        "colab": {
          "base_uri": "https://localhost:8080/"
        },
        "id": "4oDZ80QUgyAb",
        "outputId": "aa519182-f7e7-41b8-e667-5d7ec4f687ba"
      },
      "outputs": [
        {
          "name": "stdout",
          "output_type": "stream",
          "text": [
            "(901, 3)\n",
            "(901, 3)\n",
            "Number of correct answers: 564\n",
            "Confusion matrix:\n",
            "               Predicted Positive  Predicted Neutral  Predicted Negative\n",
            "True Positive                  94                 67                  84\n",
            "True Neutral                   55                306                  32\n",
            "True Negative                  46                 53                 164\n",
            "Accuracy: 62.60%\n",
            "Classification Report:\n",
            "              precision    recall  f1-score   support\n",
            "\n",
            "    positive       0.48      0.38      0.43       245\n",
            "     neutral       0.72      0.78      0.75       393\n",
            "    negative       0.59      0.62      0.60       263\n",
            "\n",
            "   micro avg       0.63      0.63      0.63       901\n",
            "   macro avg       0.60      0.60      0.59       901\n",
            "weighted avg       0.62      0.63      0.62       901\n",
            " samples avg       0.63      0.63      0.63       901\n",
            "\n"
          ]
        }
      ],
      "source": [
        "# Testing loop\n",
        "output_test,weight_test = model(final_test_glove)\n",
        "output_test = output_test.detach().numpy()\n",
        "\n",
        "max_indices = np.argmax(output_test, axis=1)\n",
        "predicted_glove = np.zeros_like(output_test)\n",
        "predicted_glove[np.arange(len(output_test)), max_indices] = 1\n",
        "\n",
        "num_correct = np.sum(np.all(predicted_glove == label_test_torch.numpy(), axis=1))\n",
        "\n",
        "print(\"Number of correct answers:\", num_correct)\n",
        "\n",
        "# Compute confusion matrix\n",
        "conf_matrix = np.zeros((predicted_glove.shape[1], label_test_torch.numpy().shape[1]), dtype=int)\n",
        "for pred, true in zip(predicted_glove, label_test_torch.numpy()):\n",
        "    pred_idx = np.where(pred == 1)[0]\n",
        "    true_idx = np.where(true == 1)[0]\n",
        "    conf_matrix[true_idx[:, None], pred_idx] += 1\n",
        "\n",
        "# Convert confusion matrix to DataFrame\n",
        "conf_matrix_df = pd.DataFrame(conf_matrix, index=['True Positive', 'True Neutral', 'True Negative'],\n",
        "                              columns=['Predicted Positive', 'Predicted Neutral', 'Predicted Negative'])\n",
        "\n",
        "print(\"Confusion matrix:\")\n",
        "print(conf_matrix_df)\n",
        "\n",
        "accuracy_glove= num_correct / label_test_torch.numpy().shape[0]\n",
        "accuracy_glove_percentage = accuracy_glove * 100\n",
        "\n",
        "print(f\"Accuracy: {accuracy_glove_percentage:.2f}%\")\n",
        "\n",
        "# Classification report\n",
        "class_names = [\"positive\", \"neutral\", \"negative\"]\n",
        "cr = classification_report(label_test_torch.numpy(), predicted_glove, target_names=class_names)\n",
        "print(\"Classification Report:\")\n",
        "print(cr)"
      ]
    },
    {
      "cell_type": "markdown",
      "metadata": {
        "id": "sqN5p6qC6dbq"
      },
      "source": [
        "### Word2Vec Cbow-Input"
      ]
    },
    {
      "cell_type": "code",
      "execution_count": null,
      "metadata": {
        "colab": {
          "base_uri": "https://localhost:8080/"
        },
        "id": "ZvPKXrEPVtaB",
        "outputId": "0864f5da-fb5a-4e37-d2e7-8c8bf8ea228c"
      },
      "outputs": [
        {
          "name": "stdout",
          "output_type": "stream",
          "text": [
            "Epoch [1/1000], Loss: 1.2491\n",
            "Epoch [101/1000], Loss: 0.9546\n",
            "Epoch [201/1000], Loss: 0.9411\n",
            "Epoch [301/1000], Loss: 0.9351\n",
            "Epoch [401/1000], Loss: 0.9285\n",
            "Epoch [501/1000], Loss: 0.9224\n",
            "Epoch [601/1000], Loss: 0.9148\n",
            "Epoch [701/1000], Loss: 0.9118\n",
            "Epoch [801/1000], Loss: 0.9043\n",
            "Epoch [901/1000], Loss: 0.8996\n"
          ]
        }
      ],
      "source": [
        "# Training loop - final_train_w2v_cbow\n",
        "for epoch in range(1000):  # Training for 100 epochs\n",
        "    model.train()  # Set the model to training mode\n",
        "\n",
        "    optimizer.zero_grad()\n",
        "    output,weight = model(final_train_w2v_cbow)  # Forward pass\n",
        "\n",
        "    # Calculate loss with attention\n",
        "    loss = criterion(output, label_train_torch)\n",
        "\n",
        "\n",
        "    # Backpropagation\n",
        "    loss.backward()\n",
        "    optimizer.step()\n",
        "\n",
        "    # Print loss\n",
        "    if epoch % 100 == 0:\n",
        "        print('Epoch [{}/{}], Loss: {:.4f}'.format(epoch+1, 1000, loss.item()))"
      ]
    },
    {
      "cell_type": "code",
      "execution_count": null,
      "metadata": {
        "colab": {
          "base_uri": "https://localhost:8080/"
        },
        "id": "ztdufS8fWGct",
        "outputId": "2c3f8df2-e811-4203-f718-cc39cfbd4505"
      },
      "outputs": [
        {
          "name": "stdout",
          "output_type": "stream",
          "text": [
            "(901, 3)\n",
            "(901, 3)\n",
            "Number of correct answers: 546\n",
            "Confusion matrix:\n",
            "               Predicted Positive  Predicted Neutral  Predicted Negative\n",
            "True Positive                  82                 94                  69\n",
            "True Neutral                   51                330                  12\n",
            "True Negative                  49                 80                 134\n",
            "Accuracy: 60.60%\n",
            "Classification Report:\n",
            "              precision    recall  f1-score   support\n",
            "\n",
            "    positive       0.45      0.33      0.38       245\n",
            "     neutral       0.65      0.84      0.74       393\n",
            "    negative       0.62      0.51      0.56       263\n",
            "\n",
            "   micro avg       0.61      0.61      0.61       901\n",
            "   macro avg       0.58      0.56      0.56       901\n",
            "weighted avg       0.59      0.61      0.59       901\n",
            " samples avg       0.61      0.61      0.61       901\n",
            "\n"
          ]
        }
      ],
      "source": [
        "# Testing loop\n",
        "output_test,weight_test = model(final_test_w2v_cbow)\n",
        "output_test = output_test.detach().numpy()\n",
        "\n",
        "max_indices = np.argmax(output_test, axis=1)\n",
        "predicted_w2v_cbow = np.zeros_like(output_test)\n",
        "predicted_w2v_cbow[np.arange(len(output_test)), max_indices] = 1\n",
        "\n",
        "num_correct = np.sum(np.all(predicted_w2v_cbow == label_test_torch.numpy(), axis=1))\n",
        "\n",
        "print(\"Number of correct answers:\", num_correct)\n",
        "\n",
        "# Compute confusion matrix\n",
        "conf_matrix = np.zeros((predicted_w2v_cbow.shape[1], label_test_torch.numpy().shape[1]), dtype=int)\n",
        "for pred, true in zip(predicted_w2v_cbow, label_test_torch.numpy()):\n",
        "    pred_idx = np.where(pred == 1)[0]\n",
        "    true_idx = np.where(true == 1)[0]\n",
        "    conf_matrix[true_idx[:, None], pred_idx] += 1\n",
        "\n",
        "# Convert confusion matrix to DataFrame\n",
        "conf_matrix_df = pd.DataFrame(conf_matrix, index=['True Positive', 'True Neutral', 'True Negative'],\n",
        "                              columns=['Predicted Positive', 'Predicted Neutral', 'Predicted Negative'])\n",
        "\n",
        "print(\"Confusion matrix:\")\n",
        "print(conf_matrix_df)\n",
        "\n",
        "accuracy_w2v_cbow = num_correct / label_test_torch.numpy().shape[0]\n",
        "accuracy_w2v_cbow_percentage = accuracy_w2v_cbow * 100\n",
        "\n",
        "print(f\"Accuracy: {accuracy_w2v_cbow_percentage:.2f}%\")\n",
        "\n",
        "# Classification report\n",
        "class_names = [\"positive\", \"neutral\", \"negative\"]\n",
        "cr = classification_report(label_test_torch.numpy(), predicted_w2v_cbow, target_names=class_names)\n",
        "print(\"Classification Report:\")\n",
        "print(cr)\n",
        "\n"
      ]
    },
    {
      "cell_type": "markdown",
      "metadata": {
        "id": "VPnEeiI8gN0Q"
      },
      "source": [
        "### Word2Vec Skipgram-Input (best)\n"
      ]
    },
    {
      "cell_type": "code",
      "execution_count": null,
      "metadata": {
        "colab": {
          "base_uri": "https://localhost:8080/"
        },
        "id": "YSe5q_s1zZa8",
        "outputId": "4bfb1b30-a127-4f6e-82f5-f821b1c13fcf"
      },
      "outputs": [
        {
          "name": "stdout",
          "output_type": "stream",
          "text": [
            "Epoch [1/1000], Loss: 1.1090, Training Accuracy: 0.2720\n",
            "Epoch [101/1000], Loss: 1.0409, Training Accuracy: 0.4683\n",
            "Epoch [201/1000], Loss: 0.9305, Training Accuracy: 0.6079\n",
            "Epoch [301/1000], Loss: 0.9041, Training Accuracy: 0.6319\n",
            "Epoch [401/1000], Loss: 0.8953, Training Accuracy: 0.6425\n",
            "Epoch [501/1000], Loss: 0.8806, Training Accuracy: 0.6652\n",
            "Epoch [601/1000], Loss: 0.8775, Training Accuracy: 0.6702\n",
            "Epoch [701/1000], Loss: 0.8612, Training Accuracy: 0.6912\n",
            "Epoch [801/1000], Loss: 0.8478, Training Accuracy: 0.7051\n",
            "Epoch [901/1000], Loss: 0.8412, Training Accuracy: 0.7143\n"
          ]
        }
      ],
      "source": [
        "# Lists to store loss and accuracy values\n",
        "train_losses = []\n",
        "train_accuracies = []\n",
        "\n",
        "# Training loop - final_train_w2v_skipgram\n",
        "for epoch in range(1000):  # Training for 1000 epochs\n",
        "    model.train()  # Set the model to training mode\n",
        "\n",
        "    optimizer.zero_grad()\n",
        "    output, weight = model(final_train_w2v_skipgram)  # Forward pass\n",
        "\n",
        "    # Calculate loss with attention\n",
        "    loss = criterion(output, label_train_torch)\n",
        "\n",
        "    # Backpropagation\n",
        "    loss.backward()\n",
        "    optimizer.step()\n",
        "\n",
        "    # Calculate training accuracy\n",
        "    with torch.no_grad():\n",
        "        train_output, _ = model(final_train_w2v_skipgram)\n",
        "\n",
        "        # Assuming train_output is logits, get predictions\n",
        "        train_predictions = torch.argmax(train_output, dim=1)\n",
        "\n",
        "        # Convert one-hot encoded labels to class indices\n",
        "        label_indices = torch.argmax(label_train_torch, dim=1)\n",
        "        train_accuracy = (train_predictions == label_indices).float().mean().item()\n",
        "        train_accuracies.append(train_accuracy)\n",
        "\n",
        "    # Store loss\n",
        "    train_losses.append(loss.item())\n",
        "\n",
        "    # Print loss and accuracy\n",
        "    if epoch % 100 == 0:\n",
        "        print('Epoch [{}/{}], Loss: {:.4f}, Training Accuracy: {:.4f}'.format(epoch + 1, 1000, loss.item(), train_accuracy))\n",
        "\n"
      ]
    },
    {
      "cell_type": "code",
      "execution_count": null,
      "metadata": {
        "colab": {
          "base_uri": "https://localhost:8080/",
          "height": 338
        },
        "id": "GNiwScSC1sj2",
        "outputId": "fc6c9e53-9b4f-4f51-9873-c6c808f53770"
      },
      "outputs": [
        {
          "data": {
            "image/png": "[encoded data removed]",
            "text/plain": [
              "<Figure size 2000x500 with 2 Axes>"
            ]
          },
          "metadata": {},
          "output_type": "display_data"
        }
      ],
      "source": [
        "import matplotlib.pyplot as plt\n",
        "\n",
        "# Plot loss and accuracy against epoch side by side\n",
        "fig, axs = plt.subplots(1, 2, figsize=(20, 5))\n",
        "\n",
        "# Plot loss\n",
        "axs[0].plot(range(1, len(train_losses) + 1), train_losses, label='Training Loss')\n",
        "axs[0].set_xlabel('Epochs')\n",
        "axs[0].set_ylabel('Loss')\n",
        "axs[0].set_title('Training Loss over Epochs')\n",
        "axs[0].legend()\n",
        "\n",
        "# Plot accuracy\n",
        "axs[1].plot(range(1, len(train_accuracies) + 1), train_accuracies, label='Training Accuracy')\n",
        "axs[1].set_xlabel('Epochs')\n",
        "axs[1].set_ylabel('Accuracy')\n",
        "axs[1].set_title('Training Accuracy over Epochs')\n",
        "axs[1].legend()\n",
        "\n",
        "plt.show()\n"
      ]
    },
    {
      "cell_type": "code",
      "execution_count": null,
      "metadata": {
        "colab": {
          "base_uri": "https://localhost:8080/"
        },
        "id": "KRi7TmCIV8jM",
        "outputId": "522c5e99-39fd-46b9-dc1c-9df423fcb835"
      },
      "outputs": [
        {
          "name": "stdout",
          "output_type": "stream",
          "text": [
            "Number of correct answers: 573\n",
            "Confusion matrix:\n",
            "               Predicted Positive  Predicted Neutral  Predicted Negative\n",
            "True Positive                 103                 77                  65\n",
            "True Neutral                   52                315                  26\n",
            "True Negative                  49                 59                 155\n",
            "Accuracy: 63.60%\n",
            "Classification Report:\n",
            "              precision    recall  f1-score   support\n",
            "\n",
            "    positive       0.50      0.42      0.46       245\n",
            "     neutral       0.70      0.80      0.75       393\n",
            "    negative       0.63      0.59      0.61       263\n",
            "\n",
            "   micro avg       0.64      0.64      0.64       901\n",
            "   macro avg       0.61      0.60      0.60       901\n",
            "weighted avg       0.63      0.64      0.63       901\n",
            " samples avg       0.64      0.64      0.64       901\n",
            "\n"
          ]
        }
      ],
      "source": [
        "# Testing loop\n",
        "output_test,weight_test = model(final_test_w2v_skipgram)\n",
        "output_test = output_test.detach().numpy()\n",
        "\n",
        "max_indices = np.argmax(output_test, axis=1)\n",
        "predicted_w2v_skipgram = np.zeros_like(output_test)\n",
        "predicted_w2v_skipgram[np.arange(len(output_test)), max_indices] = 1\n",
        "\n",
        "num_correct = np.sum(np.all(predicted_w2v_skipgram == label_test_torch.numpy(), axis=1))\n",
        "\n",
        "print(\"Number of correct answers:\", num_correct)\n",
        "\n",
        "# Compute confusion matrix\n",
        "conf_matrix = np.zeros((predicted_w2v_skipgram.shape[1], label_test_torch.numpy().shape[1]), dtype=int)\n",
        "for pred, true in zip(predicted_w2v_skipgram, label_test_torch.numpy()):\n",
        "    pred_idx = np.where(pred == 1)[0]\n",
        "    true_idx = np.where(true == 1)[0]\n",
        "    conf_matrix[true_idx[:, None], pred_idx] += 1\n",
        "\n",
        "# Convert confusion matrix to DataFrame\n",
        "conf_matrix_df = pd.DataFrame(conf_matrix, index=['True Positive', 'True Neutral', 'True Negative'],\n",
        "                              columns=['Predicted Positive', 'Predicted Neutral', 'Predicted Negative'])\n",
        "\n",
        "print(\"Confusion matrix:\")\n",
        "print(conf_matrix_df)\n",
        "\n",
        "accuracy_w2v_skipgram = num_correct / label_test_torch.numpy().shape[0]\n",
        "accuracy_w2v_skipgram_percentage = accuracy_w2v_skipgram * 100\n",
        "\n",
        "print(f\"Accuracy: {accuracy_w2v_skipgram_percentage:.2f}%\")\n",
        "\n",
        "# Classification report\n",
        "class_names = [\"positive\", \"neutral\", \"negative\"]\n",
        "cr = classification_report(label_test_torch.numpy(), predicted_w2v_skipgram, target_names=class_names)\n",
        "print(\"Classification Report:\")\n",
        "print(cr)\n"
      ]
    },
    {
      "cell_type": "markdown",
      "metadata": {
        "id": "ONW7J15KghqW"
      },
      "source": [
        "### FastText Cbow-Input"
      ]
    },
    {
      "cell_type": "code",
      "execution_count": null,
      "metadata": {
        "colab": {
          "base_uri": "https://localhost:8080/"
        },
        "id": "W323UqdZggYX",
        "outputId": "99a142e6-938c-4c80-9462-73ef8ec20284"
      },
      "outputs": [
        {
          "name": "stdout",
          "output_type": "stream",
          "text": [
            "Epoch [1/1000], Loss: 1.0924\n",
            "Epoch [101/1000], Loss: 0.9776\n",
            "Epoch [201/1000], Loss: 0.9511\n",
            "Epoch [301/1000], Loss: 0.9395\n",
            "Epoch [401/1000], Loss: 0.9241\n",
            "Epoch [501/1000], Loss: 0.9094\n",
            "Epoch [601/1000], Loss: 0.8995\n",
            "Epoch [701/1000], Loss: 0.8955\n",
            "Epoch [801/1000], Loss: 0.8889\n",
            "Epoch [901/1000], Loss: 0.8836\n"
          ]
        }
      ],
      "source": [
        "# Training loop - final_train_ft_cbow\n",
        "for epoch in range(1000):  # Training for 100 epochs\n",
        "    model.train()  # Set the model to training mode\n",
        "\n",
        "    optimizer.zero_grad()\n",
        "    output,weight = model(final_train_ft_cbow)  # Forward pass\n",
        "\n",
        "    # Calculate loss with attention\n",
        "    loss = criterion(output, label_train_torch)\n",
        "\n",
        "\n",
        "    # Backpropagation\n",
        "    loss.backward()\n",
        "    optimizer.step()\n",
        "\n",
        "    # Print loss\n",
        "    if epoch % 100 == 0:\n",
        "        print('Epoch [{}/{}], Loss: {:.4f}'.format(epoch+1, 1000, loss.item()))"
      ]
    },
    {
      "cell_type": "code",
      "execution_count": null,
      "metadata": {
        "colab": {
          "base_uri": "https://localhost:8080/"
        },
        "id": "bJYy5ateggVU",
        "outputId": "6032d690-502a-4f44-f718-b846bbe8fd19"
      },
      "outputs": [
        {
          "name": "stdout",
          "output_type": "stream",
          "text": [
            "Number of correct answers: 542\n",
            "Confusion matrix:\n",
            "               Predicted Positive  Predicted Neutral  Predicted Negative\n",
            "True Positive                  96                 80                  69\n",
            "True Neutral                   56                308                  29\n",
            "True Negative                  54                 71                 138\n",
            "Accuracy: 60.16%\n",
            "Classification Report:\n",
            "              precision    recall  f1-score   support\n",
            "\n",
            "    positive       0.47      0.39      0.43       245\n",
            "     neutral       0.67      0.78      0.72       393\n",
            "    negative       0.58      0.52      0.55       263\n",
            "\n",
            "   micro avg       0.60      0.60      0.60       901\n",
            "   macro avg       0.57      0.57      0.57       901\n",
            "weighted avg       0.59      0.60      0.59       901\n",
            " samples avg       0.60      0.60      0.60       901\n",
            "\n"
          ]
        }
      ],
      "source": [
        "# Testing loop\n",
        "output_test,weight_test = model(final_test_ft_cbow)\n",
        "output_test = output_test.detach().numpy()\n",
        "\n",
        "max_indices = np.argmax(output_test, axis=1)\n",
        "predicted_ft_cb = np.zeros_like(output_test)\n",
        "predicted_ft_cb[np.arange(len(output_test)), max_indices] = 1\n",
        "\n",
        "num_correct = np.sum(np.all(predicted_ft_cb == label_test_torch.numpy(), axis=1))\n",
        "\n",
        "print(\"Number of correct answers:\", num_correct)\n",
        "\n",
        "# Compute confusion matrix\n",
        "conf_matrix = np.zeros((predicted_ft_cb.shape[1], label_test_torch.numpy().shape[1]), dtype=int)\n",
        "for pred, true in zip(predicted_ft_cb, label_test_torch.numpy()):\n",
        "    pred_idx = np.where(pred == 1)[0]\n",
        "    true_idx = np.where(true == 1)[0]\n",
        "    conf_matrix[true_idx[:, None], pred_idx] += 1\n",
        "\n",
        "# Convert confusion matrix to DataFrame\n",
        "conf_matrix_df = pd.DataFrame(conf_matrix, index=['True Positive', 'True Neutral', 'True Negative'],\n",
        "                              columns=['Predicted Positive', 'Predicted Neutral', 'Predicted Negative'])\n",
        "\n",
        "print(\"Confusion matrix:\")\n",
        "print(conf_matrix_df)\n",
        "\n",
        "accuracy_ft_cb = num_correct / label_test_torch.numpy().shape[0]\n",
        "accuracy_ft_cb_percentage = accuracy_ft_cb * 100\n",
        "\n",
        "print(f\"Accuracy: {accuracy_ft_cb_percentage:.2f}%\")\n",
        "\n",
        "# Classification report\n",
        "class_names = [\"positive\", \"neutral\", \"negative\"]\n",
        "cr = classification_report(label_test_torch.numpy(), predicted_ft_cb, target_names=class_names)\n",
        "print(\"Classification Report:\")\n",
        "print(cr)"
      ]
    },
    {
      "cell_type": "markdown",
      "metadata": {
        "id": "mXqjmI1igsTw"
      },
      "source": [
        "### FastText Skipgram-Input"
      ]
    },
    {
      "cell_type": "code",
      "execution_count": null,
      "metadata": {
        "colab": {
          "base_uri": "https://localhost:8080/"
        },
        "id": "u-IyF0dJggS9",
        "outputId": "32af55ef-7d15-479a-d90d-b91759119791"
      },
      "outputs": [
        {
          "name": "stdout",
          "output_type": "stream",
          "text": [
            "Epoch [1/1000], Loss: 1.2164\n",
            "Epoch [101/1000], Loss: 0.9287\n",
            "Epoch [201/1000], Loss: 0.9130\n",
            "Epoch [301/1000], Loss: 0.9007\n",
            "Epoch [401/1000], Loss: 0.8898\n",
            "Epoch [501/1000], Loss: 0.8799\n",
            "Epoch [601/1000], Loss: 0.8668\n",
            "Epoch [701/1000], Loss: 0.8565\n",
            "Epoch [801/1000], Loss: 0.8522\n",
            "Epoch [901/1000], Loss: 0.8449\n"
          ]
        }
      ],
      "source": [
        "# Training loop - final_train_ft_skipgram\n",
        "for epoch in range(1000):  # Training for 100 epochs\n",
        "    model.train()  # Set the model to training mode\n",
        "\n",
        "    optimizer.zero_grad()\n",
        "    output,weight = model(final_train_ft_skipgram)  # Forward pass\n",
        "\n",
        "    # Calculate loss with attention\n",
        "    loss = criterion(output, label_train_torch)\n",
        "\n",
        "\n",
        "    # Backpropagation\n",
        "    loss.backward()\n",
        "    optimizer.step()\n",
        "\n",
        "    # Print loss\n",
        "    if epoch % 100 == 0:\n",
        "        print('Epoch [{}/{}], Loss: {:.4f}'.format(epoch+1, 1000, loss.item()))"
      ]
    },
    {
      "cell_type": "code",
      "execution_count": null,
      "metadata": {
        "colab": {
          "base_uri": "https://localhost:8080/"
        },
        "id": "O6P_IE8Dgqs6",
        "outputId": "716c6d9b-ec6a-468a-909f-086928b0c9cd"
      },
      "outputs": [
        {
          "name": "stdout",
          "output_type": "stream",
          "text": [
            "(901, 3)\n",
            "(901, 3)\n",
            "Number of correct answers: 562\n",
            "Confusion matrix:\n",
            "               Predicted Positive  Predicted Neutral  Predicted Negative\n",
            "True Positive                  94                 76                  75\n",
            "True Neutral                   50                316                  27\n",
            "True Negative                  48                 63                 152\n",
            "Accuracy: 62.38%\n",
            "Classification Report:\n",
            "              precision    recall  f1-score   support\n",
            "\n",
            "    positive       0.49      0.38      0.43       245\n",
            "     neutral       0.69      0.80      0.75       393\n",
            "    negative       0.60      0.58      0.59       263\n",
            "\n",
            "   micro avg       0.62      0.62      0.62       901\n",
            "   macro avg       0.59      0.59      0.59       901\n",
            "weighted avg       0.61      0.62      0.61       901\n",
            " samples avg       0.62      0.62      0.62       901\n",
            "\n"
          ]
        }
      ],
      "source": [
        "# Testing loop\n",
        "output_test,weight_test = model(final_test_ft_skipgram)\n",
        "output_test = output_test.detach().numpy()\n",
        "\n",
        "print(output_test.shape)\n",
        "\n",
        "max_indices = np.argmax(output_test, axis=1)\n",
        "predicted_ft_skipgram = np.zeros_like(output_test)\n",
        "predicted_ft_skipgram[np.arange(len(output_test)), max_indices] = 1\n",
        "\n",
        "num_correct = np.sum(np.all(predicted_ft_skipgram == label_test_torch.numpy(), axis=1))\n",
        "\n",
        "\n",
        "print(label_test_torch.numpy().shape)\n",
        "\n",
        "print(\"Number of correct answers:\", num_correct)\n",
        "\n",
        "# Compute confusion matrix\n",
        "conf_matrix = np.zeros((predicted_ft_skipgram.shape[1], label_test_torch.numpy().shape[1]), dtype=int)\n",
        "for pred, true in zip(predicted_ft_skipgram, label_test_torch.numpy()):\n",
        "    pred_idx = np.where(pred == 1)[0]\n",
        "    true_idx = np.where(true == 1)[0]\n",
        "    conf_matrix[true_idx[:, None], pred_idx] += 1\n",
        "\n",
        "# Convert confusion matrix to DataFrame\n",
        "conf_matrix_df = pd.DataFrame(conf_matrix, index=['True Positive', 'True Neutral', 'True Negative'],\n",
        "                              columns=['Predicted Positive', 'Predicted Neutral', 'Predicted Negative'])\n",
        "\n",
        "print(\"Confusion matrix:\")\n",
        "print(conf_matrix_df)\n",
        "\n",
        "accuracy_ft_skipgram = num_correct / label_test_torch.numpy().shape[0]\n",
        "accuracy_ft_skipgram_percentage = accuracy_ft_skipgram * 100\n",
        "\n",
        "print(f\"Accuracy: {accuracy_ft_skipgram_percentage:.2f}%\")\n",
        "\n",
        "# Classification report\n",
        "class_names = [\"positive\", \"neutral\", \"negative\"]\n",
        "cr = classification_report(label_test_torch.numpy(), predicted_ft_skipgram, target_names=class_names)\n",
        "print(\"Classification Report:\")\n",
        "print(cr)"
      ]
    },
    {
      "cell_type": "markdown",
      "metadata": {
        "id": "Jy7_ZA_9MUSH"
      },
      "source": [
        "## RNN model for ablation study"
      ]
    },
    {
      "cell_type": "markdown",
      "metadata": {
        "id": "hHx_QgNwM9PP"
      },
      "source": [
        "After choosing the best ebedding input with AT-LSTM. We will compare that model with AT-RNN"
      ]
    },
    {
      "cell_type": "code",
      "execution_count": null,
      "metadata": {
        "id": "FQPw7doUoHds"
      },
      "outputs": [],
      "source": [
        "import torch\n",
        "import torch.nn as nn\n",
        "import torch.nn.functional as F\n",
        "\n",
        "class RNNWithAttention(nn.Module):\n",
        "    def __init__(self, input_size, hidden_size, output_size):\n",
        "        ## input_size : ([7978, 41, 50])\n",
        "        ## hidden_size : 50\n",
        "        ## output_size : 3\n",
        "\n",
        "        super(RNNWithAttention, self).__init__()\n",
        "        self.hidden_size = hidden_size\n",
        "        self.rnn = nn.RNN(input_size, hidden_size, batch_first=True)\n",
        "        self.fc1 = nn.Linear(hidden_size, output_size)\n",
        "        self.softmax = nn.Softmax(dim=1)\n",
        "\n",
        "    def forward(self, input_seq):\n",
        "        # input_seq = ([7978, 41, 50])\n",
        "        rnn_out, hidden = self.rnn(input_seq)  # rnn_out shape: [7978, 41, 50]\n",
        "        hidden = hidden.squeeze(0)  # hidden shape: [7978, 50]\n",
        "\n",
        "        # Compute attention weights\n",
        "        attention_weights = torch.bmm(rnn_out, hidden.unsqueeze(2)).squeeze(2)  # shape: [7978, 41]\n",
        "        attention_weights = F.softmax(attention_weights, dim=1)  # shape: [7978, 41]\n",
        "\n",
        "        # Apply attention weights\n",
        "        result_self_attention = torch.bmm(rnn_out.transpose(1, 2), attention_weights.unsqueeze(2)).squeeze(2)  # shape: [7978, 50]\n",
        "\n",
        "        # Fully connected layer\n",
        "        fc1_out = self.fc1(result_self_attention)  # shape: [7978, 3]\n",
        "        output = self.softmax(fc1_out)  # shape: [7978, 3]\n",
        "\n",
        "        return output, attention_weights\n"
      ]
    },
    {
      "cell_type": "code",
      "execution_count": null,
      "metadata": {
        "id": "UNloCI3FoL-S"
      },
      "outputs": [],
      "source": [
        "# Initialize the model\n",
        "embedding_size = len(next(iter(embeddings_index)))\n",
        "hidden_size = 50\n",
        "#number_padding = final_test_w2v_cbow.size(1) ## you can use any since all input are same size\n",
        "output_size = label_train_torch.size(-1)\n",
        "\n",
        "# Initialize the model\n",
        "model = RNNWithAttention(embedding_size, hidden_size, output_size)\n",
        "\n",
        "# Define loss function and optimizer - adam\n",
        "criterion = nn.CrossEntropyLoss()\n",
        "optimizer = torch.optim.Adam(model.parameters(), lr=0.001)\n",
        "\n"
      ]
    },
    {
      "cell_type": "code",
      "execution_count": null,
      "metadata": {
        "colab": {
          "base_uri": "https://localhost:8080/"
        },
        "id": "I48douJHN6k3",
        "outputId": "b3eaed78-fd5d-423d-9a79-a227d4111b63"
      },
      "outputs": [
        {
          "name": "stdout",
          "output_type": "stream",
          "text": [
            "Epoch [1/1000], Loss: 1.1030\n",
            "Epoch [101/1000], Loss: 0.9705\n",
            "Epoch [201/1000], Loss: 0.9144\n",
            "Epoch [301/1000], Loss: 0.9005\n",
            "Epoch [401/1000], Loss: 0.8932\n",
            "Epoch [501/1000], Loss: 0.8889\n",
            "Epoch [601/1000], Loss: 0.8853\n",
            "Epoch [701/1000], Loss: 0.8844\n",
            "Epoch [801/1000], Loss: 0.8806\n",
            "Epoch [901/1000], Loss: 0.8785\n"
          ]
        }
      ],
      "source": [
        "# Training loop - final_train_w2v_skipgram\n",
        "for epoch in range(1000):  # Training for 100 epochs\n",
        "    model.train()  # Set the model to training mode\n",
        "\n",
        "    optimizer.zero_grad()\n",
        "    output,weight = model(final_train_w2v_skipgram)  # Forward pass\n",
        "\n",
        "    # Calculate loss with attention\n",
        "    loss = criterion(output, label_train_torch)\n",
        "\n",
        "\n",
        "    # Backpropagation\n",
        "    loss.backward()\n",
        "    optimizer.step()\n",
        "\n",
        "    # Print loss\n",
        "    if epoch % 100 == 0:\n",
        "        print('Epoch [{}/{}], Loss: {:.4f}'.format(epoch+1, 1000, loss.item()))"
      ]
    },
    {
      "cell_type": "code",
      "execution_count": null,
      "metadata": {
        "colab": {
          "base_uri": "https://localhost:8080/"
        },
        "id": "QnoUO2WqOpbb",
        "outputId": "45495bda-07c9-4c56-f831-13aec097dd3f"
      },
      "outputs": [
        {
          "name": "stdout",
          "output_type": "stream",
          "text": [
            "Number of correct answers: 564\n",
            "Confusion matrix:\n",
            "               Predicted Positive  Predicted Neutral  Predicted Negative\n",
            "True Positive                  92                 72                  81\n",
            "True Neutral                   45                318                  30\n",
            "True Negative                  45                 64                 154\n",
            "Accuracy: 62.60%\n",
            "Classification Report:\n",
            "              precision    recall  f1-score   support\n",
            "\n",
            "    positive       0.51      0.38      0.43       245\n",
            "     neutral       0.70      0.81      0.75       393\n",
            "    negative       0.58      0.59      0.58       263\n",
            "\n",
            "   micro avg       0.63      0.63      0.63       901\n",
            "   macro avg       0.60      0.59      0.59       901\n",
            "weighted avg       0.61      0.63      0.61       901\n",
            " samples avg       0.63      0.63      0.63       901\n",
            "\n"
          ]
        }
      ],
      "source": [
        "# Testing loop\n",
        "output_test,weight_test = model(final_test_w2v_skipgram)\n",
        "output_test = output_test.detach().numpy()\n",
        "\n",
        "max_indices = np.argmax(output_test, axis=1)\n",
        "predicted_w2v_skipgram = np.zeros_like(output_test)\n",
        "predicted_w2v_skipgram[np.arange(len(output_test)), max_indices] = 1\n",
        "\n",
        "num_correct = np.sum(np.all(predicted_w2v_skipgram == label_test_torch.numpy(), axis=1))\n",
        "\n",
        "print(\"Number of correct answers:\", num_correct)\n",
        "\n",
        "# Compute confusion matrix\n",
        "conf_matrix = np.zeros((predicted_w2v_skipgram.shape[1], label_test_torch.numpy().shape[1]), dtype=int)\n",
        "for pred, true in zip(predicted_w2v_skipgram, label_test_torch.numpy()):\n",
        "    pred_idx = np.where(pred == 1)[0]\n",
        "    true_idx = np.where(true == 1)[0]\n",
        "    conf_matrix[true_idx[:, None], pred_idx] += 1\n",
        "\n",
        "# Convert confusion matrix to DataFrame\n",
        "conf_matrix_df = pd.DataFrame(conf_matrix, index=['True Positive', 'True Neutral', 'True Negative'],\n",
        "                              columns=['Predicted Positive', 'Predicted Neutral', 'Predicted Negative'])\n",
        "\n",
        "print(\"Confusion matrix:\")\n",
        "print(conf_matrix_df)\n",
        "\n",
        "accuracy_w2v_skipgram = num_correct / label_test_torch.numpy().shape[0]\n",
        "accuracy_w2v_skipgram_percentage = accuracy_w2v_skipgram * 100\n",
        "\n",
        "print(f\"Accuracy: {accuracy_w2v_skipgram_percentage:.2f}%\")\n",
        "\n",
        "# Classification report\n",
        "class_names = [\"positive\", \"neutral\", \"negative\"]\n",
        "cr = classification_report(label_test_torch.numpy(), predicted_w2v_skipgram, target_names=class_names)\n",
        "print(\"Classification Report:\")\n",
        "print(cr)\n"
      ]
    },
    {
      "cell_type": "markdown",
      "metadata": {
        "id": "gwJ4QFHqU4G8"
      },
      "source": [
        "## GRU model for ablation study"
      ]
    },
    {
      "cell_type": "code",
      "execution_count": null,
      "metadata": {
        "id": "PZqf-11iU3A7"
      },
      "outputs": [],
      "source": [
        "class GRUWithAttention(nn.Module):\n",
        "    def __init__(self, input_size, hidden_size, output_size):\n",
        "        ## input_size : ([7978, 41, 50])\n",
        "        ## hidden_size : 50\n",
        "        ## output_size : 3\n",
        "\n",
        "        super(GRUWithAttention, self).__init__()\n",
        "        self.hidden_size = hidden_size\n",
        "        self.gru = nn.GRU(input_size, hidden_size)\n",
        "        self.fc1 = nn.Linear(hidden_size, output_size)\n",
        "        self.softmax = nn.Softmax(dim=1)\n",
        "\n",
        "    def forward(self, input_seq):\n",
        "        ## input_seq = ([7978, 41, 50])\n",
        "        input_seq = input_seq.permute(1, 0, 2)  ## permute it first to ([41, 7978, 50])\n",
        "        gru_out, hidden = self.gru(input_seq)  # gru_out shape: [seq_length, batch_size, hidden_size]\n",
        "        gru_out = gru_out.permute(1, 0, 2)  ## change it back to ([7978, 41, 50])\n",
        "        hidden = hidden.squeeze(0)  ## now the size is ([7978, 50])\n",
        "\n",
        "        ## calculate attention weights\n",
        "        attention_weights = torch.bmm(gru_out, hidden.unsqueeze(2)).squeeze(2)  ## ([7978, 41])\n",
        "        attention_weights = F.softmax(attention_weights, dim=1)  ## make it a probability distribution\n",
        "\n",
        "        ## calculate the weighted sum of gru_out\n",
        "        result_self_attention = torch.bmm(gru_out.transpose(1, 2), attention_weights.unsqueeze(2)).squeeze(2)\n",
        "\n",
        "        ## add a fully connected layer\n",
        "        fc1_out = self.fc1(result_self_attention)\n",
        "\n",
        "        ## apply softmax for class probability\n",
        "        output = self.softmax(fc1_out)\n",
        "\n",
        "        return output, attention_weights"
      ]
    },
    {
      "cell_type": "code",
      "execution_count": null,
      "metadata": {
        "id": "wGx4mfl7VYnv"
      },
      "outputs": [],
      "source": [
        "# Initialize the model\n",
        "embedding_size = len(next(iter(embeddings_index)))\n",
        "hidden_size = 50\n",
        "#number_padding = final_test_w2v_cbow.size(1) ## you can use any since all input are same size\n",
        "output_size = label_train_torch.size(-1)\n",
        "\n",
        "# Initialize the model\n",
        "model = GRUWithAttention(embedding_size, hidden_size, output_size)\n",
        "\n",
        "\n",
        "# Define loss function and optimizer - adam\n",
        "criterion = nn.CrossEntropyLoss()\n",
        "optimizer = torch.optim.Adam(model.parameters(), lr=0.001)\n"
      ]
    },
    {
      "cell_type": "code",
      "execution_count": null,
      "metadata": {
        "colab": {
          "base_uri": "https://localhost:8080/"
        },
        "id": "D017M3vtVYic",
        "outputId": "1710e494-0e1c-4e47-87be-1ab85da1cbbc"
      },
      "outputs": [
        {
          "name": "stdout",
          "output_type": "stream",
          "text": [
            "Epoch [1/1000], Loss: 1.1013\n",
            "Epoch [101/1000], Loss: 1.0330\n",
            "Epoch [201/1000], Loss: 0.9737\n",
            "Epoch [301/1000], Loss: 0.9600\n",
            "Epoch [401/1000], Loss: 0.9206\n",
            "Epoch [501/1000], Loss: 0.9104\n",
            "Epoch [601/1000], Loss: 0.9065\n",
            "Epoch [701/1000], Loss: 0.9012\n",
            "Epoch [801/1000], Loss: 0.8977\n",
            "Epoch [901/1000], Loss: 0.8895\n"
          ]
        }
      ],
      "source": [
        "# Training loop - final_train_w2v_skipgram\n",
        "for epoch in range(1000):  # Training for 100 epochs\n",
        "    model.train()  # Set the model to training mode\n",
        "\n",
        "    optimizer.zero_grad()\n",
        "    output,weight = model(final_train_w2v_skipgram)  # Forward pass\n",
        "\n",
        "    # Calculate loss with attention\n",
        "    loss = criterion(output, label_train_torch)\n",
        "\n",
        "\n",
        "    # Backpropagation\n",
        "    loss.backward()\n",
        "    optimizer.step()\n",
        "\n",
        "    # Print loss\n",
        "    if epoch % 100 == 0:\n",
        "        print('Epoch [{}/{}], Loss: {:.4f}'.format(epoch+1, 1000, loss.item()))"
      ]
    },
    {
      "cell_type": "code",
      "execution_count": null,
      "metadata": {
        "colab": {
          "base_uri": "https://localhost:8080/"
        },
        "id": "Fr_blLEzVYfc",
        "outputId": "5f939e88-7d9e-45e1-9279-9bd27f10e018"
      },
      "outputs": [
        {
          "name": "stdout",
          "output_type": "stream",
          "text": [
            "Number of correct answers: 562\n",
            "Confusion matrix:\n",
            "               Predicted Positive  Predicted Neutral  Predicted Negative\n",
            "True Positive                 105                 61                  79\n",
            "True Neutral                   53                308                  32\n",
            "True Negative                  53                 61                 149\n",
            "Accuracy: 62.38%\n",
            "Classification Report:\n",
            "              precision    recall  f1-score   support\n",
            "\n",
            "    positive       0.50      0.43      0.46       245\n",
            "     neutral       0.72      0.78      0.75       393\n",
            "    negative       0.57      0.57      0.57       263\n",
            "\n",
            "   micro avg       0.62      0.62      0.62       901\n",
            "   macro avg       0.60      0.59      0.59       901\n",
            "weighted avg       0.62      0.62      0.62       901\n",
            " samples avg       0.62      0.62      0.62       901\n",
            "\n"
          ]
        }
      ],
      "source": [
        "# Testing loop\n",
        "output_test,weight_test = model(final_test_w2v_skipgram)\n",
        "output_test = output_test.detach().numpy()\n",
        "\n",
        "max_indices = np.argmax(output_test, axis=1)\n",
        "predicted_w2v_skipgram = np.zeros_like(output_test)\n",
        "predicted_w2v_skipgram[np.arange(len(output_test)), max_indices] = 1\n",
        "\n",
        "num_correct = np.sum(np.all(predicted_w2v_skipgram == label_test_torch.numpy(), axis=1))\n",
        "\n",
        "print(\"Number of correct answers:\", num_correct)\n",
        "\n",
        "# Compute confusion matrix\n",
        "conf_matrix = np.zeros((predicted_w2v_skipgram.shape[1], label_test_torch.numpy().shape[1]), dtype=int)\n",
        "for pred, true in zip(predicted_w2v_skipgram, label_test_torch.numpy()):\n",
        "    pred_idx = np.where(pred == 1)[0]\n",
        "    true_idx = np.where(true == 1)[0]\n",
        "    conf_matrix[true_idx[:, None], pred_idx] += 1\n",
        "\n",
        "# Convert confusion matrix to DataFrame\n",
        "conf_matrix_df = pd.DataFrame(conf_matrix, index=['True Positive', 'True Neutral', 'True Negative'],\n",
        "                              columns=['Predicted Positive', 'Predicted Neutral', 'Predicted Negative'])\n",
        "\n",
        "print(\"Confusion matrix:\")\n",
        "print(conf_matrix_df)\n",
        "\n",
        "accuracy_w2v_skipgram = num_correct / label_test_torch.numpy().shape[0]\n",
        "accuracy_w2v_skipgram_percentage = accuracy_w2v_skipgram * 100\n",
        "\n",
        "print(f\"Accuracy: {accuracy_w2v_skipgram_percentage:.2f}%\")\n",
        "\n",
        "# Classification report\n",
        "class_names = [\"positive\", \"neutral\", \"negative\"]\n",
        "cr = classification_report(label_test_torch.numpy(), predicted_w2v_skipgram, target_names=class_names)\n",
        "print(\"Classification Report:\")\n",
        "print(cr)"
      ]
    },
    {
      "cell_type": "markdown",
      "metadata": {
        "id": "BzPsfC-MqmGX"
      },
      "source": [
        "# Model 3 - LSTM with Double Attention"
      ]
    },
    {
      "cell_type": "code",
      "execution_count": null,
      "metadata": {
        "id": "lvmw-pfEqppn"
      },
      "outputs": [],
      "source": [
        "class LSTMWithDAttention(nn.Module):\n",
        "    def __init__(self, input_size, hidden_size,hidden_size2, output_size):\n",
        "        ## input_size : ([7978, 41, 50])\n",
        "        ## hidden_size : 50\n",
        "        ## output_size : 3\n",
        "\n",
        "        super(LSTMWithDAttention, self).__init__()\n",
        "        self.hidden_size = hidden_size\n",
        "        self.hidden_size2 = hidden_size2\n",
        "        self.lstm = nn.LSTM(input_size, hidden_size)\n",
        "        self.fc1 = nn.Linear(hidden_size, hidden_size)\n",
        "        self.fc2 = nn.Linear(hidden_size2, output_size)\n",
        "        self.softmax = nn.Softmax(dim=1)\n",
        "\n",
        "        self.key = nn.Linear(hidden_size, hidden_size)\n",
        "        self.query = nn.Linear(hidden_size, hidden_size)\n",
        "        self.value = nn.Linear(hidden_size, hidden_size)\n",
        "\n",
        "\n",
        "    def forward(self, input_seq):\n",
        "        ## use all inputs information (both reviews)\n",
        "        ## input_seq = ([7978, 41, 50])\n",
        "        x = input_seq[:, :-1, :]\n",
        "        x = x.permute(1, 0, 2)  ## permute it first to ([40, 7978, 50]) since we want to take all 7978 hidden layers\n",
        "        lstm_out,(hidden, cell) = self.lstm(x)  # lstm_out shape: [batch_size, seq_length, hidden_size]\n",
        "        ## now the hidden will have Size([1, 7978, 50])\n",
        "        lstm_out = lstm_out.permute(1, 0, 2) ## change it back to how it supposed to be ([7978, 40, 50])\n",
        "\n",
        "        hidden = hidden.squeeze(0) ## now the size is ([7978, 50])\n",
        "\n",
        "        ## do weighted sum lsmt_out([7978, 41, 50]) * hidden ([7978, 50, 1])\n",
        "        ## the result will be ([7978, 41]) >> 7978 inputs where each input has 41 words\n",
        "        attention_weights = torch.bmm(lstm_out, hidden.unsqueeze(2)).squeeze(2) ## calculate the attention of for all inputs\n",
        "\n",
        "        ## use softmax to make all the 41 words weight bcm probability\n",
        "        attention_weights = F.softmax(attention_weights, dim=1)\n",
        "\n",
        "        ## calculate the lstm_output itself with the attention probability\n",
        "        result_self_attention = torch.bmm(lstm_out.transpose(1, 2),\n",
        "                                     attention_weights.unsqueeze(2)).squeeze(2)\n",
        "\n",
        "        ## Second attention with aspect concatenation\n",
        "\n",
        "        concat_aspect = torch.cat((result_self_attention.unsqueeze(1), input_seq[:,-1:,:]), dim=1)\n",
        "        fc1_out = self.fc1(concat_aspect.squeeze(0))\n",
        "        keys = self.key(fc1_out)\n",
        "        queries = self.query(fc1_out)\n",
        "        values = self.value(fc1_out)\n",
        "        scores = torch.matmul(queries, keys.transpose(-2, -1)) / torch.sqrt(torch.tensor(self.hidden_size, dtype=torch.float32))\n",
        "\n",
        "        attention_weights2 = F.softmax(scores, dim=-1)\n",
        "\n",
        "        # Apply softmax for class probability\n",
        "        result_second_attention = torch.matmul(attention_weights2, values)\n",
        "\n",
        "        output = result_second_attention.squeeze(0)\n",
        "\n",
        "        output = self.fc2(output.view(output.size(0), -1))\n",
        "        output = self.softmax(output)\n",
        "        return output, attention_weights\n"
      ]
    },
    {
      "cell_type": "code",
      "execution_count": null,
      "metadata": {
        "id": "pp5Gee1uqpsl"
      },
      "outputs": [],
      "source": [
        "# Initialize the model\n",
        "embedding_size = len(next(iter(embeddings_index)))\n",
        "hidden_size = 50\n",
        "hidden_size2 = 100\n",
        "#number_padding = final_test_w2v_cbow.size(1) ## you can use any since all input are same size\n",
        "output_size = label_train_torch.size(-1)\n",
        "\n",
        "# Initialize the model\n",
        "model = LSTMWithDAttention(embedding_size, hidden_size,hidden_size2, output_size)\n",
        "\n",
        "\n",
        "# Define loss function and optimizer - adam\n",
        "criterion = nn.CrossEntropyLoss()\n",
        "optimizer = torch.optim.Adam(model.parameters(), lr=0.001)"
      ]
    },
    {
      "cell_type": "markdown",
      "metadata": {
        "id": "09kT6Ts2T1hH"
      },
      "source": [
        "## Glove-Input"
      ]
    },
    {
      "cell_type": "code",
      "execution_count": null,
      "metadata": {
        "colab": {
          "background_save": true,
          "base_uri": "https://localhost:8080/"
        },
        "id": "5g4h9YM0qpvV",
        "outputId": "d8f74d7a-51df-48bc-a855-957f5673db72"
      },
      "outputs": [
        {
          "name": "stdout",
          "output_type": "stream",
          "text": [
            "Epoch [1/1000], Loss: 1.0941\n",
            "Epoch [101/1000], Loss: 0.9033\n",
            "Epoch [201/1000], Loss: 0.8607\n",
            "Epoch [301/1000], Loss: 0.8377\n",
            "Epoch [401/1000], Loss: 0.8263\n",
            "Epoch [501/1000], Loss: 0.8174\n",
            "Epoch [601/1000], Loss: 0.8114\n",
            "Epoch [701/1000], Loss: 0.8102\n",
            "Epoch [801/1000], Loss: 0.8027\n",
            "Epoch [901/1000], Loss: 0.8005\n"
          ]
        }
      ],
      "source": [
        "# Training loop - final_train_glove\n",
        "for epoch in range(1000):  # Training for 100 epochs\n",
        "    model.train()  # Set the model to training mode\n",
        "\n",
        "    optimizer.zero_grad()\n",
        "    output,weight = model(final_train_glove)  # Forward pass\n",
        "\n",
        "    # Calculate loss with attention\n",
        "    loss = criterion(output, label_train_torch)\n",
        "\n",
        "\n",
        "    # Backpropagation\n",
        "    loss.backward()\n",
        "    optimizer.step()\n",
        "\n",
        "    # Print loss\n",
        "    if epoch % 100 == 0:\n",
        "        print('Epoch [{}/{}], Loss: {:.4f}'.format(epoch+1, 1000, loss.item()))"
      ]
    },
    {
      "cell_type": "code",
      "execution_count": null,
      "metadata": {
        "colab": {
          "base_uri": "https://localhost:8080/"
        },
        "id": "h2gkuOoYqpyZ",
        "outputId": "1e9cf9f8-6c71-4291-e0b2-8af99f430802"
      },
      "outputs": [
        {
          "name": "stdout",
          "output_type": "stream",
          "text": [
            "Number of correct answers: 554\n",
            "Confusion matrix:\n",
            "               Predicted Positive  Predicted Neutral  Predicted Negative\n",
            "True Positive                 111                 70                  64\n",
            "True Neutral                   61                293                  39\n",
            "True Negative                  54                 59                 150\n",
            "Accuracy: 61.49%\n",
            "Classification Report:\n",
            "              precision    recall  f1-score   support\n",
            "\n",
            "    positive       0.49      0.45      0.47       245\n",
            "     neutral       0.69      0.75      0.72       393\n",
            "    negative       0.59      0.57      0.58       263\n",
            "\n",
            "   micro avg       0.61      0.61      0.61       901\n",
            "   macro avg       0.59      0.59      0.59       901\n",
            "weighted avg       0.61      0.61      0.61       901\n",
            " samples avg       0.61      0.61      0.61       901\n",
            "\n"
          ]
        }
      ],
      "source": [
        "# Testing loop\n",
        "output_test,weight_test = model(final_test_glove)\n",
        "output_test = output_test.detach().numpy()\n",
        "\n",
        "max_indices = np.argmax(output_test, axis=1)\n",
        "predicted_glove = np.zeros_like(output_test)\n",
        "predicted_glove[np.arange(len(output_test)), max_indices] = 1\n",
        "\n",
        "num_correct = np.sum(np.all(predicted_glove == label_test_torch.numpy(), axis=1))\n",
        "\n",
        "print(\"Number of correct answers:\", num_correct)\n",
        "\n",
        "# Compute confusion matrix\n",
        "conf_matrix = np.zeros((predicted_glove.shape[1], label_test_torch.numpy().shape[1]), dtype=int)\n",
        "for pred, true in zip(predicted_glove, label_test_torch.numpy()):\n",
        "    pred_idx = np.where(pred == 1)[0]\n",
        "    true_idx = np.where(true == 1)[0]\n",
        "    conf_matrix[true_idx[:, None], pred_idx] += 1\n",
        "\n",
        "# Convert confusion matrix to DataFrame\n",
        "conf_matrix_df = pd.DataFrame(conf_matrix, index=['True Positive', 'True Neutral', 'True Negative'],\n",
        "                              columns=['Predicted Positive', 'Predicted Neutral', 'Predicted Negative'])\n",
        "\n",
        "print(\"Confusion matrix:\")\n",
        "print(conf_matrix_df)\n",
        "\n",
        "accuracy_glove= num_correct / label_test_torch.numpy().shape[0]\n",
        "accuracy_glove_percentage = accuracy_glove * 100\n",
        "\n",
        "print(f\"Accuracy: {accuracy_glove_percentage:.2f}%\")\n",
        "\n",
        "# Classification report\n",
        "class_names = [\"positive\", \"neutral\", \"negative\"]\n",
        "cr = classification_report(label_test_torch.numpy(), predicted_glove, target_names=class_names)\n",
        "print(\"Classification Report:\")\n",
        "print(cr)"
      ]
    },
    {
      "cell_type": "markdown",
      "metadata": {
        "id": "0fsgZwGYqfvA"
      },
      "source": [
        "## Word2Vec Cbow-Input"
      ]
    },
    {
      "cell_type": "code",
      "execution_count": null,
      "metadata": {
        "colab": {
          "base_uri": "https://localhost:8080/"
        },
        "id": "zzrWqrhTomAk",
        "outputId": "e27f35b5-057b-44c9-f8d5-222c1e0fb9ba"
      },
      "outputs": [
        {
          "name": "stdout",
          "output_type": "stream",
          "text": [
            "Epoch [1/1000], Loss: 1.2679\n",
            "Epoch [101/1000], Loss: 1.0860\n",
            "Epoch [201/1000], Loss: 1.0178\n",
            "Epoch [301/1000], Loss: 1.0137\n",
            "Epoch [401/1000], Loss: 1.0092\n",
            "Epoch [501/1000], Loss: 1.0065\n",
            "Epoch [601/1000], Loss: 1.0145\n",
            "Epoch [701/1000], Loss: 1.0035\n",
            "Epoch [801/1000], Loss: 1.0032\n",
            "Epoch [901/1000], Loss: 1.0013\n"
          ]
        }
      ],
      "source": [
        "# Training loop - final_train_w2v_cbow\n",
        "for epoch in range(1000):  # Training for 100 epochs\n",
        "    model.train()  # Set the model to training mode\n",
        "\n",
        "    optimizer.zero_grad()\n",
        "    output,weight = model(final_train_w2v_cbow)  # Forward pass\n",
        "\n",
        "    # Calculate loss with attention\n",
        "    loss = criterion(output, label_train_torch)\n",
        "\n",
        "\n",
        "    # Backpropagation\n",
        "    loss.backward()\n",
        "    optimizer.step()\n",
        "\n",
        "    # Print loss\n",
        "    if epoch % 100 == 0:\n",
        "        print('Epoch [{}/{}], Loss: {:.4f}'.format(epoch+1, 1000, loss.item()))"
      ]
    },
    {
      "cell_type": "code",
      "execution_count": null,
      "metadata": {
        "colab": {
          "base_uri": "https://localhost:8080/"
        },
        "id": "eZ8l0GG1qx-m",
        "outputId": "bc66311d-a44f-421a-824f-67d621ca1de0"
      },
      "outputs": [
        {
          "name": "stdout",
          "output_type": "stream",
          "text": [
            "Number of correct answers: 496\n",
            "Confusion matrix:\n",
            "               Predicted Positive  Predicted Neutral  Predicted Negative\n",
            "True Positive                 160                 85                   0\n",
            "True Neutral                   57                336                   0\n",
            "True Negative                 173                 90                   0\n",
            "Accuracy: 55.05%\n",
            "Classification Report:\n",
            "              precision    recall  f1-score   support\n",
            "\n",
            "    positive       0.41      0.65      0.50       245\n",
            "     neutral       0.66      0.85      0.74       393\n",
            "    negative       0.00      0.00      0.00       263\n",
            "\n",
            "   micro avg       0.55      0.55      0.55       901\n",
            "   macro avg       0.36      0.50      0.42       901\n",
            "weighted avg       0.40      0.55      0.46       901\n",
            " samples avg       0.55      0.55      0.55       901\n",
            "\n"
          ]
        },
        {
          "name": "stderr",
          "output_type": "stream",
          "text": [
            "/usr/local/lib/python3.10/dist-packages/sklearn/metrics/_classification.py:1344: UndefinedMetricWarning: Precision and F-score are ill-defined and being set to 0.0 in labels with no predicted samples. Use `zero_division` parameter to control this behavior.\n",
            "  _warn_prf(average, modifier, msg_start, len(result))\n"
          ]
        }
      ],
      "source": [
        "# Testing loop\n",
        "output_test,weight_test = model(final_test_w2v_cbow)\n",
        "output_test = output_test.detach().numpy()\n",
        "\n",
        "max_indices = np.argmax(output_test, axis=1)\n",
        "predicted_w2v_cbow = np.zeros_like(output_test)\n",
        "predicted_w2v_cbow[np.arange(len(output_test)), max_indices] = 1\n",
        "\n",
        "num_correct = np.sum(np.all(predicted_w2v_cbow == label_test_torch.numpy(), axis=1))\n",
        "\n",
        "print(\"Number of correct answers:\", num_correct)\n",
        "\n",
        "# Compute confusion matrix\n",
        "conf_matrix = np.zeros((predicted_w2v_cbow.shape[1], label_test_torch.numpy().shape[1]), dtype=int)\n",
        "for pred, true in zip(predicted_w2v_cbow, label_test_torch.numpy()):\n",
        "    pred_idx = np.where(pred == 1)[0]\n",
        "    true_idx = np.where(true == 1)[0]\n",
        "    conf_matrix[true_idx[:, None], pred_idx] += 1\n",
        "\n",
        "# Convert confusion matrix to DataFrame\n",
        "conf_matrix_df = pd.DataFrame(conf_matrix, index=['True Positive', 'True Neutral', 'True Negative'],\n",
        "                              columns=['Predicted Positive', 'Predicted Neutral', 'Predicted Negative'])\n",
        "\n",
        "print(\"Confusion matrix:\")\n",
        "print(conf_matrix_df)\n",
        "\n",
        "accuracy_w2v_cbow = num_correct / label_test_torch.numpy().shape[0]\n",
        "accuracy_w2v_cbow_percentage = accuracy_w2v_cbow * 100\n",
        "\n",
        "print(f\"Accuracy: {accuracy_w2v_cbow_percentage:.2f}%\")\n",
        "\n",
        "# Classification report\n",
        "class_names = [\"positive\", \"neutral\", \"negative\"]\n",
        "cr = classification_report(label_test_torch.numpy(), predicted_w2v_cbow, target_names=class_names)\n",
        "print(\"Classification Report:\")\n",
        "print(cr)\n",
        "\n"
      ]
    },
    {
      "cell_type": "markdown",
      "metadata": {
        "id": "-Cpq8zFR3xqk"
      },
      "source": [
        "## Word2Vec Skipgram-Input"
      ]
    },
    {
      "cell_type": "code",
      "execution_count": null,
      "metadata": {
        "colab": {
          "base_uri": "https://localhost:8080/"
        },
        "id": "QzxW-3VoqyGc",
        "outputId": "f363efca-c08d-4f45-f518-a10be73bec0f"
      },
      "outputs": [
        {
          "name": "stdout",
          "output_type": "stream",
          "text": [
            "Epoch [1/1000], Loss: 1.0836\n",
            "Epoch [101/1000], Loss: 1.0020\n",
            "Epoch [201/1000], Loss: 0.9238\n",
            "Epoch [301/1000], Loss: 0.9188\n",
            "Epoch [401/1000], Loss: 0.9138\n",
            "Epoch [501/1000], Loss: 0.9085\n",
            "Epoch [601/1000], Loss: 0.9058\n",
            "Epoch [701/1000], Loss: 0.8948\n",
            "Epoch [801/1000], Loss: 0.8905\n",
            "Epoch [901/1000], Loss: 0.8852\n"
          ]
        }
      ],
      "source": [
        "# Training loop - final_train_w2v_skipgram\n",
        "for epoch in range(1000):  # Training for 100 epochs\n",
        "    model.train()  # Set the model to training mode\n",
        "\n",
        "    optimizer.zero_grad()\n",
        "    output,weight = model(final_train_w2v_skipgram)  # Forward pass\n",
        "\n",
        "    # Calculate loss with attention\n",
        "    loss = criterion(output, label_train_torch)\n",
        "\n",
        "\n",
        "    # Backpropagation\n",
        "    loss.backward()\n",
        "    optimizer.step()\n",
        "\n",
        "    # Print loss\n",
        "    if epoch % 100 == 0:\n",
        "        print('Epoch [{}/{}], Loss: {:.4f}'.format(epoch+1, 1000, loss.item()))"
      ]
    },
    {
      "cell_type": "code",
      "execution_count": null,
      "metadata": {
        "colab": {
          "base_uri": "https://localhost:8080/"
        },
        "id": "aetwxEmGqyJ0",
        "outputId": "10cf5257-9f07-4f2b-b9b1-eca8fb005c01"
      },
      "outputs": [
        {
          "name": "stdout",
          "output_type": "stream",
          "text": [
            "Number of correct answers: 555\n",
            "Confusion matrix:\n",
            "               Predicted Positive  Predicted Neutral  Predicted Negative\n",
            "True Positive                 120                 80                  45\n",
            "True Neutral                   52                326                  15\n",
            "True Negative                  70                 84                 109\n",
            "Accuracy: 61.60%\n",
            "Classification Report:\n",
            "              precision    recall  f1-score   support\n",
            "\n",
            "    positive       0.50      0.49      0.49       245\n",
            "     neutral       0.67      0.83      0.74       393\n",
            "    negative       0.64      0.41      0.50       263\n",
            "\n",
            "   micro avg       0.62      0.62      0.62       901\n",
            "   macro avg       0.60      0.58      0.58       901\n",
            "weighted avg       0.61      0.62      0.60       901\n",
            " samples avg       0.62      0.62      0.62       901\n",
            "\n"
          ]
        }
      ],
      "source": [
        "# Testing loop\n",
        "output_test,weight_test = model(final_test_w2v_skipgram)\n",
        "output_test = output_test.detach().numpy()\n",
        "\n",
        "max_indices = np.argmax(output_test, axis=1)\n",
        "predicted_w2v_skipgram = np.zeros_like(output_test)\n",
        "predicted_w2v_skipgram[np.arange(len(output_test)), max_indices] = 1\n",
        "\n",
        "num_correct = np.sum(np.all(predicted_w2v_skipgram == label_test_torch.numpy(), axis=1))\n",
        "\n",
        "print(\"Number of correct answers:\", num_correct)\n",
        "\n",
        "# Compute confusion matrix\n",
        "conf_matrix = np.zeros((predicted_w2v_skipgram.shape[1], label_test_torch.numpy().shape[1]), dtype=int)\n",
        "for pred, true in zip(predicted_w2v_skipgram, label_test_torch.numpy()):\n",
        "    pred_idx = np.where(pred == 1)[0]\n",
        "    true_idx = np.where(true == 1)[0]\n",
        "    conf_matrix[true_idx[:, None], pred_idx] += 1\n",
        "\n",
        "# Convert confusion matrix to DataFrame\n",
        "conf_matrix_df = pd.DataFrame(conf_matrix, index=['True Positive', 'True Neutral', 'True Negative'],\n",
        "                              columns=['Predicted Positive', 'Predicted Neutral', 'Predicted Negative'])\n",
        "\n",
        "print(\"Confusion matrix:\")\n",
        "print(conf_matrix_df)\n",
        "\n",
        "accuracy_w2v_skipgram = num_correct / label_test_torch.numpy().shape[0]\n",
        "accuracy_w2v_skipgram_percentage = accuracy_w2v_skipgram * 100\n",
        "\n",
        "print(f\"Accuracy: {accuracy_w2v_skipgram_percentage:.2f}%\")\n",
        "\n",
        "# Classification report\n",
        "class_names = [\"positive\", \"neutral\", \"negative\"]\n",
        "cr = classification_report(label_test_torch.numpy(), predicted_w2v_skipgram, target_names=class_names)\n",
        "print(\"Classification Report:\")\n",
        "print(cr)\n"
      ]
    },
    {
      "cell_type": "markdown",
      "metadata": {
        "id": "0-9FaTWRFJJe"
      },
      "source": [
        "## FastText Cbow-Input"
      ]
    },
    {
      "cell_type": "code",
      "execution_count": null,
      "metadata": {
        "colab": {
          "base_uri": "https://localhost:8080/"
        },
        "id": "vCR5qZPfqyRK",
        "outputId": "269d1b9c-6624-4da3-deeb-e9add55946e3"
      },
      "outputs": [
        {
          "name": "stdout",
          "output_type": "stream",
          "text": [
            "Epoch [1/1000], Loss: 1.2472\n",
            "Epoch [101/1000], Loss: 1.0044\n",
            "Epoch [201/1000], Loss: 1.0044\n",
            "Epoch [301/1000], Loss: 1.0043\n",
            "Epoch [401/1000], Loss: 1.0043\n",
            "Epoch [501/1000], Loss: 1.0043\n",
            "Epoch [601/1000], Loss: 1.0043\n",
            "Epoch [701/1000], Loss: 1.0043\n",
            "Epoch [801/1000], Loss: 1.0043\n",
            "Epoch [901/1000], Loss: 1.0043\n"
          ]
        }
      ],
      "source": [
        "# Training loop - final_train_ft_cbow\n",
        "for epoch in range(1000):  # Training for 100 epochs\n",
        "    model.train()  # Set the model to training mode\n",
        "\n",
        "    optimizer.zero_grad()\n",
        "    output,weight = model(final_train_ft_cbow)  # Forward pass\n",
        "\n",
        "    # Calculate loss with attention\n",
        "    loss = criterion(output, label_train_torch)\n",
        "\n",
        "\n",
        "    # Backpropagation\n",
        "    loss.backward()\n",
        "    optimizer.step()\n",
        "\n",
        "    # Print loss\n",
        "    if epoch % 100 == 0:\n",
        "        print('Epoch [{}/{}], Loss: {:.4f}'.format(epoch+1, 1000, loss.item()))"
      ]
    },
    {
      "cell_type": "code",
      "execution_count": null,
      "metadata": {
        "colab": {
          "base_uri": "https://localhost:8080/"
        },
        "id": "w7wetb2mFcHH",
        "outputId": "170c27fe-0b7c-42dd-c55a-b9ecbf8e229a"
      },
      "outputs": [
        {
          "name": "stdout",
          "output_type": "stream",
          "text": [
            "Number of correct answers: 496\n",
            "Confusion matrix:\n",
            "               Predicted Positive  Predicted Neutral  Predicted Negative\n",
            "True Positive                   0                199                  46\n",
            "True Neutral                    0                383                  10\n",
            "True Negative                   0                150                 113\n",
            "Accuracy: 55.05%\n",
            "Classification Report:\n",
            "              precision    recall  f1-score   support\n",
            "\n",
            "    positive       0.00      0.00      0.00       245\n",
            "     neutral       0.52      0.97      0.68       393\n",
            "    negative       0.67      0.43      0.52       263\n",
            "\n",
            "   micro avg       0.55      0.55      0.55       901\n",
            "   macro avg       0.40      0.47      0.40       901\n",
            "weighted avg       0.42      0.55      0.45       901\n",
            " samples avg       0.55      0.55      0.55       901\n",
            "\n"
          ]
        },
        {
          "name": "stderr",
          "output_type": "stream",
          "text": [
            "/usr/local/lib/python3.10/dist-packages/sklearn/metrics/_classification.py:1344: UndefinedMetricWarning: Precision and F-score are ill-defined and being set to 0.0 in labels with no predicted samples. Use `zero_division` parameter to control this behavior.\n",
            "  _warn_prf(average, modifier, msg_start, len(result))\n"
          ]
        }
      ],
      "source": [
        "# Testing loop\n",
        "output_test,weight_test = model(final_test_ft_cbow)\n",
        "output_test = output_test.detach().numpy()\n",
        "\n",
        "max_indices = np.argmax(output_test, axis=1)\n",
        "predicted_ft_cb = np.zeros_like(output_test)\n",
        "predicted_ft_cb[np.arange(len(output_test)), max_indices] = 1\n",
        "\n",
        "num_correct = np.sum(np.all(predicted_ft_cb == label_test_torch.numpy(), axis=1))\n",
        "\n",
        "print(\"Number of correct answers:\", num_correct)\n",
        "\n",
        "# Compute confusion matrix\n",
        "conf_matrix = np.zeros((predicted_ft_cb.shape[1], label_test_torch.numpy().shape[1]), dtype=int)\n",
        "for pred, true in zip(predicted_ft_cb, label_test_torch.numpy()):\n",
        "    pred_idx = np.where(pred == 1)[0]\n",
        "    true_idx = np.where(true == 1)[0]\n",
        "    conf_matrix[true_idx[:, None], pred_idx] += 1\n",
        "\n",
        "# Convert confusion matrix to DataFrame\n",
        "conf_matrix_df = pd.DataFrame(conf_matrix, index=['True Positive', 'True Neutral', 'True Negative'],\n",
        "                              columns=['Predicted Positive', 'Predicted Neutral', 'Predicted Negative'])\n",
        "\n",
        "print(\"Confusion matrix:\")\n",
        "print(conf_matrix_df)\n",
        "\n",
        "accuracy_ft_cb = num_correct / label_test_torch.numpy().shape[0]\n",
        "accuracy_ft_cb_percentage = accuracy_ft_cb * 100\n",
        "\n",
        "print(f\"Accuracy: {accuracy_ft_cb_percentage:.2f}%\")\n",
        "\n",
        "# Classification report\n",
        "class_names = [\"positive\", \"neutral\", \"negative\"]\n",
        "cr = classification_report(label_test_torch.numpy(), predicted_ft_cb, target_names=class_names)\n",
        "print(\"Classification Report:\")\n",
        "print(cr)"
      ]
    },
    {
      "cell_type": "markdown",
      "metadata": {
        "id": "0PZSgr3AWEGN"
      },
      "source": [
        "## FastText Skipgram-Input"
      ]
    },
    {
      "cell_type": "code",
      "execution_count": null,
      "metadata": {
        "colab": {
          "base_uri": "https://localhost:8080/"
        },
        "id": "NLrwzob8WIfS",
        "outputId": "90b97d36-1277-4009-c8c4-908c2a787185"
      },
      "outputs": [
        {
          "name": "stdout",
          "output_type": "stream",
          "text": [
            "Epoch [1/1000], Loss: 1.1015, Training Accuracy: 0.2720\n",
            "Epoch [101/1000], Loss: 0.9279, Training Accuracy: 0.6057\n",
            "Epoch [201/1000], Loss: 0.9060, Training Accuracy: 0.6373\n",
            "Epoch [301/1000], Loss: 0.8982, Training Accuracy: 0.6430\n",
            "Epoch [401/1000], Loss: 0.8941, Training Accuracy: 0.6463\n",
            "Epoch [501/1000], Loss: 0.8892, Training Accuracy: 0.6587\n",
            "Epoch [601/1000], Loss: 0.8838, Training Accuracy: 0.6652\n",
            "Epoch [701/1000], Loss: 0.8765, Training Accuracy: 0.6470\n",
            "Epoch [801/1000], Loss: 0.8711, Training Accuracy: 0.6760\n",
            "Epoch [901/1000], Loss: 0.8658, Training Accuracy: 0.6838\n"
          ]
        }
      ],
      "source": [
        "# Lists to store loss and accuracy values\n",
        "train_losses = []\n",
        "train_accuracies = []\n",
        "\n",
        "# Training loop - final_train_ft_skipgram\n",
        "for epoch in range(1000):  # Training for 1000 epochs\n",
        "    model.train()  # Set the model to training mode\n",
        "\n",
        "    optimizer.zero_grad()\n",
        "    output, weight = model(final_train_ft_skipgram)  # Forward pass\n",
        "\n",
        "    # Calculate loss with attention\n",
        "    loss = criterion(output, label_train_torch)\n",
        "\n",
        "    # Backpropagation\n",
        "    loss.backward()\n",
        "    optimizer.step()\n",
        "\n",
        "    # Calculate training accuracy\n",
        "    with torch.no_grad():\n",
        "        train_output, _ = model(final_train_ft_skipgram)\n",
        "\n",
        "        # Assuming train_output is logits, get predictions\n",
        "        train_predictions = torch.argmax(train_output, dim=1)\n",
        "\n",
        "        # Convert one-hot encoded labels to class indices\n",
        "        label_indices = torch.argmax(label_train_torch, dim=1)\n",
        "        train_accuracy = (train_predictions == label_indices).float().mean().item()\n",
        "        train_accuracies.append(train_accuracy)\n",
        "\n",
        "    # Store loss\n",
        "    train_losses.append(loss.item())\n",
        "\n",
        "    # Print loss and accuracy\n",
        "    if epoch % 100 == 0:\n",
        "        print('Epoch [{}/{}], Loss: {:.4f}, Training Accuracy: {:.4f}'.format(epoch + 1, 1000, loss.item(), train_accuracy))\n",
        "\n"
      ]
    },
    {
      "cell_type": "code",
      "execution_count": null,
      "metadata": {
        "colab": {
          "base_uri": "https://localhost:8080/",
          "height": 338
        },
        "id": "Gy3TdJlZWY06",
        "outputId": "71297edf-85b2-4783-b642-c19f3aec5779"
      },
      "outputs": [
        {
          "data": {
            "image/png": "[encoded data removed]",
            "text/plain": [
              "<Figure size 2000x500 with 2 Axes>"
            ]
          },
          "metadata": {},
          "output_type": "display_data"
        }
      ],
      "source": [
        "import matplotlib.pyplot as plt\n",
        "\n",
        "# Plot loss and accuracy against epoch side by side\n",
        "fig, axs = plt.subplots(1, 2, figsize=(20, 5))\n",
        "\n",
        "# Plot loss\n",
        "axs[0].plot(range(1, len(train_losses) + 1), train_losses, label='Training Loss')\n",
        "axs[0].set_xlabel('Epochs')\n",
        "axs[0].set_ylabel('Loss')\n",
        "axs[0].set_title('Training Loss over Epochs')\n",
        "axs[0].legend()\n",
        "\n",
        "# Plot accuracy\n",
        "axs[1].plot(range(1, len(train_accuracies) + 1), train_accuracies, label='Training Accuracy')\n",
        "axs[1].set_xlabel('Epochs')\n",
        "axs[1].set_ylabel('Accuracy')\n",
        "axs[1].set_title('Training Accuracy over Epochs')\n",
        "axs[1].legend()\n",
        "\n",
        "plt.show()"
      ]
    },
    {
      "cell_type": "code",
      "execution_count": null,
      "metadata": {
        "colab": {
          "base_uri": "https://localhost:8080/"
        },
        "id": "m8F2c2tRWaE0",
        "outputId": "18c9b5f7-d4f2-49d8-8f0f-f6d632c50bd9"
      },
      "outputs": [
        {
          "name": "stdout",
          "output_type": "stream",
          "text": [
            "Number of correct answers: 566\n",
            "Confusion matrix:\n",
            "               Predicted Positive  Predicted Neutral  Predicted Negative\n",
            "True Positive                 101                 71                  73\n",
            "True Neutral                   52                321                  20\n",
            "True Negative                  47                 72                 144\n",
            "Accuracy: 62.82%\n",
            "Classification Report:\n",
            "              precision    recall  f1-score   support\n",
            "\n",
            "    positive       0.51      0.41      0.45       245\n",
            "     neutral       0.69      0.82      0.75       393\n",
            "    negative       0.61      0.55      0.58       263\n",
            "\n",
            "   micro avg       0.63      0.63      0.63       901\n",
            "   macro avg       0.60      0.59      0.59       901\n",
            "weighted avg       0.62      0.63      0.62       901\n",
            " samples avg       0.63      0.63      0.63       901\n",
            "\n"
          ]
        }
      ],
      "source": [
        "# Testing loop\n",
        "output_test,weight_test = model(final_test_ft_skipgram)\n",
        "output_test = output_test.detach().numpy()\n",
        "\n",
        "max_indices = np.argmax(output_test, axis=1)\n",
        "predicted_ft_cb = np.zeros_like(output_test)\n",
        "predicted_ft_cb[np.arange(len(output_test)), max_indices] = 1\n",
        "\n",
        "num_correct = np.sum(np.all(predicted_ft_cb == label_test_torch.numpy(), axis=1))\n",
        "\n",
        "print(\"Number of correct answers:\", num_correct)\n",
        "\n",
        "# Compute confusion matrix\n",
        "conf_matrix = np.zeros((predicted_ft_cb.shape[1], label_test_torch.numpy().shape[1]), dtype=int)\n",
        "for pred, true in zip(predicted_ft_cb, label_test_torch.numpy()):\n",
        "    pred_idx = np.where(pred == 1)[0]\n",
        "    true_idx = np.where(true == 1)[0]\n",
        "    conf_matrix[true_idx[:, None], pred_idx] += 1\n",
        "\n",
        "# Convert confusion matrix to DataFrame\n",
        "conf_matrix_df = pd.DataFrame(conf_matrix, index=['True Positive', 'True Neutral', 'True Negative'],\n",
        "                              columns=['Predicted Positive', 'Predicted Neutral', 'Predicted Negative'])\n",
        "\n",
        "print(\"Confusion matrix:\")\n",
        "print(conf_matrix_df)\n",
        "\n",
        "accuracy_ft_cb = num_correct / label_test_torch.numpy().shape[0]\n",
        "accuracy_ft_cb_percentage = accuracy_ft_cb * 100\n",
        "\n",
        "print(f\"Accuracy: {accuracy_ft_cb_percentage:.2f}%\")\n",
        "\n",
        "# Classification report\n",
        "class_names = [\"positive\", \"neutral\", \"negative\"]\n",
        "cr = classification_report(label_test_torch.numpy(), predicted_ft_cb, target_names=class_names)\n",
        "print(\"Classification Report:\")\n",
        "print(cr)"
      ]
    },
    {
      "cell_type": "markdown",
      "metadata": {
        "id": "Fewb-GW_4tXO"
      },
      "source": [
        "## RNN model for ablation study"
      ]
    },
    {
      "cell_type": "code",
      "execution_count": null,
      "metadata": {
        "id": "_gpErbZG401z"
      },
      "outputs": [],
      "source": [
        "class RNNWithDAttention(nn.Module):\n",
        "    def __init__(self, input_size, hidden_size,hidden_size2, output_size):\n",
        "        ## input_size : ([7978, 41, 50])\n",
        "        ## hidden_size : 50\n",
        "        ## output_size : 3\n",
        "\n",
        "        super(RNNWithDAttention, self).__init__()\n",
        "        self.hidden_size = hidden_size\n",
        "        self.hidden_size2 = hidden_size2\n",
        "        self.rnn = nn.RNN(input_size, hidden_size, batch_first=True)\n",
        "        self.fc1 = nn.Linear(hidden_size, hidden_size)\n",
        "        self.fc2 = nn.Linear(hidden_size2, output_size)\n",
        "        self.softmax = nn.Softmax(dim=1)\n",
        "\n",
        "        self.key = nn.Linear(hidden_size, hidden_size)\n",
        "        self.query = nn.Linear(hidden_size, hidden_size)\n",
        "        self.value = nn.Linear(hidden_size, hidden_size)\n",
        "\n",
        "\n",
        "    def forward(self, input_seq):\n",
        "        # Split input_seq into reviews and aspect parts\n",
        "        x = input_seq[:, :-1, :]  # reviews\n",
        "        aspect = input_seq[:, -1, :]  # aspect\n",
        "\n",
        "        rnn_out, hidden = self.rnn(x)  # rnn_out shape: [batch_size, seq_length, hidden_size]\n",
        "\n",
        "        hidden = hidden.squeeze(0)  # hidden shape: [batch_size, hidden_size]\n",
        "\n",
        "        # Attention mechanism\n",
        "        attention_weights = torch.bmm(rnn_out, hidden.unsqueeze(2)).squeeze(2)  # shape: [batch_size, seq_length]\n",
        "        attention_weights = F.softmax(attention_weights, dim=1)  # shape: [batch_size, seq_length]\n",
        "\n",
        "        # Apply attention weights\n",
        "        result_self_attention = torch.bmm(rnn_out.transpose(1, 2), attention_weights.unsqueeze(2)).squeeze(2)  # shape: [batch_size, hidden_size]\n",
        "\n",
        "        # Second attention with aspect concatenation\n",
        "        concat_aspect = torch.cat((result_self_attention.unsqueeze(1), aspect.unsqueeze(1)), dim=1)  # shape: [batch_size, 2, hidden_size]\n",
        "        fc1_out = self.fc1(concat_aspect)\n",
        "\n",
        "        keys = self.key(fc1_out)\n",
        "        queries = self.query(fc1_out)\n",
        "        values = self.value(fc1_out)\n",
        "        scores = torch.matmul(queries, keys.transpose(-2, -1)) / torch.sqrt(torch.tensor(self.hidden_size, dtype=torch.float32))\n",
        "\n",
        "        attention_weights2 = F.softmax(scores, dim=-1)\n",
        "\n",
        "        # Apply the second set of attention weights\n",
        "        result_second_attention = torch.matmul(attention_weights2, values)\n",
        "\n",
        "        output = result_second_attention.squeeze(0)\n",
        "\n",
        "        output = self.fc2(output.view(output.size(0), -1))\n",
        "        output = self.softmax(output)\n",
        "\n",
        "        return output, attention_weights\n",
        "\n"
      ]
    },
    {
      "cell_type": "code",
      "execution_count": null,
      "metadata": {
        "id": "EBrHTJJ34-yD"
      },
      "outputs": [],
      "source": [
        "# Initialize the model\n",
        "embedding_size = len(next(iter(embeddings_index)))\n",
        "hidden_size = 50\n",
        "hidden_size2 = 100\n",
        "#number_padding = final_test_w2v_cbow.size(1) ## you can use any since all input are same size\n",
        "output_size = label_train_torch.size(-1)\n",
        "\n",
        "# Initialize the model\n",
        "model = RNNWithDAttention(embedding_size, hidden_size,hidden_size2, output_size)\n",
        "\n",
        "\n",
        "# Define loss function and optimizer - adam\n",
        "criterion = nn.CrossEntropyLoss()\n",
        "optimizer = torch.optim.Adam(model.parameters(), lr=0.001)"
      ]
    },
    {
      "cell_type": "code",
      "execution_count": null,
      "metadata": {
        "colab": {
          "base_uri": "https://localhost:8080/"
        },
        "id": "FPjxYnQO4-vY",
        "outputId": "8eb05fe2-43bc-4071-d432-a84f897c1600"
      },
      "outputs": [
        {
          "name": "stdout",
          "output_type": "stream",
          "text": [
            "Epoch [1/1000], Loss: 1.0955\n",
            "Epoch [101/1000], Loss: 0.9310\n",
            "Epoch [201/1000], Loss: 0.9207\n",
            "Epoch [301/1000], Loss: 0.9090\n",
            "Epoch [401/1000], Loss: 0.9048\n",
            "Epoch [501/1000], Loss: 0.8961\n",
            "Epoch [601/1000], Loss: 0.8906\n",
            "Epoch [701/1000], Loss: 0.8877\n",
            "Epoch [801/1000], Loss: 0.8840\n",
            "Epoch [901/1000], Loss: 0.8803\n"
          ]
        }
      ],
      "source": [
        "# Training loop - fastText sk\n",
        "for epoch in range(1000):  # Training for 100 epochs\n",
        "    model.train()  # Set the model to training mode\n",
        "\n",
        "    optimizer.zero_grad()\n",
        "    output,weight = model(final_train_ft_skipgram)  # Forward pass\n",
        "\n",
        "    # Calculate loss with attention\n",
        "    loss = criterion(output, label_train_torch)\n",
        "\n",
        "\n",
        "    # Backpropagation\n",
        "    loss.backward()\n",
        "    optimizer.step()\n",
        "\n",
        "    # Print loss\n",
        "    if epoch % 100 == 0:\n",
        "        print('Epoch [{}/{}], Loss: {:.4f}'.format(epoch+1, 1000, loss.item()))"
      ]
    },
    {
      "cell_type": "code",
      "execution_count": null,
      "metadata": {
        "colab": {
          "base_uri": "https://localhost:8080/"
        },
        "id": "4O653zq94-s-",
        "outputId": "6128186f-15c2-49d2-9cf8-2443d93218ad"
      },
      "outputs": [
        {
          "name": "stdout",
          "output_type": "stream",
          "text": [
            "Number of correct answers: 547\n",
            "Confusion matrix:\n",
            "               Predicted Positive  Predicted Neutral  Predicted Negative\n",
            "True Positive                 103                 75                  67\n",
            "True Neutral                   63                301                  29\n",
            "True Negative                  54                 66                 143\n",
            "Accuracy: 60.71%\n",
            "Classification Report:\n",
            "              precision    recall  f1-score   support\n",
            "\n",
            "    positive       0.47      0.42      0.44       245\n",
            "     neutral       0.68      0.77      0.72       393\n",
            "    negative       0.60      0.54      0.57       263\n",
            "\n",
            "   micro avg       0.61      0.61      0.61       901\n",
            "   macro avg       0.58      0.58      0.58       901\n",
            "weighted avg       0.60      0.61      0.60       901\n",
            " samples avg       0.61      0.61      0.61       901\n",
            "\n"
          ]
        }
      ],
      "source": [
        "# Testing loop\n",
        "output_test,weight_test = model(final_test_ft_skipgram)\n",
        "output_test = output_test.detach().numpy()\n",
        "\n",
        "max_indices = np.argmax(output_test, axis=1)\n",
        "predicted_ft_skipgram = np.zeros_like(output_test)\n",
        "predicted_ft_skipgram[np.arange(len(output_test)), max_indices] = 1\n",
        "\n",
        "num_correct = np.sum(np.all(predicted_ft_skipgram == label_test_torch.numpy(), axis=1))\n",
        "\n",
        "print(\"Number of correct answers:\", num_correct)\n",
        "\n",
        "# Compute confusion matrix\n",
        "conf_matrix = np.zeros((predicted_ft_skipgram.shape[1], label_test_torch.numpy().shape[1]), dtype=int)\n",
        "for pred, true in zip(predicted_ft_skipgram, label_test_torch.numpy()):\n",
        "    pred_idx = np.where(pred == 1)[0]\n",
        "    true_idx = np.where(true == 1)[0]\n",
        "    conf_matrix[true_idx[:, None], pred_idx] += 1\n",
        "\n",
        "# Convert confusion matrix to DataFrame\n",
        "conf_matrix_df = pd.DataFrame(conf_matrix, index=['True Positive', 'True Neutral', 'True Negative'],\n",
        "                              columns=['Predicted Positive', 'Predicted Neutral', 'Predicted Negative'])\n",
        "\n",
        "print(\"Confusion matrix:\")\n",
        "print(conf_matrix_df)\n",
        "\n",
        "accuracy_ft_skipgram = num_correct / label_test_torch.numpy().shape[0]\n",
        "accuracy_ft_skipgram_percentage = accuracy_w2v_skipgram * 100\n",
        "\n",
        "print(f\"Accuracy: {accuracy_ft_skipgram_percentage:.2f}%\")\n",
        "\n",
        "# Classification report\n",
        "class_names = [\"positive\", \"neutral\", \"negative\"]\n",
        "cr = classification_report(label_test_torch.numpy(), predicted_ft_skipgram, target_names=class_names)\n",
        "print(\"Classification Report:\")\n",
        "print(cr)"
      ]
    },
    {
      "cell_type": "code",
      "execution_count": null,
      "metadata": {
        "id": "JenX0viS4-p0"
      },
      "outputs": [],
      "source": []
    },
    {
      "cell_type": "markdown",
      "metadata": {
        "id": "fk_GTWGPq_q1"
      },
      "source": [
        "## GRU model ablation study"
      ]
    },
    {
      "cell_type": "code",
      "execution_count": null,
      "metadata": {
        "id": "VbY_PRvNrDvJ"
      },
      "outputs": [],
      "source": [
        "class GRUWithDAttention(nn.Module):\n",
        "    def __init__(self, input_size, hidden_size,hidden_size2, output_size):\n",
        "        ## input_size : ([7978, 41, 50])\n",
        "        ## hidden_size : 50\n",
        "        ## output_size : 3\n",
        "\n",
        "        super(GRUWithDAttention, self).__init__()\n",
        "        self.hidden_size = hidden_size\n",
        "        self.hidden_size2 = hidden_size2\n",
        "        self.gru = nn.GRU(input_size, hidden_size, batch_first=True)\n",
        "        self.fc1 = nn.Linear(hidden_size, hidden_size)\n",
        "        self.fc2 = nn.Linear(hidden_size2, output_size)\n",
        "        self.softmax = nn.Softmax(dim=1)\n",
        "\n",
        "        self.key = nn.Linear(hidden_size, hidden_size)\n",
        "        self.query = nn.Linear(hidden_size, hidden_size)\n",
        "        self.value = nn.Linear(hidden_size, hidden_size)\n",
        "\n",
        "\n",
        "    def forward(self, input_seq):\n",
        "        # Split input_seq into reviews and aspect parts\n",
        "        x = input_seq[:, :-1, :]  # reviews\n",
        "        aspect = input_seq[:, -1, :]  # aspect\n",
        "\n",
        "        gru_out, hidden = self.gru(x)  # rnn_out shape: [batch_size, seq_length, hidden_size]\n",
        "\n",
        "        hidden = hidden.squeeze(0)  # hidden shape: [batch_size, hidden_size]\n",
        "\n",
        "        # Attention mechanism\n",
        "        attention_weights = torch.bmm(gru_out, hidden.unsqueeze(2)).squeeze(2)  # shape: [batch_size, seq_length]\n",
        "        attention_weights = F.softmax(attention_weights, dim=1)  # shape: [batch_size, seq_length]\n",
        "\n",
        "        # Apply attention weights\n",
        "        result_self_attention = torch.bmm(gru_out.transpose(1, 2), attention_weights.unsqueeze(2)).squeeze(2)  # shape: [batch_size, hidden_size]\n",
        "\n",
        "        # Second attention with aspect concatenation\n",
        "        concat_aspect = torch.cat((result_self_attention.unsqueeze(1), aspect.unsqueeze(1)), dim=1)  # shape: [batch_size, 2, hidden_size]\n",
        "        fc1_out = self.fc1(concat_aspect)\n",
        "\n",
        "        keys = self.key(fc1_out)\n",
        "        queries = self.query(fc1_out)\n",
        "        values = self.value(fc1_out)\n",
        "        scores = torch.matmul(queries, keys.transpose(-2, -1)) / torch.sqrt(torch.tensor(self.hidden_size, dtype=torch.float32))\n",
        "\n",
        "        attention_weights2 = F.softmax(scores, dim=-1)\n",
        "\n",
        "        # Apply the second set of attention weights\n",
        "        result_second_attention = torch.matmul(attention_weights2, values)\n",
        "\n",
        "        output = result_second_attention.squeeze(0)\n",
        "\n",
        "        output = self.fc2(output.view(output.size(0), -1))\n",
        "        output = self.softmax(output)\n",
        "\n",
        "        return output, attention_weights\n",
        "\n"
      ]
    },
    {
      "cell_type": "code",
      "execution_count": null,
      "metadata": {
        "id": "BWqbeAHVrEBq"
      },
      "outputs": [],
      "source": [
        "# Initialize the model\n",
        "embedding_size = len(next(iter(embeddings_index)))\n",
        "hidden_size = 50\n",
        "hidden_size2 = 100\n",
        "#number_padding = final_test_w2v_cbow.size(1) ## you can use any since all input are same size\n",
        "output_size = label_train_torch.size(-1)\n",
        "\n",
        "# Initialize the model\n",
        "model = GRUWithDAttention(embedding_size, hidden_size,hidden_size2, output_size)\n",
        "\n",
        "\n",
        "# Define loss function and optimizer - adam\n",
        "criterion = nn.CrossEntropyLoss()\n",
        "optimizer = torch.optim.Adam(model.parameters(), lr=0.001)"
      ]
    },
    {
      "cell_type": "code",
      "execution_count": null,
      "metadata": {
        "colab": {
          "base_uri": "https://localhost:8080/"
        },
        "id": "mcmO-nIS4TO2",
        "outputId": "5a68ca3d-9ea4-451b-821a-6b27f6afdd3f"
      },
      "outputs": [
        {
          "name": "stdout",
          "output_type": "stream",
          "text": [
            "Epoch [1/1000], Loss: 1.0967\n",
            "Epoch [101/1000], Loss: 0.9199\n",
            "Epoch [201/1000], Loss: 0.8968\n",
            "Epoch [301/1000], Loss: 0.8856\n",
            "Epoch [401/1000], Loss: 0.8754\n",
            "Epoch [501/1000], Loss: 0.8690\n",
            "Epoch [601/1000], Loss: 0.8617\n",
            "Epoch [701/1000], Loss: 0.8570\n",
            "Epoch [801/1000], Loss: 0.8530\n",
            "Epoch [901/1000], Loss: 0.8489\n"
          ]
        }
      ],
      "source": [
        "# Training loop - fastText sk\n",
        "for epoch in range(1000):  # Training for 100 epochs\n",
        "    model.train()  # Set the model to training mode\n",
        "\n",
        "    optimizer.zero_grad()\n",
        "    output,weight = model(final_train_ft_skipgram)  # Forward pass\n",
        "\n",
        "    # Calculate loss with attention\n",
        "    loss = criterion(output, label_train_torch)\n",
        "\n",
        "\n",
        "    # Backpropagation\n",
        "    loss.backward()\n",
        "    optimizer.step()\n",
        "\n",
        "    # Print loss\n",
        "    if epoch % 100 == 0:\n",
        "        print('Epoch [{}/{}], Loss: {:.4f}'.format(epoch+1, 1000, loss.item()))"
      ]
    },
    {
      "cell_type": "code",
      "execution_count": null,
      "metadata": {
        "colab": {
          "base_uri": "https://localhost:8080/"
        },
        "id": "VfEE3oqLrEGE",
        "outputId": "887bafdb-e7a3-48b0-b3a9-08bcba463e9f"
      },
      "outputs": [
        {
          "name": "stdout",
          "output_type": "stream",
          "text": [
            "Number of correct answers: 586\n",
            "Confusion matrix:\n",
            "               Predicted Positive  Predicted Neutral  Predicted Negative\n",
            "True Positive                  94                 65                  86\n",
            "True Neutral                   33                326                  34\n",
            "True Negative                  35                 62                 166\n",
            "Accuracy: 60.71%\n",
            "Classification Report:\n",
            "              precision    recall  f1-score   support\n",
            "\n",
            "    positive       0.58      0.38      0.46       245\n",
            "     neutral       0.72      0.83      0.77       393\n",
            "    negative       0.58      0.63      0.60       263\n",
            "\n",
            "   micro avg       0.65      0.65      0.65       901\n",
            "   macro avg       0.63      0.61      0.61       901\n",
            "weighted avg       0.64      0.65      0.64       901\n",
            " samples avg       0.65      0.65      0.65       901\n",
            "\n"
          ]
        }
      ],
      "source": [
        "# Testing loop\n",
        "output_test,weight_test = model(final_test_ft_skipgram)\n",
        "output_test = output_test.detach().numpy()\n",
        "\n",
        "max_indices = np.argmax(output_test, axis=1)\n",
        "predicted_ft_skipgram = np.zeros_like(output_test)\n",
        "predicted_ft_skipgram[np.arange(len(output_test)), max_indices] = 1\n",
        "\n",
        "num_correct = np.sum(np.all(predicted_ft_skipgram == label_test_torch.numpy(), axis=1))\n",
        "\n",
        "print(\"Number of correct answers:\", num_correct)\n",
        "\n",
        "# Compute confusion matrix\n",
        "conf_matrix = np.zeros((predicted_ft_skipgram.shape[1], label_test_torch.numpy().shape[1]), dtype=int)\n",
        "for pred, true in zip(predicted_ft_skipgram, label_test_torch.numpy()):\n",
        "    pred_idx = np.where(pred == 1)[0]\n",
        "    true_idx = np.where(true == 1)[0]\n",
        "    conf_matrix[true_idx[:, None], pred_idx] += 1\n",
        "\n",
        "# Convert confusion matrix to DataFrame\n",
        "conf_matrix_df = pd.DataFrame(conf_matrix, index=['True Positive', 'True Neutral', 'True Negative'],\n",
        "                              columns=['Predicted Positive', 'Predicted Neutral', 'Predicted Negative'])\n",
        "\n",
        "print(\"Confusion matrix:\")\n",
        "print(conf_matrix_df)\n",
        "\n",
        "accuracy_ft_skipgram = num_correct / label_test_torch.numpy().shape[0]\n",
        "accuracy_ft_skipgram_percentage = accuracy_w2v_skipgram * 100\n",
        "\n",
        "print(f\"Accuracy: {accuracy_ft_skipgram_percentage:.2f}%\")\n",
        "\n",
        "# Classification report\n",
        "class_names = [\"positive\", \"neutral\", \"negative\"]\n",
        "cr = classification_report(label_test_torch.numpy(), predicted_ft_skipgram, target_names=class_names)\n",
        "print(\"Classification Report:\")\n",
        "print(cr)"
      ]
    },
    {
      "cell_type": "markdown",
      "metadata": {
        "id": "Y8gcXKyipTb3"
      },
      "source": [
        "# Visualize"
      ]
    },
    {
      "cell_type": "markdown",
      "metadata": {
        "id": "sX-uMb-ISdpw"
      },
      "source": [
        "### Sample 1"
      ]
    },
    {
      "cell_type": "code",
      "execution_count": null,
      "metadata": {
        "id": "emxNPuTuceC0"
      },
      "outputs": [],
      "source": [
        "output_test,weight_test = model(final_test_w2v_skipgram) # the best model\n",
        "weight_test = weight_test.detach().numpy()"
      ]
    },
    {
      "cell_type": "code",
      "execution_count": null,
      "metadata": {
        "colab": {
          "base_uri": "https://localhost:8080/",
          "height": 35
        },
        "id": "CyZJuqDMceAZ",
        "outputId": "a0cd2c06-0d38-40df-962f-b21db973fcb2"
      },
      "outputs": [
        {
          "data": {
            "application/vnd.google.colaboratory.intrinsic+json": {
              "type": "string"
            },
            "text/plain": [
              "'staff'"
            ]
          },
          "execution_count": 103,
          "metadata": {},
          "output_type": "execute_result"
        }
      ],
      "source": [
        "test_aspects[568]"
      ]
    },
    {
      "cell_type": "code",
      "execution_count": null,
      "metadata": {
        "colab": {
          "base_uri": "https://localhost:8080/"
        },
        "id": "el4V7SpBcd92",
        "outputId": "2e5ce26a-5e1b-46f4-a450-7b3f0c04baad"
      },
      "outputs": [
        {
          "data": {
            "text/plain": [
              "['food',\n",
              " 'little',\n",
              " 'difilculty',\n",
              " 'keeping',\n",
              " 'orders',\n",
              " 'straight',\n",
              " 'menu',\n",
              " 'many',\n",
              " 'choicesbut',\n",
              " 'server',\n",
              " 'helpul',\n",
              " 'suggested',\n",
              " 'de',\n",
              " 'paella',\n",
              " 'valenciana',\n",
              " 'extremele',\n",
              " 'delicious']"
            ]
          },
          "execution_count": 104,
          "metadata": {},
          "output_type": "execute_result"
        }
      ],
      "source": [
        "test_reviews[568]"
      ]
    },
    {
      "cell_type": "code",
      "execution_count": null,
      "metadata": {
        "colab": {
          "base_uri": "https://localhost:8080/"
        },
        "id": "Kiiqem08UYUe",
        "outputId": "d28f178d-9711-4fd7-e30b-5e18aa63814a"
      },
      "outputs": [
        {
          "data": {
            "text/plain": [
              "17"
            ]
          },
          "execution_count": 105,
          "metadata": {},
          "output_type": "execute_result"
        }
      ],
      "source": [
        "len(test_reviews[568])"
      ]
    },
    {
      "cell_type": "code",
      "execution_count": null,
      "metadata": {
        "colab": {
          "base_uri": "https://localhost:8080/",
          "height": 35
        },
        "id": "34BF1YdfUY2-",
        "outputId": "7542f078-3f89-4e4b-97db-181d19b84efd"
      },
      "outputs": [
        {
          "data": {
            "application/vnd.google.colaboratory.intrinsic+json": {
              "type": "string"
            },
            "text/plain": [
              "'positive'"
            ]
          },
          "execution_count": 106,
          "metadata": {},
          "output_type": "execute_result"
        }
      ],
      "source": [
        "test_label[568]"
      ]
    },
    {
      "cell_type": "code",
      "execution_count": null,
      "metadata": {
        "colab": {
          "base_uri": "https://localhost:8080/"
        },
        "id": "F28AYqiZaXU_",
        "outputId": "215c4bc1-2251-49eb-89e9-9a5363d1379c"
      },
      "outputs": [
        {
          "data": {
            "text/plain": [
              "array([1.45808357e-07, 1.18855034e-07, 3.92959777e-07, 9.71736426e-07,\n",
              "       1.23186537e-05, 2.24784508e-05, 1.17749396e-05, 9.21095761e-06,\n",
              "       9.08486072e-06, 3.09362367e-05, 2.91735669e-05, 3.26863083e-05,\n",
              "       2.47188927e-05, 2.57164284e-05, 2.91509277e-05, 3.70617563e-05,\n",
              "       3.12992051e-05], dtype=float32)"
            ]
          },
          "execution_count": 126,
          "metadata": {},
          "output_type": "execute_result"
        }
      ],
      "source": [
        "weight_test[568][:17]"
      ]
    },
    {
      "cell_type": "code",
      "execution_count": null,
      "metadata": {
        "colab": {
          "base_uri": "https://localhost:8080/",
          "height": 256
        },
        "id": "t0cUq1IBat_O",
        "outputId": "f2117a4b-0bf5-4f6a-d728-d224be089f19"
      },
      "outputs": [
        {
          "data": {
            "image/png": "[encoded data removed]",
            "text/plain": [
              "<Figure size 1400x200 with 2 Axes>"
            ]
          },
          "metadata": {},
          "output_type": "display_data"
        }
      ],
      "source": [
        "data_reshaped = weight_test[568][:17].reshape(1, -1)\n",
        "\n",
        "\n",
        "# Create the figure and the main axis\n",
        "fig, ax = plt.subplots(figsize=(14, 2))\n",
        "\n",
        "# Create the heatmap with a single color and varying lightness\n",
        "heatmap = sns.heatmap(data_reshaped, cmap='Blues', cbar=False, xticklabels=test_reviews[568])\n",
        "\n",
        "# Add color bar\n",
        "cbar = fig.colorbar(heatmap.get_children()[0], orientation=\"horizontal\", pad=0.55)  # Adjust pad for spacing\n",
        "cbar.set_label('Attention Weight Visualization - Example 1')\n",
        "\n",
        "# Customize the plot\n",
        "ax.set_title('Aspect of this sentence: Staff, Polarity: Positive')\n",
        "ax.set_yticks([])  # Hide the y-axis ticks\n",
        "ax.set_xticklabels(test_reviews[568], rotation=45, ha='right')  # Rotate x-axis labels for better readability\n",
        "\n",
        "# Show the plot\n",
        "plt.show()\n",
        "\n",
        "\n"
      ]
    },
    {
      "cell_type": "markdown",
      "metadata": {
        "id": "0c_7d6bSdM_o"
      },
      "source": [
        "### Sample 2"
      ]
    },
    {
      "cell_type": "code",
      "execution_count": null,
      "metadata": {
        "colab": {
          "base_uri": "https://localhost:8080/",
          "height": 35
        },
        "id": "0p5QL-nBSlqa",
        "outputId": "e36868bf-803f-4166-a196-6ee83787e5da"
      },
      "outputs": [
        {
          "data": {
            "application/vnd.google.colaboratory.intrinsic+json": {
              "type": "string"
            },
            "text/plain": [
              "'service'"
            ]
          },
          "execution_count": 269,
          "metadata": {},
          "output_type": "execute_result"
        }
      ],
      "source": [
        "test_aspects[305]"
      ]
    },
    {
      "cell_type": "code",
      "execution_count": null,
      "metadata": {
        "colab": {
          "base_uri": "https://localhost:8080/"
        },
        "id": "An2wnwtGSlnM",
        "outputId": "9c1ca558-a5c1-44b0-d762-0e5d70cb3467"
      },
      "outputs": [
        {
          "data": {
            "text/plain": [
              "['tried', 'get', 'table', 'restaurant', 'week', 'hour', 'wait']"
            ]
          },
          "execution_count": 270,
          "metadata": {},
          "output_type": "execute_result"
        }
      ],
      "source": [
        "test_reviews[305]"
      ]
    },
    {
      "cell_type": "code",
      "execution_count": null,
      "metadata": {
        "colab": {
          "base_uri": "https://localhost:8080/"
        },
        "id": "h6PShfn_Slhz",
        "outputId": "ca2f1416-73c0-4df5-9f75-8807e88c53a7"
      },
      "outputs": [
        {
          "data": {
            "text/plain": [
              "7"
            ]
          },
          "execution_count": 271,
          "metadata": {},
          "output_type": "execute_result"
        }
      ],
      "source": [
        "len(test_reviews[305])"
      ]
    },
    {
      "cell_type": "code",
      "execution_count": null,
      "metadata": {
        "colab": {
          "base_uri": "https://localhost:8080/",
          "height": 35
        },
        "id": "gm2w2mTvdbPK",
        "outputId": "c847831e-b95b-4b1b-bd61-408d5c7589a5"
      },
      "outputs": [
        {
          "data": {
            "application/vnd.google.colaboratory.intrinsic+json": {
              "type": "string"
            },
            "text/plain": [
              "'negative'"
            ]
          },
          "execution_count": 268,
          "metadata": {},
          "output_type": "execute_result"
        }
      ],
      "source": [
        "test_label[305]"
      ]
    },
    {
      "cell_type": "code",
      "execution_count": null,
      "metadata": {
        "colab": {
          "base_uri": "https://localhost:8080/",
          "height": 256
        },
        "id": "FnURRd2SdbMu",
        "outputId": "865e645a-679d-4e83-874d-463dd6e88d0e"
      },
      "outputs": [
        {
          "data": {
            "image/png": "[encoded data removed]",
            "text/plain": [
              "<Figure size 1400x200 with 2 Axes>"
            ]
          },
          "metadata": {},
          "output_type": "display_data"
        }
      ],
      "source": [
        "data_reshaped = weight_test[305][:7].reshape(1, -1)\n",
        "\n",
        "\n",
        "# Create the figure and the main axis\n",
        "fig, ax = plt.subplots(figsize=(14, 2))\n",
        "\n",
        "# Create the heatmap with a single color and varying lightness\n",
        "heatmap = sns.heatmap(data_reshaped, cmap='Blues', cbar=False, xticklabels=test_reviews[305])\n",
        "\n",
        "# Add color bar\n",
        "cbar = fig.colorbar(heatmap.get_children()[0], orientation=\"horizontal\", pad=0.55)  # Adjust pad for spacing\n",
        "cbar.set_label('Attention Weight Visualization - Example 2')\n",
        "\n",
        "# Customize the plot\n",
        "ax.set_title('Aspect of this sentence: Service, Polarity: Negative')\n",
        "ax.set_yticks([])  # Hide the y-axis ticks\n",
        "ax.set_xticklabels(test_reviews[305], rotation=45, ha='right')  # Rotate x-axis labels for better readability\n",
        "\n",
        "# Show the plot\n",
        "plt.show()\n"
      ]
    }
  ],
  "metadata": {
    "accelerator": "GPU",
    "colab": {
      "collapsed_sections": [
        "MW2dLub4rhq1",
        "lZxKtqQM6OWR"
      ],
      "gpuType": "T4",
      "provenance": [],
      "toc_visible": true,
      "include_colab_link": true
    },
    "kernelspec": {
      "display_name": "Python 3",
      "name": "python3"
    },
    "language_info": {
      "name": "python"
    }
  },
  "nbformat": 4,
  "nbformat_minor": 0
}